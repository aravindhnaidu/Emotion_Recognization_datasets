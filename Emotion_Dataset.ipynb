{
  "nbformat": 4,
  "nbformat_minor": 0,
  "metadata": {
    "colab": {
      "provenance": [],
      "authorship_tag": "ABX9TyMKr/pyL7YPHQHR5aCg3sFM",
      "include_colab_link": true
    },
    "kernelspec": {
      "name": "python3",
      "display_name": "Python 3"
    },
    "language_info": {
      "name": "python"
    }
  },
  "cells": [
    {
      "cell_type": "markdown",
      "metadata": {
        "id": "view-in-github",
        "colab_type": "text"
      },
      "source": [
        "<a href=\"https://colab.research.google.com/github/aravindhnaidu/Emotion_Recognization_datasets/blob/main/Emotion_Dataset.ipynb\" target=\"_parent\"><img src=\"https://colab.research.google.com/assets/colab-badge.svg\" alt=\"Open In Colab\"/></a>"
      ]
    },
    {
      "cell_type": "code",
      "execution_count": 1,
      "metadata": {
        "id": "0rP8GVSRqG95"
      },
      "outputs": [],
      "source": [
        "import numpy as np # linear algebra\n",
        "import pandas as pd"
      ]
    },
    {
      "cell_type": "code",
      "source": [
        "\n",
        "import os\n",
        "for dirname, _, filenames in os.walk('/kaggle/input'):\n",
        "    for filename in filenames:\n",
        "        print(os.path.join(dirname, filename))\n"
      ],
      "metadata": {
        "id": "YpnL1n6RqSQ5"
      },
      "execution_count": 3,
      "outputs": []
    },
    {
      "cell_type": "code",
      "source": [
        "import matplotlib.pyplot as plt\n",
        "import seaborn as sns\n",
        "from nltk import word_tokenize\n",
        "from nltk.corpus import stopwords\n",
        "import spacy\n",
        "nlp = spacy.load(\"en_core_web_sm\")\n",
        "import warnings\n",
        "warnings.filterwarnings('ignore')\n",
        "import re\n",
        "import string\n",
        "import nltk\n",
        "nltk.download('stopwords')\n",
        "\n",
        "\n",
        "from sklearn.model_selection import train_test_split\n",
        "from sklearn.feature_extraction.text import TfidfVectorizer\n",
        "from sklearn.naive_bayes import MultinomialNB\n",
        "from sklearn.ensemble import RandomForestClassifier\n",
        "from sklearn.metrics import accuracy_score, classification_report\n",
        "from sklearn.preprocessing import LabelEncoder"
      ],
      "metadata": {
        "colab": {
          "base_uri": "https://localhost:8080/"
        },
        "id": "HET2sM1iqWA2",
        "outputId": "df8e2210-bac4-40e7-a403-8b6a63b738e6"
      },
      "execution_count": 4,
      "outputs": [
        {
          "output_type": "stream",
          "name": "stderr",
          "text": [
            "[nltk_data] Downloading package stopwords to /root/nltk_data...\n",
            "[nltk_data]   Unzipping corpora/stopwords.zip.\n"
          ]
        }
      ]
    },
    {
      "cell_type": "code",
      "source": [
        "df = pd.read_csv('/Emotion_classify_Data.csv')\n",
        "df"
      ],
      "metadata": {
        "colab": {
          "base_uri": "https://localhost:8080/",
          "height": 423
        },
        "id": "mT01yuQ0qzON",
        "outputId": "d585cd4b-3950-4e5c-c178-f11e6b2f447e"
      },
      "execution_count": 12,
      "outputs": [
        {
          "output_type": "execute_result",
          "data": {
            "text/plain": [
              "                                                Comment Emotion\n",
              "0     i seriously hate one subject to death but now ...    fear\n",
              "1                    im so full of life i feel appalled   anger\n",
              "2     i sit here to write i start to dig out my feel...    fear\n",
              "3     ive been really angry with r and i feel like a...     joy\n",
              "4     i feel suspicious if there is no one outside l...    fear\n",
              "...                                                 ...     ...\n",
              "5932                 i begun to feel distressed for you    fear\n",
              "5933  i left feeling annoyed and angry thinking that...   anger\n",
              "5934  i were to ever get married i d have everything...     joy\n",
              "5935  i feel reluctant in applying there because i w...    fear\n",
              "5936  i just wanted to apologize to you because i fe...   anger\n",
              "\n",
              "[5937 rows x 2 columns]"
            ],
            "text/html": [
              "\n",
              "  <div id=\"df-402a56d7-9b73-49ff-ba42-54811aa19f4a\" class=\"colab-df-container\">\n",
              "    <div>\n",
              "<style scoped>\n",
              "    .dataframe tbody tr th:only-of-type {\n",
              "        vertical-align: middle;\n",
              "    }\n",
              "\n",
              "    .dataframe tbody tr th {\n",
              "        vertical-align: top;\n",
              "    }\n",
              "\n",
              "    .dataframe thead th {\n",
              "        text-align: right;\n",
              "    }\n",
              "</style>\n",
              "<table border=\"1\" class=\"dataframe\">\n",
              "  <thead>\n",
              "    <tr style=\"text-align: right;\">\n",
              "      <th></th>\n",
              "      <th>Comment</th>\n",
              "      <th>Emotion</th>\n",
              "    </tr>\n",
              "  </thead>\n",
              "  <tbody>\n",
              "    <tr>\n",
              "      <th>0</th>\n",
              "      <td>i seriously hate one subject to death but now ...</td>\n",
              "      <td>fear</td>\n",
              "    </tr>\n",
              "    <tr>\n",
              "      <th>1</th>\n",
              "      <td>im so full of life i feel appalled</td>\n",
              "      <td>anger</td>\n",
              "    </tr>\n",
              "    <tr>\n",
              "      <th>2</th>\n",
              "      <td>i sit here to write i start to dig out my feel...</td>\n",
              "      <td>fear</td>\n",
              "    </tr>\n",
              "    <tr>\n",
              "      <th>3</th>\n",
              "      <td>ive been really angry with r and i feel like a...</td>\n",
              "      <td>joy</td>\n",
              "    </tr>\n",
              "    <tr>\n",
              "      <th>4</th>\n",
              "      <td>i feel suspicious if there is no one outside l...</td>\n",
              "      <td>fear</td>\n",
              "    </tr>\n",
              "    <tr>\n",
              "      <th>...</th>\n",
              "      <td>...</td>\n",
              "      <td>...</td>\n",
              "    </tr>\n",
              "    <tr>\n",
              "      <th>5932</th>\n",
              "      <td>i begun to feel distressed for you</td>\n",
              "      <td>fear</td>\n",
              "    </tr>\n",
              "    <tr>\n",
              "      <th>5933</th>\n",
              "      <td>i left feeling annoyed and angry thinking that...</td>\n",
              "      <td>anger</td>\n",
              "    </tr>\n",
              "    <tr>\n",
              "      <th>5934</th>\n",
              "      <td>i were to ever get married i d have everything...</td>\n",
              "      <td>joy</td>\n",
              "    </tr>\n",
              "    <tr>\n",
              "      <th>5935</th>\n",
              "      <td>i feel reluctant in applying there because i w...</td>\n",
              "      <td>fear</td>\n",
              "    </tr>\n",
              "    <tr>\n",
              "      <th>5936</th>\n",
              "      <td>i just wanted to apologize to you because i fe...</td>\n",
              "      <td>anger</td>\n",
              "    </tr>\n",
              "  </tbody>\n",
              "</table>\n",
              "<p>5937 rows × 2 columns</p>\n",
              "</div>\n",
              "    <div class=\"colab-df-buttons\">\n",
              "\n",
              "  <div class=\"colab-df-container\">\n",
              "    <button class=\"colab-df-convert\" onclick=\"convertToInteractive('df-402a56d7-9b73-49ff-ba42-54811aa19f4a')\"\n",
              "            title=\"Convert this dataframe to an interactive table.\"\n",
              "            style=\"display:none;\">\n",
              "\n",
              "  <svg xmlns=\"http://www.w3.org/2000/svg\" height=\"24px\" viewBox=\"0 -960 960 960\">\n",
              "    <path d=\"M120-120v-720h720v720H120Zm60-500h600v-160H180v160Zm220 220h160v-160H400v160Zm0 220h160v-160H400v160ZM180-400h160v-160H180v160Zm440 0h160v-160H620v160ZM180-180h160v-160H180v160Zm440 0h160v-160H620v160Z\"/>\n",
              "  </svg>\n",
              "    </button>\n",
              "\n",
              "  <style>\n",
              "    .colab-df-container {\n",
              "      display:flex;\n",
              "      gap: 12px;\n",
              "    }\n",
              "\n",
              "    .colab-df-convert {\n",
              "      background-color: #E8F0FE;\n",
              "      border: none;\n",
              "      border-radius: 50%;\n",
              "      cursor: pointer;\n",
              "      display: none;\n",
              "      fill: #1967D2;\n",
              "      height: 32px;\n",
              "      padding: 0 0 0 0;\n",
              "      width: 32px;\n",
              "    }\n",
              "\n",
              "    .colab-df-convert:hover {\n",
              "      background-color: #E2EBFA;\n",
              "      box-shadow: 0px 1px 2px rgba(60, 64, 67, 0.3), 0px 1px 3px 1px rgba(60, 64, 67, 0.15);\n",
              "      fill: #174EA6;\n",
              "    }\n",
              "\n",
              "    .colab-df-buttons div {\n",
              "      margin-bottom: 4px;\n",
              "    }\n",
              "\n",
              "    [theme=dark] .colab-df-convert {\n",
              "      background-color: #3B4455;\n",
              "      fill: #D2E3FC;\n",
              "    }\n",
              "\n",
              "    [theme=dark] .colab-df-convert:hover {\n",
              "      background-color: #434B5C;\n",
              "      box-shadow: 0px 1px 3px 1px rgba(0, 0, 0, 0.15);\n",
              "      filter: drop-shadow(0px 1px 2px rgba(0, 0, 0, 0.3));\n",
              "      fill: #FFFFFF;\n",
              "    }\n",
              "  </style>\n",
              "\n",
              "    <script>\n",
              "      const buttonEl =\n",
              "        document.querySelector('#df-402a56d7-9b73-49ff-ba42-54811aa19f4a button.colab-df-convert');\n",
              "      buttonEl.style.display =\n",
              "        google.colab.kernel.accessAllowed ? 'block' : 'none';\n",
              "\n",
              "      async function convertToInteractive(key) {\n",
              "        const element = document.querySelector('#df-402a56d7-9b73-49ff-ba42-54811aa19f4a');\n",
              "        const dataTable =\n",
              "          await google.colab.kernel.invokeFunction('convertToInteractive',\n",
              "                                                    [key], {});\n",
              "        if (!dataTable) return;\n",
              "\n",
              "        const docLinkHtml = 'Like what you see? Visit the ' +\n",
              "          '<a target=\"_blank\" href=https://colab.research.google.com/notebooks/data_table.ipynb>data table notebook</a>'\n",
              "          + ' to learn more about interactive tables.';\n",
              "        element.innerHTML = '';\n",
              "        dataTable['output_type'] = 'display_data';\n",
              "        await google.colab.output.renderOutput(dataTable, element);\n",
              "        const docLink = document.createElement('div');\n",
              "        docLink.innerHTML = docLinkHtml;\n",
              "        element.appendChild(docLink);\n",
              "      }\n",
              "    </script>\n",
              "  </div>\n",
              "\n",
              "\n",
              "<div id=\"df-34e9a02f-b73b-4781-8d35-42b19d50995b\">\n",
              "  <button class=\"colab-df-quickchart\" onclick=\"quickchart('df-34e9a02f-b73b-4781-8d35-42b19d50995b')\"\n",
              "            title=\"Suggest charts\"\n",
              "            style=\"display:none;\">\n",
              "\n",
              "<svg xmlns=\"http://www.w3.org/2000/svg\" height=\"24px\"viewBox=\"0 0 24 24\"\n",
              "     width=\"24px\">\n",
              "    <g>\n",
              "        <path d=\"M19 3H5c-1.1 0-2 .9-2 2v14c0 1.1.9 2 2 2h14c1.1 0 2-.9 2-2V5c0-1.1-.9-2-2-2zM9 17H7v-7h2v7zm4 0h-2V7h2v10zm4 0h-2v-4h2v4z\"/>\n",
              "    </g>\n",
              "</svg>\n",
              "  </button>\n",
              "\n",
              "<style>\n",
              "  .colab-df-quickchart {\n",
              "      --bg-color: #E8F0FE;\n",
              "      --fill-color: #1967D2;\n",
              "      --hover-bg-color: #E2EBFA;\n",
              "      --hover-fill-color: #174EA6;\n",
              "      --disabled-fill-color: #AAA;\n",
              "      --disabled-bg-color: #DDD;\n",
              "  }\n",
              "\n",
              "  [theme=dark] .colab-df-quickchart {\n",
              "      --bg-color: #3B4455;\n",
              "      --fill-color: #D2E3FC;\n",
              "      --hover-bg-color: #434B5C;\n",
              "      --hover-fill-color: #FFFFFF;\n",
              "      --disabled-bg-color: #3B4455;\n",
              "      --disabled-fill-color: #666;\n",
              "  }\n",
              "\n",
              "  .colab-df-quickchart {\n",
              "    background-color: var(--bg-color);\n",
              "    border: none;\n",
              "    border-radius: 50%;\n",
              "    cursor: pointer;\n",
              "    display: none;\n",
              "    fill: var(--fill-color);\n",
              "    height: 32px;\n",
              "    padding: 0;\n",
              "    width: 32px;\n",
              "  }\n",
              "\n",
              "  .colab-df-quickchart:hover {\n",
              "    background-color: var(--hover-bg-color);\n",
              "    box-shadow: 0 1px 2px rgba(60, 64, 67, 0.3), 0 1px 3px 1px rgba(60, 64, 67, 0.15);\n",
              "    fill: var(--button-hover-fill-color);\n",
              "  }\n",
              "\n",
              "  .colab-df-quickchart-complete:disabled,\n",
              "  .colab-df-quickchart-complete:disabled:hover {\n",
              "    background-color: var(--disabled-bg-color);\n",
              "    fill: var(--disabled-fill-color);\n",
              "    box-shadow: none;\n",
              "  }\n",
              "\n",
              "  .colab-df-spinner {\n",
              "    border: 2px solid var(--fill-color);\n",
              "    border-color: transparent;\n",
              "    border-bottom-color: var(--fill-color);\n",
              "    animation:\n",
              "      spin 1s steps(1) infinite;\n",
              "  }\n",
              "\n",
              "  @keyframes spin {\n",
              "    0% {\n",
              "      border-color: transparent;\n",
              "      border-bottom-color: var(--fill-color);\n",
              "      border-left-color: var(--fill-color);\n",
              "    }\n",
              "    20% {\n",
              "      border-color: transparent;\n",
              "      border-left-color: var(--fill-color);\n",
              "      border-top-color: var(--fill-color);\n",
              "    }\n",
              "    30% {\n",
              "      border-color: transparent;\n",
              "      border-left-color: var(--fill-color);\n",
              "      border-top-color: var(--fill-color);\n",
              "      border-right-color: var(--fill-color);\n",
              "    }\n",
              "    40% {\n",
              "      border-color: transparent;\n",
              "      border-right-color: var(--fill-color);\n",
              "      border-top-color: var(--fill-color);\n",
              "    }\n",
              "    60% {\n",
              "      border-color: transparent;\n",
              "      border-right-color: var(--fill-color);\n",
              "    }\n",
              "    80% {\n",
              "      border-color: transparent;\n",
              "      border-right-color: var(--fill-color);\n",
              "      border-bottom-color: var(--fill-color);\n",
              "    }\n",
              "    90% {\n",
              "      border-color: transparent;\n",
              "      border-bottom-color: var(--fill-color);\n",
              "    }\n",
              "  }\n",
              "</style>\n",
              "\n",
              "  <script>\n",
              "    async function quickchart(key) {\n",
              "      const quickchartButtonEl =\n",
              "        document.querySelector('#' + key + ' button');\n",
              "      quickchartButtonEl.disabled = true;  // To prevent multiple clicks.\n",
              "      quickchartButtonEl.classList.add('colab-df-spinner');\n",
              "      try {\n",
              "        const charts = await google.colab.kernel.invokeFunction(\n",
              "            'suggestCharts', [key], {});\n",
              "      } catch (error) {\n",
              "        console.error('Error during call to suggestCharts:', error);\n",
              "      }\n",
              "      quickchartButtonEl.classList.remove('colab-df-spinner');\n",
              "      quickchartButtonEl.classList.add('colab-df-quickchart-complete');\n",
              "    }\n",
              "    (() => {\n",
              "      let quickchartButtonEl =\n",
              "        document.querySelector('#df-34e9a02f-b73b-4781-8d35-42b19d50995b button');\n",
              "      quickchartButtonEl.style.display =\n",
              "        google.colab.kernel.accessAllowed ? 'block' : 'none';\n",
              "    })();\n",
              "  </script>\n",
              "</div>\n",
              "\n",
              "  <div id=\"id_80b4a4c9-5797-436a-9d29-cbede0300cc3\">\n",
              "    <style>\n",
              "      .colab-df-generate {\n",
              "        background-color: #E8F0FE;\n",
              "        border: none;\n",
              "        border-radius: 50%;\n",
              "        cursor: pointer;\n",
              "        display: none;\n",
              "        fill: #1967D2;\n",
              "        height: 32px;\n",
              "        padding: 0 0 0 0;\n",
              "        width: 32px;\n",
              "      }\n",
              "\n",
              "      .colab-df-generate:hover {\n",
              "        background-color: #E2EBFA;\n",
              "        box-shadow: 0px 1px 2px rgba(60, 64, 67, 0.3), 0px 1px 3px 1px rgba(60, 64, 67, 0.15);\n",
              "        fill: #174EA6;\n",
              "      }\n",
              "\n",
              "      [theme=dark] .colab-df-generate {\n",
              "        background-color: #3B4455;\n",
              "        fill: #D2E3FC;\n",
              "      }\n",
              "\n",
              "      [theme=dark] .colab-df-generate:hover {\n",
              "        background-color: #434B5C;\n",
              "        box-shadow: 0px 1px 3px 1px rgba(0, 0, 0, 0.15);\n",
              "        filter: drop-shadow(0px 1px 2px rgba(0, 0, 0, 0.3));\n",
              "        fill: #FFFFFF;\n",
              "      }\n",
              "    </style>\n",
              "    <button class=\"colab-df-generate\" onclick=\"generateWithVariable('df')\"\n",
              "            title=\"Generate code using this dataframe.\"\n",
              "            style=\"display:none;\">\n",
              "\n",
              "  <svg xmlns=\"http://www.w3.org/2000/svg\" height=\"24px\"viewBox=\"0 0 24 24\"\n",
              "       width=\"24px\">\n",
              "    <path d=\"M7,19H8.4L18.45,9,17,7.55,7,17.6ZM5,21V16.75L18.45,3.32a2,2,0,0,1,2.83,0l1.4,1.43a1.91,1.91,0,0,1,.58,1.4,1.91,1.91,0,0,1-.58,1.4L9.25,21ZM18.45,9,17,7.55Zm-12,3A5.31,5.31,0,0,0,4.9,8.1,5.31,5.31,0,0,0,1,6.5,5.31,5.31,0,0,0,4.9,4.9,5.31,5.31,0,0,0,6.5,1,5.31,5.31,0,0,0,8.1,4.9,5.31,5.31,0,0,0,12,6.5,5.46,5.46,0,0,0,6.5,12Z\"/>\n",
              "  </svg>\n",
              "    </button>\n",
              "    <script>\n",
              "      (() => {\n",
              "      const buttonEl =\n",
              "        document.querySelector('#id_80b4a4c9-5797-436a-9d29-cbede0300cc3 button.colab-df-generate');\n",
              "      buttonEl.style.display =\n",
              "        google.colab.kernel.accessAllowed ? 'block' : 'none';\n",
              "\n",
              "      buttonEl.onclick = () => {\n",
              "        google.colab.notebook.generateWithVariable('df');\n",
              "      }\n",
              "      })();\n",
              "    </script>\n",
              "  </div>\n",
              "\n",
              "    </div>\n",
              "  </div>\n"
            ],
            "application/vnd.google.colaboratory.intrinsic+json": {
              "type": "dataframe",
              "variable_name": "df",
              "summary": "{\n  \"name\": \"df\",\n  \"rows\": 5937,\n  \"fields\": [\n    {\n      \"column\": \"Comment\",\n      \"properties\": {\n        \"dtype\": \"string\",\n        \"num_unique_values\": 5934,\n        \"samples\": [\n          \"i male are stupid first for woman cry babies and should get over it and you feel really cool for putting the stupid men in their place\",\n          \"im feeling queezy and cant be bothered putting these in order so here goes\",\n          \"i feel completely agitated\"\n        ],\n        \"semantic_type\": \"\",\n        \"description\": \"\"\n      }\n    },\n    {\n      \"column\": \"Emotion\",\n      \"properties\": {\n        \"dtype\": \"category\",\n        \"num_unique_values\": 3,\n        \"samples\": [\n          \"fear\",\n          \"anger\",\n          \"joy\"\n        ],\n        \"semantic_type\": \"\",\n        \"description\": \"\"\n      }\n    }\n  ]\n}"
            }
          },
          "metadata": {},
          "execution_count": 12
        }
      ]
    },
    {
      "cell_type": "code",
      "source": [
        "print(df.Comment[5])"
      ],
      "metadata": {
        "colab": {
          "base_uri": "https://localhost:8080/"
        },
        "id": "4uu5VpsMtAyf",
        "outputId": "c009b45f-1d39-45b2-c7c1-c2f1d7fa6c5b"
      },
      "execution_count": 13,
      "outputs": [
        {
          "output_type": "stream",
          "name": "stdout",
          "text": [
            "i feel jealous becasue i wanted that kind of love the true connection between two souls and i wanted that\n"
          ]
        }
      ]
    },
    {
      "cell_type": "code",
      "source": [
        "for i in range(20,40):\n",
        "    print(f\"{i+1}: {df['Comment'][i]} -> {df['Emotion'][i]}\")"
      ],
      "metadata": {
        "colab": {
          "base_uri": "https://localhost:8080/"
        },
        "id": "SduxugP6tBYS",
        "outputId": "2906ca5c-43bd-442f-dda8-ca8463f68de8"
      },
      "execution_count": 14,
      "outputs": [
        {
          "output_type": "stream",
          "name": "stdout",
          "text": [
            "21: i hope that the next quote will be able to let my special someone knows what im feeling insecure about and understand that no matter how much i trust -> fear\n",
            "22: i feel much better and without the help of ice -> joy\n",
            "23: i am sitting here typing this and wondering where i belong feeling distracted feeling comfortable feeling misunderstood and hurt -> anger\n",
            "24: i still feel its a little shaky at times and can move into the slightly odd jades hair in particular seems prone to this but generally it works well with spencers writing -> fear\n",
            "25: i stropped about for a bit feeling grumpy because i was missing out -> anger\n",
            "26: i have a feeling i shall go mad -> anger\n",
            "27: i am happpy when i get good results in the field of academics or athletics -> joy\n",
            "28: i got the feeling brig is sincere and has a very strong desire to help others become successful both financially and also through building strengthening relationships through christianity -> joy\n",
            "29: im feeling deeply overwhelmed by these ordinary tasks -> fear\n",
            "30: i feel so grouchy and irritable when im sick -> anger\n",
            "31: i feel my heart shaky all the time now -> fear\n",
            "32: i expect and i feel content with that -> joy\n",
            "33: i feel amused at the absurdity of it all -> joy\n",
            "34: i end up getting unwanted attention from boys i want little to do with or ill be sort of starting something with a boy then find myself flirtiing with others in his presence or ill feel really insincere around boys that i do like -> anger\n",
            "35: i just couldnt help feeling a little bit bitter towards his great big happy grin -> anger\n",
            "36: i go back to my point about what an easy sell getting folk to feel really virtuous for not doing what they dont want to do anyway -> joy\n",
            "37: im feeling a bit more sociable now although i dont think ill be able to express everything i want to say -> joy\n",
            "38: i would feel joyful -> joy\n",
            "39: at a certain situation i felt myself neglected and undeservedly harmed -> anger\n",
            "40: i felt good and feel fine today too -> joy\n"
          ]
        }
      ]
    },
    {
      "cell_type": "code",
      "source": [
        "df.isnull().sum()"
      ],
      "metadata": {
        "colab": {
          "base_uri": "https://localhost:8080/"
        },
        "id": "SmfIoogRtGgh",
        "outputId": "b9fdfc53-5af0-413f-fb66-a886695b7c9d"
      },
      "execution_count": 15,
      "outputs": [
        {
          "output_type": "execute_result",
          "data": {
            "text/plain": [
              "Comment    0\n",
              "Emotion    0\n",
              "dtype: int64"
            ]
          },
          "metadata": {},
          "execution_count": 15
        }
      ]
    },
    {
      "cell_type": "code",
      "source": [
        "df.info()"
      ],
      "metadata": {
        "colab": {
          "base_uri": "https://localhost:8080/"
        },
        "id": "ZgxWYddMtPQA",
        "outputId": "9832c53b-f473-4fe5-be5d-22793f53ae04"
      },
      "execution_count": 16,
      "outputs": [
        {
          "output_type": "stream",
          "name": "stdout",
          "text": [
            "<class 'pandas.core.frame.DataFrame'>\n",
            "RangeIndex: 5937 entries, 0 to 5936\n",
            "Data columns (total 2 columns):\n",
            " #   Column   Non-Null Count  Dtype \n",
            "---  ------   --------------  ----- \n",
            " 0   Comment  5937 non-null   object\n",
            " 1   Emotion  5937 non-null   object\n",
            "dtypes: object(2)\n",
            "memory usage: 92.9+ KB\n"
          ]
        }
      ]
    },
    {
      "cell_type": "code",
      "source": [
        "df.info()"
      ],
      "metadata": {
        "colab": {
          "base_uri": "https://localhost:8080/"
        },
        "id": "YnAiQCTwtP2c",
        "outputId": "0cdba460-d612-4079-dd4e-6a452977e841"
      },
      "execution_count": 17,
      "outputs": [
        {
          "output_type": "stream",
          "name": "stdout",
          "text": [
            "<class 'pandas.core.frame.DataFrame'>\n",
            "RangeIndex: 5937 entries, 0 to 5936\n",
            "Data columns (total 2 columns):\n",
            " #   Column   Non-Null Count  Dtype \n",
            "---  ------   --------------  ----- \n",
            " 0   Comment  5937 non-null   object\n",
            " 1   Emotion  5937 non-null   object\n",
            "dtypes: object(2)\n",
            "memory usage: 92.9+ KB\n"
          ]
        }
      ]
    },
    {
      "cell_type": "code",
      "source": [
        "df.Emotion.value_counts()"
      ],
      "metadata": {
        "colab": {
          "base_uri": "https://localhost:8080/"
        },
        "id": "YH0ztWx-tTPD",
        "outputId": "8fe7a710-79d0-4d2d-8d8c-8e0be7189bec"
      },
      "execution_count": 18,
      "outputs": [
        {
          "output_type": "execute_result",
          "data": {
            "text/plain": [
              "Emotion\n",
              "anger    2000\n",
              "joy      2000\n",
              "fear     1937\n",
              "Name: count, dtype: int64"
            ]
          },
          "metadata": {},
          "execution_count": 18
        }
      ]
    },
    {
      "cell_type": "code",
      "source": [
        "plt.figure(figsize=(6,6))\n",
        "name = ['anger','joy','faer']\n",
        "plt.pie(x = df.Emotion.value_counts(),labels=name ,autopct=\"%1.1f%%\")\n",
        "plt.title('Mode Distribution')\n",
        "plt.show()"
      ],
      "metadata": {
        "colab": {
          "base_uri": "https://localhost:8080/",
          "height": 521
        },
        "id": "ZIvdKQ1wteh6",
        "outputId": "51dcd3c7-b7db-4e28-c2dd-8bd2afc2ce05"
      },
      "execution_count": 19,
      "outputs": [
        {
          "output_type": "display_data",
          "data": {
            "text/plain": [
              "<Figure size 600x600 with 1 Axes>"
            ],
            "image/png": "[encoded data removed]"
          },
          "metadata": {}
        }
      ]
    },
    {
      "cell_type": "code",
      "source": [
        "def preprocess_text(sen):\n",
        "    '''Cleans text data up, leaving only 2 or more char long non-stepwords composed of A-Z & a-z only\n",
        "    in lowercase'''\n",
        "\n",
        "    sentence = sen.lower()\n",
        "    # Remove punctuations and numbers\n",
        "    sentence = re.sub('[^a-zA-Z]', ' ', sentence)\n",
        "    # Single character removal\n",
        "    sentence = re.sub(r\"\\s+[a-zA-Z]\\s+\", ' ', sentence)  # When we remove apostrophe from the word \"Mark's\", the apostrophe is replaced by an empty space. Hence, we are left with single character \"s\" that we are removing here.\n",
        "    # Remove multiple spaces\n",
        "    sentence = re.sub(r'\\s+', ' ', sentence)  # Next, we remove all the single characters and replace it by a space which creates multiple spaces in our text. Finally, we remove the multiple spaces from our text as well.\n",
        "    # Remove Stopwords\n",
        "    pattern = re.compile(r'\\b(' + r'|'.join(stopwords.words('english')) + r')\\b\\s*')\n",
        "    sentence = pattern.sub('', sentence)\n",
        "    return sentence"
      ],
      "metadata": {
        "id": "OGisM83KtiwV"
      },
      "execution_count": 20,
      "outputs": []
    },
    {
      "cell_type": "code",
      "source": [
        "new_Comment = []\n",
        "sentences = list(df.Comment)\n",
        "for i in sentences:\n",
        "    new_Comment.append(preprocess_text(i))"
      ],
      "metadata": {
        "id": "-XYPcYcPtolz"
      },
      "execution_count": 21,
      "outputs": []
    },
    {
      "cell_type": "code",
      "source": [
        "new_Comment[5]"
      ],
      "metadata": {
        "colab": {
          "base_uri": "https://localhost:8080/",
          "height": 36
        },
        "id": "PnUyL0nGttZ3",
        "outputId": "77376a5c-ec9d-4251-a0c4-14cba4787c94"
      },
      "execution_count": 22,
      "outputs": [
        {
          "output_type": "execute_result",
          "data": {
            "text/plain": [
              "'feel jealous becasue wanted kind love true connection two souls wanted '"
            ],
            "application/vnd.google.colaboratory.intrinsic+json": {
              "type": "string"
            }
          },
          "metadata": {},
          "execution_count": 22
        }
      ]
    },
    {
      "cell_type": "code",
      "source": [
        "df['new_Comment'] = new_Comment\n",
        "df"
      ],
      "metadata": {
        "colab": {
          "base_uri": "https://localhost:8080/",
          "height": 423
        },
        "id": "gE3IF81Xtw-f",
        "outputId": "e5b5ac75-3154-48d4-8974-3b2484891572"
      },
      "execution_count": 23,
      "outputs": [
        {
          "output_type": "execute_result",
          "data": {
            "text/plain": [
              "                                                Comment Emotion  \\\n",
              "0     i seriously hate one subject to death but now ...    fear   \n",
              "1                    im so full of life i feel appalled   anger   \n",
              "2     i sit here to write i start to dig out my feel...    fear   \n",
              "3     ive been really angry with r and i feel like a...     joy   \n",
              "4     i feel suspicious if there is no one outside l...    fear   \n",
              "...                                                 ...     ...   \n",
              "5932                 i begun to feel distressed for you    fear   \n",
              "5933  i left feeling annoyed and angry thinking that...   anger   \n",
              "5934  i were to ever get married i d have everything...     joy   \n",
              "5935  i feel reluctant in applying there because i w...    fear   \n",
              "5936  i just wanted to apologize to you because i fe...   anger   \n",
              "\n",
              "                                            new_Comment  \n",
              "0     seriously hate one subject death feel reluctan...  \n",
              "1                            im full life feel appalled  \n",
              "2     sit write start dig feelings think afraid acce...  \n",
              "3     ive really angry feel like idiot trusting firs...  \n",
              "4     feel suspicious one outside like rapture happe...  \n",
              "...                                                 ...  \n",
              "5932                             begun feel distressed   \n",
              "5933  left feeling annoyed angry thinking center stu...  \n",
              "5934  ever get married everything ready offer got to...  \n",
              "5935  feel reluctant applying want able find company...  \n",
              "5936         wanted apologize feel like heartless bitch  \n",
              "\n",
              "[5937 rows x 3 columns]"
            ],
            "text/html": [
              "\n",
              "  <div id=\"df-a544191d-e2c9-49cd-a76e-8e2afb036f83\" class=\"colab-df-container\">\n",
              "    <div>\n",
              "<style scoped>\n",
              "    .dataframe tbody tr th:only-of-type {\n",
              "        vertical-align: middle;\n",
              "    }\n",
              "\n",
              "    .dataframe tbody tr th {\n",
              "        vertical-align: top;\n",
              "    }\n",
              "\n",
              "    .dataframe thead th {\n",
              "        text-align: right;\n",
              "    }\n",
              "</style>\n",
              "<table border=\"1\" class=\"dataframe\">\n",
              "  <thead>\n",
              "    <tr style=\"text-align: right;\">\n",
              "      <th></th>\n",
              "      <th>Comment</th>\n",
              "      <th>Emotion</th>\n",
              "      <th>new_Comment</th>\n",
              "    </tr>\n",
              "  </thead>\n",
              "  <tbody>\n",
              "    <tr>\n",
              "      <th>0</th>\n",
              "      <td>i seriously hate one subject to death but now ...</td>\n",
              "      <td>fear</td>\n",
              "      <td>seriously hate one subject death feel reluctan...</td>\n",
              "    </tr>\n",
              "    <tr>\n",
              "      <th>1</th>\n",
              "      <td>im so full of life i feel appalled</td>\n",
              "      <td>anger</td>\n",
              "      <td>im full life feel appalled</td>\n",
              "    </tr>\n",
              "    <tr>\n",
              "      <th>2</th>\n",
              "      <td>i sit here to write i start to dig out my feel...</td>\n",
              "      <td>fear</td>\n",
              "      <td>sit write start dig feelings think afraid acce...</td>\n",
              "    </tr>\n",
              "    <tr>\n",
              "      <th>3</th>\n",
              "      <td>ive been really angry with r and i feel like a...</td>\n",
              "      <td>joy</td>\n",
              "      <td>ive really angry feel like idiot trusting firs...</td>\n",
              "    </tr>\n",
              "    <tr>\n",
              "      <th>4</th>\n",
              "      <td>i feel suspicious if there is no one outside l...</td>\n",
              "      <td>fear</td>\n",
              "      <td>feel suspicious one outside like rapture happe...</td>\n",
              "    </tr>\n",
              "    <tr>\n",
              "      <th>...</th>\n",
              "      <td>...</td>\n",
              "      <td>...</td>\n",
              "      <td>...</td>\n",
              "    </tr>\n",
              "    <tr>\n",
              "      <th>5932</th>\n",
              "      <td>i begun to feel distressed for you</td>\n",
              "      <td>fear</td>\n",
              "      <td>begun feel distressed</td>\n",
              "    </tr>\n",
              "    <tr>\n",
              "      <th>5933</th>\n",
              "      <td>i left feeling annoyed and angry thinking that...</td>\n",
              "      <td>anger</td>\n",
              "      <td>left feeling annoyed angry thinking center stu...</td>\n",
              "    </tr>\n",
              "    <tr>\n",
              "      <th>5934</th>\n",
              "      <td>i were to ever get married i d have everything...</td>\n",
              "      <td>joy</td>\n",
              "      <td>ever get married everything ready offer got to...</td>\n",
              "    </tr>\n",
              "    <tr>\n",
              "      <th>5935</th>\n",
              "      <td>i feel reluctant in applying there because i w...</td>\n",
              "      <td>fear</td>\n",
              "      <td>feel reluctant applying want able find company...</td>\n",
              "    </tr>\n",
              "    <tr>\n",
              "      <th>5936</th>\n",
              "      <td>i just wanted to apologize to you because i fe...</td>\n",
              "      <td>anger</td>\n",
              "      <td>wanted apologize feel like heartless bitch</td>\n",
              "    </tr>\n",
              "  </tbody>\n",
              "</table>\n",
              "<p>5937 rows × 3 columns</p>\n",
              "</div>\n",
              "    <div class=\"colab-df-buttons\">\n",
              "\n",
              "  <div class=\"colab-df-container\">\n",
              "    <button class=\"colab-df-convert\" onclick=\"convertToInteractive('df-a544191d-e2c9-49cd-a76e-8e2afb036f83')\"\n",
              "            title=\"Convert this dataframe to an interactive table.\"\n",
              "            style=\"display:none;\">\n",
              "\n",
              "  <svg xmlns=\"http://www.w3.org/2000/svg\" height=\"24px\" viewBox=\"0 -960 960 960\">\n",
              "    <path d=\"M120-120v-720h720v720H120Zm60-500h600v-160H180v160Zm220 220h160v-160H400v160Zm0 220h160v-160H400v160ZM180-400h160v-160H180v160Zm440 0h160v-160H620v160ZM180-180h160v-160H180v160Zm440 0h160v-160H620v160Z\"/>\n",
              "  </svg>\n",
              "    </button>\n",
              "\n",
              "  <style>\n",
              "    .colab-df-container {\n",
              "      display:flex;\n",
              "      gap: 12px;\n",
              "    }\n",
              "\n",
              "    .colab-df-convert {\n",
              "      background-color: #E8F0FE;\n",
              "      border: none;\n",
              "      border-radius: 50%;\n",
              "      cursor: pointer;\n",
              "      display: none;\n",
              "      fill: #1967D2;\n",
              "      height: 32px;\n",
              "      padding: 0 0 0 0;\n",
              "      width: 32px;\n",
              "    }\n",
              "\n",
              "    .colab-df-convert:hover {\n",
              "      background-color: #E2EBFA;\n",
              "      box-shadow: 0px 1px 2px rgba(60, 64, 67, 0.3), 0px 1px 3px 1px rgba(60, 64, 67, 0.15);\n",
              "      fill: #174EA6;\n",
              "    }\n",
              "\n",
              "    .colab-df-buttons div {\n",
              "      margin-bottom: 4px;\n",
              "    }\n",
              "\n",
              "    [theme=dark] .colab-df-convert {\n",
              "      background-color: #3B4455;\n",
              "      fill: #D2E3FC;\n",
              "    }\n",
              "\n",
              "    [theme=dark] .colab-df-convert:hover {\n",
              "      background-color: #434B5C;\n",
              "      box-shadow: 0px 1px 3px 1px rgba(0, 0, 0, 0.15);\n",
              "      filter: drop-shadow(0px 1px 2px rgba(0, 0, 0, 0.3));\n",
              "      fill: #FFFFFF;\n",
              "    }\n",
              "  </style>\n",
              "\n",
              "    <script>\n",
              "      const buttonEl =\n",
              "        document.querySelector('#df-a544191d-e2c9-49cd-a76e-8e2afb036f83 button.colab-df-convert');\n",
              "      buttonEl.style.display =\n",
              "        google.colab.kernel.accessAllowed ? 'block' : 'none';\n",
              "\n",
              "      async function convertToInteractive(key) {\n",
              "        const element = document.querySelector('#df-a544191d-e2c9-49cd-a76e-8e2afb036f83');\n",
              "        const dataTable =\n",
              "          await google.colab.kernel.invokeFunction('convertToInteractive',\n",
              "                                                    [key], {});\n",
              "        if (!dataTable) return;\n",
              "\n",
              "        const docLinkHtml = 'Like what you see? Visit the ' +\n",
              "          '<a target=\"_blank\" href=https://colab.research.google.com/notebooks/data_table.ipynb>data table notebook</a>'\n",
              "          + ' to learn more about interactive tables.';\n",
              "        element.innerHTML = '';\n",
              "        dataTable['output_type'] = 'display_data';\n",
              "        await google.colab.output.renderOutput(dataTable, element);\n",
              "        const docLink = document.createElement('div');\n",
              "        docLink.innerHTML = docLinkHtml;\n",
              "        element.appendChild(docLink);\n",
              "      }\n",
              "    </script>\n",
              "  </div>\n",
              "\n",
              "\n",
              "<div id=\"df-bac4a068-68bf-4e56-b9c5-5dab1a849310\">\n",
              "  <button class=\"colab-df-quickchart\" onclick=\"quickchart('df-bac4a068-68bf-4e56-b9c5-5dab1a849310')\"\n",
              "            title=\"Suggest charts\"\n",
              "            style=\"display:none;\">\n",
              "\n",
              "<svg xmlns=\"http://www.w3.org/2000/svg\" height=\"24px\"viewBox=\"0 0 24 24\"\n",
              "     width=\"24px\">\n",
              "    <g>\n",
              "        <path d=\"M19 3H5c-1.1 0-2 .9-2 2v14c0 1.1.9 2 2 2h14c1.1 0 2-.9 2-2V5c0-1.1-.9-2-2-2zM9 17H7v-7h2v7zm4 0h-2V7h2v10zm4 0h-2v-4h2v4z\"/>\n",
              "    </g>\n",
              "</svg>\n",
              "  </button>\n",
              "\n",
              "<style>\n",
              "  .colab-df-quickchart {\n",
              "      --bg-color: #E8F0FE;\n",
              "      --fill-color: #1967D2;\n",
              "      --hover-bg-color: #E2EBFA;\n",
              "      --hover-fill-color: #174EA6;\n",
              "      --disabled-fill-color: #AAA;\n",
              "      --disabled-bg-color: #DDD;\n",
              "  }\n",
              "\n",
              "  [theme=dark] .colab-df-quickchart {\n",
              "      --bg-color: #3B4455;\n",
              "      --fill-color: #D2E3FC;\n",
              "      --hover-bg-color: #434B5C;\n",
              "      --hover-fill-color: #FFFFFF;\n",
              "      --disabled-bg-color: #3B4455;\n",
              "      --disabled-fill-color: #666;\n",
              "  }\n",
              "\n",
              "  .colab-df-quickchart {\n",
              "    background-color: var(--bg-color);\n",
              "    border: none;\n",
              "    border-radius: 50%;\n",
              "    cursor: pointer;\n",
              "    display: none;\n",
              "    fill: var(--fill-color);\n",
              "    height: 32px;\n",
              "    padding: 0;\n",
              "    width: 32px;\n",
              "  }\n",
              "\n",
              "  .colab-df-quickchart:hover {\n",
              "    background-color: var(--hover-bg-color);\n",
              "    box-shadow: 0 1px 2px rgba(60, 64, 67, 0.3), 0 1px 3px 1px rgba(60, 64, 67, 0.15);\n",
              "    fill: var(--button-hover-fill-color);\n",
              "  }\n",
              "\n",
              "  .colab-df-quickchart-complete:disabled,\n",
              "  .colab-df-quickchart-complete:disabled:hover {\n",
              "    background-color: var(--disabled-bg-color);\n",
              "    fill: var(--disabled-fill-color);\n",
              "    box-shadow: none;\n",
              "  }\n",
              "\n",
              "  .colab-df-spinner {\n",
              "    border: 2px solid var(--fill-color);\n",
              "    border-color: transparent;\n",
              "    border-bottom-color: var(--fill-color);\n",
              "    animation:\n",
              "      spin 1s steps(1) infinite;\n",
              "  }\n",
              "\n",
              "  @keyframes spin {\n",
              "    0% {\n",
              "      border-color: transparent;\n",
              "      border-bottom-color: var(--fill-color);\n",
              "      border-left-color: var(--fill-color);\n",
              "    }\n",
              "    20% {\n",
              "      border-color: transparent;\n",
              "      border-left-color: var(--fill-color);\n",
              "      border-top-color: var(--fill-color);\n",
              "    }\n",
              "    30% {\n",
              "      border-color: transparent;\n",
              "      border-left-color: var(--fill-color);\n",
              "      border-top-color: var(--fill-color);\n",
              "      border-right-color: var(--fill-color);\n",
              "    }\n",
              "    40% {\n",
              "      border-color: transparent;\n",
              "      border-right-color: var(--fill-color);\n",
              "      border-top-color: var(--fill-color);\n",
              "    }\n",
              "    60% {\n",
              "      border-color: transparent;\n",
              "      border-right-color: var(--fill-color);\n",
              "    }\n",
              "    80% {\n",
              "      border-color: transparent;\n",
              "      border-right-color: var(--fill-color);\n",
              "      border-bottom-color: var(--fill-color);\n",
              "    }\n",
              "    90% {\n",
              "      border-color: transparent;\n",
              "      border-bottom-color: var(--fill-color);\n",
              "    }\n",
              "  }\n",
              "</style>\n",
              "\n",
              "  <script>\n",
              "    async function quickchart(key) {\n",
              "      const quickchartButtonEl =\n",
              "        document.querySelector('#' + key + ' button');\n",
              "      quickchartButtonEl.disabled = true;  // To prevent multiple clicks.\n",
              "      quickchartButtonEl.classList.add('colab-df-spinner');\n",
              "      try {\n",
              "        const charts = await google.colab.kernel.invokeFunction(\n",
              "            'suggestCharts', [key], {});\n",
              "      } catch (error) {\n",
              "        console.error('Error during call to suggestCharts:', error);\n",
              "      }\n",
              "      quickchartButtonEl.classList.remove('colab-df-spinner');\n",
              "      quickchartButtonEl.classList.add('colab-df-quickchart-complete');\n",
              "    }\n",
              "    (() => {\n",
              "      let quickchartButtonEl =\n",
              "        document.querySelector('#df-bac4a068-68bf-4e56-b9c5-5dab1a849310 button');\n",
              "      quickchartButtonEl.style.display =\n",
              "        google.colab.kernel.accessAllowed ? 'block' : 'none';\n",
              "    })();\n",
              "  </script>\n",
              "</div>\n",
              "\n",
              "  <div id=\"id_c604faec-b419-4ef3-bd3c-afc0b4eb87ce\">\n",
              "    <style>\n",
              "      .colab-df-generate {\n",
              "        background-color: #E8F0FE;\n",
              "        border: none;\n",
              "        border-radius: 50%;\n",
              "        cursor: pointer;\n",
              "        display: none;\n",
              "        fill: #1967D2;\n",
              "        height: 32px;\n",
              "        padding: 0 0 0 0;\n",
              "        width: 32px;\n",
              "      }\n",
              "\n",
              "      .colab-df-generate:hover {\n",
              "        background-color: #E2EBFA;\n",
              "        box-shadow: 0px 1px 2px rgba(60, 64, 67, 0.3), 0px 1px 3px 1px rgba(60, 64, 67, 0.15);\n",
              "        fill: #174EA6;\n",
              "      }\n",
              "\n",
              "      [theme=dark] .colab-df-generate {\n",
              "        background-color: #3B4455;\n",
              "        fill: #D2E3FC;\n",
              "      }\n",
              "\n",
              "      [theme=dark] .colab-df-generate:hover {\n",
              "        background-color: #434B5C;\n",
              "        box-shadow: 0px 1px 3px 1px rgba(0, 0, 0, 0.15);\n",
              "        filter: drop-shadow(0px 1px 2px rgba(0, 0, 0, 0.3));\n",
              "        fill: #FFFFFF;\n",
              "      }\n",
              "    </style>\n",
              "    <button class=\"colab-df-generate\" onclick=\"generateWithVariable('df')\"\n",
              "            title=\"Generate code using this dataframe.\"\n",
              "            style=\"display:none;\">\n",
              "\n",
              "  <svg xmlns=\"http://www.w3.org/2000/svg\" height=\"24px\"viewBox=\"0 0 24 24\"\n",
              "       width=\"24px\">\n",
              "    <path d=\"M7,19H8.4L18.45,9,17,7.55,7,17.6ZM5,21V16.75L18.45,3.32a2,2,0,0,1,2.83,0l1.4,1.43a1.91,1.91,0,0,1,.58,1.4,1.91,1.91,0,0,1-.58,1.4L9.25,21ZM18.45,9,17,7.55Zm-12,3A5.31,5.31,0,0,0,4.9,8.1,5.31,5.31,0,0,0,1,6.5,5.31,5.31,0,0,0,4.9,4.9,5.31,5.31,0,0,0,6.5,1,5.31,5.31,0,0,0,8.1,4.9,5.31,5.31,0,0,0,12,6.5,5.46,5.46,0,0,0,6.5,12Z\"/>\n",
              "  </svg>\n",
              "    </button>\n",
              "    <script>\n",
              "      (() => {\n",
              "      const buttonEl =\n",
              "        document.querySelector('#id_c604faec-b419-4ef3-bd3c-afc0b4eb87ce button.colab-df-generate');\n",
              "      buttonEl.style.display =\n",
              "        google.colab.kernel.accessAllowed ? 'block' : 'none';\n",
              "\n",
              "      buttonEl.onclick = () => {\n",
              "        google.colab.notebook.generateWithVariable('df');\n",
              "      }\n",
              "      })();\n",
              "    </script>\n",
              "  </div>\n",
              "\n",
              "    </div>\n",
              "  </div>\n"
            ],
            "application/vnd.google.colaboratory.intrinsic+json": {
              "type": "dataframe",
              "variable_name": "df",
              "summary": "{\n  \"name\": \"df\",\n  \"rows\": 5937,\n  \"fields\": [\n    {\n      \"column\": \"Comment\",\n      \"properties\": {\n        \"dtype\": \"string\",\n        \"num_unique_values\": 5934,\n        \"samples\": [\n          \"i male are stupid first for woman cry babies and should get over it and you feel really cool for putting the stupid men in their place\",\n          \"im feeling queezy and cant be bothered putting these in order so here goes\",\n          \"i feel completely agitated\"\n        ],\n        \"semantic_type\": \"\",\n        \"description\": \"\"\n      }\n    },\n    {\n      \"column\": \"Emotion\",\n      \"properties\": {\n        \"dtype\": \"category\",\n        \"num_unique_values\": 3,\n        \"samples\": [\n          \"fear\",\n          \"anger\",\n          \"joy\"\n        ],\n        \"semantic_type\": \"\",\n        \"description\": \"\"\n      }\n    },\n    {\n      \"column\": \"new_Comment\",\n      \"properties\": {\n        \"dtype\": \"string\",\n        \"num_unique_values\": 5918,\n        \"samples\": [\n          \"think people little problem expressing help feel afraid let hang express emotions get nearly much airtime\",\n          \"feel distressed music mind rewrite fma op\",\n          \"im feeling little hopeful future like matty always says want world get bigger\"\n        ],\n        \"semantic_type\": \"\",\n        \"description\": \"\"\n      }\n    }\n  ]\n}"
            }
          },
          "metadata": {},
          "execution_count": 23
        }
      ]
    },
    {
      "cell_type": "code",
      "source": [
        "encoder = LabelEncoder()\n",
        "df.Emotion = encoder.fit_transform(df.Emotion)"
      ],
      "metadata": {
        "id": "pBPE-9Wot2uj"
      },
      "execution_count": 24,
      "outputs": []
    },
    {
      "cell_type": "code",
      "source": [
        "x = df.drop([\"Comment\",\"Emotion\"],axis=True)\n",
        "y = df.Emotion"
      ],
      "metadata": {
        "id": "8-9zFUPnt51J"
      },
      "execution_count": 25,
      "outputs": []
    },
    {
      "cell_type": "code",
      "source": [
        "X_train, X_test, y_train, y_test = train_test_split(df['new_Comment'], df['Emotion'],\n",
        "                                                    test_size=0.2, random_state=42, stratify=df['Emotion'])"
      ],
      "metadata": {
        "id": "IWi7XzfIuBEO"
      },
      "execution_count": 26,
      "outputs": []
    },
    {
      "cell_type": "code",
      "source": [
        "print(\"Shape of X_train: \", X_train.shape)\n",
        "print(\"Shape of X_test: \", X_test.shape)"
      ],
      "metadata": {
        "colab": {
          "base_uri": "https://localhost:8080/"
        },
        "id": "gj_JWcybuBoW",
        "outputId": "d43fa418-d3ba-4a42-e8bb-2863a9634554"
      },
      "execution_count": 27,
      "outputs": [
        {
          "output_type": "stream",
          "name": "stdout",
          "text": [
            "Shape of X_train:  (4749,)\n",
            "Shape of X_test:  (1188,)\n"
          ]
        }
      ]
    },
    {
      "cell_type": "code",
      "source": [
        "v = TfidfVectorizer()\n",
        "\n",
        "X_train_cv = v.fit_transform(X_train)\n",
        "X_test_cv = v.transform(X_test)\n",
        "\n",
        "# All TfidfVectorizer vocabularies\n",
        "print(v.vocabulary_)"
      ],
      "metadata": {
        "colab": {
          "base_uri": "https://localhost:8080/"
        },
        "id": "sVQ_DSVMuFlN",
        "outputId": "91d2c955-d898-45ad-f73c-031cf06879d1"
      },
      "execution_count": 28,
      "outputs": [
        {
          "output_type": "stream",
          "name": "stdout",
          "text": [
            "{'thrilled': 6881, 'lot': 4043, 'things': 6864, 'feel': 2518, 'petrified': 4938, 'feeling': 2520, 'grouchy': 2989, 'old': 4664, 'man': 4110, 'mentioned': 4229, 'retail': 5653, 'therapy': 6848, 'great': 2965, 'ive': 3624, 'feelin': 2519, 'cranky': 1501, 'blog': 713, 'im': 3355, 'still': 6464, 'bit': 671, 'childish': 1099, 'already': 204, 'dont': 1976, 'know': 3783, 'address': 94, 'something': 6274, 'else': 2158, 'like': 3949, 'petty': 4941, 'murder': 4423, 'shoudlnt': 6044, 'punished': 5307, 'nearly': 4484, 'heavily': 3144, 'human': 3290, 'beings': 605, 'constantly': 1374, 'shitty': 6021, 'changed': 1046, 'office': 4651, 'another': 276, 'room': 5723, 'without': 7591, 'agreement': 159, 'issues': 3614, 'obvious': 4628, 'went': 7490, 'chinese': 1105, 'yesterday': 7696, 'hostile': 3268, 'towards': 6980, 'get': 2849, 'away': 473, 'days': 1647, 'gag': 2788, 'line': 3965, 'sarcastic': 5802, 'sorry': 6298, 'anyone': 296, 'fortunate': 2700, 'enough': 2239, 'born': 768, 'mexican': 4253, 'compare': 1278, 'mine': 4283, 'irritated': 3600, 'tried': 7039, 'realistic': 5437, 'calm': 927, 'self': 5912, 'really': 5443, 'think': 6865, 'fit': 2595, 'love': 4052, 'talking': 6728, 'patients': 4861, 'trying': 7072, 'help': 3160, 'less': 3907, 'nervous': 4509, 'least': 3880, 'someone': 6270, 'cares': 971, 'minutes': 4290, 'would': 7640, 'confused': 1349, 'waited': 7389, 'long': 4022, 'time': 6910, 'reading': 5428, 'second': 5883, 'book': 755, 'wrong': 7659, 'studio': 6542, 'reluctant': 5563, 'give': 2866, 'clint': 1181, 'money': 4342, 'fund': 2774, 'movie': 4397, 'perspective': 4931, 'japanese': 3644, 'perform': 4904, 'submarine': 6567, 'cartwheel': 983, 'violent': 7349, 'tug': 7082, 'ankle': 262, 'board': 732, 'gets': 2850, 'hauled': 3105, 'beach': 560, 'must': 4434, 'find': 2575, 'way': 7452, 'accept': 32, 'limitations': 3961, 'older': 4665, 'held': 3157, 'back': 487, 'resentful': 5617, 'sometimes': 6277, 'hated': 3098, 'head': 3110, 'cannot': 942, 'proud': 5268, 'grateful': 2958, 'america': 221, 'bring': 828, 'mind': 4279, 'joyful': 3690, 'laughter': 3845, 'well': 7489, 'within': 7590, 'heart': 3130, 'becomes': 578, 'hard': 3075, 'remain': 5566, 'weighed': 7479, 'heavier': 3143, 'negative': 4495, 'feelings': 2522, 'create': 1514, 'piece': 4969, 'similar': 6089, 'improve': 3397, 'spending': 6341, 'background': 489, 'rushed': 5756, 'could': 1458, 'detailed': 1805, 'always': 212, 'perception': 4900, 'asked': 387, 'getting': 2852, 'pregnant': 5153, 'misscariage': 4302, 'walked': 7400, 'conversations': 1420, 'somewhat': 6279, 'offended': 4644, 'equally': 2276, 'morally': 4356, 'outraged': 4737, 'regardless': 5513, 'whether': 7509, 'michigans': 4256, 'new': 4522, 'yorks': 7705, 'governor': 2929, 'sleeping': 6152, 'prostitutes': 5259, 'behind': 601, 'wifes': 7544, 'daughters': 1637, 'backs': 494, 'first': 2590, 'scotty': 5859, 'knew': 3776, 'high': 3187, 'priced': 5187, 'bundle': 876, 'joy': 3689, 'couldnt': 1459, 'apprehensive': 332, 'come': 1243, 'holds': 3213, 'didnt': 1833, 'welcomed': 7487, 'entered': 2246, 'morris': 4365, 'quickly': 5349, 'left': 3889, 'happy': 3073, 'havent': 3107, 'bouncy': 784, 'lately': 3836, 'quietly': 5351, 'keeping': 3736, 'til': 6908, 'phase': 4943, 'passes': 4843, 'hence': 3168, 'almost': 198, 'complete': 1296, 'absence': 18, 'lj': 3994, 'relaxed': 5545, 'playing': 5019, 'carl': 975, 'clarke': 1147, 'says': 5821, 'trust': 7063, 'though': 6872, 'seeing': 5894, 'understand': 7146, 'women': 7599, 'bitchy': 675, 'neither': 4503, 'us': 7258, 'want': 7413, 'deal': 1653, 'shit': 6020, 'thank': 6831, 'pagetitle': 4783, 'popular': 5071, 'news': 4527, 'abc': 7, 'learn': 3875, 'course': 1474, 'useful': 7262, 'right': 5686, 'hesitant': 3177, 'tell': 6781, 'truth': 7068, 'leaving': 3884, 'house': 3274, 'toy': 6983, 'friggin': 2746, 'name': 4456, 'also': 206, 'star': 6418, 'emerge': 2172, 'years': 7688, 'everyone': 2323, 'gonna': 2915, 'one': 4671, 'people': 4894, 'obnoxious': 4622, 'bah': 506, 'honored': 3239, 'remember': 5572, 'frantic': 2721, 'point': 5043, 'need': 4490, 'make': 4099, 'list': 3977, 'leanne': 3872, 'appalled': 315, 'thought': 6873, 'miss': 4301, 'anything': 298, 'kind': 3759, 'insecure': 3484, 'uneasy': 7159, 'skin': 6135, 'peaceful': 4879, 'best': 638, 'nature': 4473, 'unsure': 7223, 'neutral': 4519, 'changing': 1049, 'change': 1045, 'sleep': 6151, 'night': 4542, 'little': 3986, 'agitated': 154, 'eager': 2080, 'greedy': 2970, 'care': 964, 'opened': 4682, 'window': 7561, 'whilst': 7511, 'listening': 3981, 'certain': 1025, 'mariah': 4133, 'carey': 973, 'christmas': 1125, 'classic': 1150, 'radio': 5373, 'pretty': 5179, 'festive': 2538, 'morning': 4362, 'sad': 5769, 'listen': 3978, 'dubstep': 2054, 'damn': 1616, 'mainly': 4093, 'text': 6826, 'much': 4409, 'clever': 1168, 'written': 7658, 'word': 7612, 'rather': 5411, 'spoken': 6370, 'question': 5344, 'puts': 5322, 'edge': 2116, 'bringing': 829, 'dharma': 1825, 'world': 7625, 'vital': 7368, 'necessary': 4486, 'shaky': 5978, 'weak': 7454, 'light': 3942, 'headed': 3113, 'starting': 6426, 'woke': 7596, 'breathe': 812, 'properly': 5253, 'matter': 4169, 'many': 4127, 'deep': 1686, 'breaths': 815, 'took': 6954, 'felt': 2530, 'oxygen': 4768, 'going': 2908, 'heard': 3127, 'mark': 4135, 'got': 2923, 'entrance': 2258, 'examination': 2337, 'realized': 5441, 'admittance': 109, 'university': 7194, 'threatened': 6877, 'anxious': 291, 'become': 577, 'numb': 4600, 'detatched': 1808, 'emotions': 2183, 'environment': 2267, 'cant': 945, 'bear': 564, 'motion': 4374, 'quilting': 5352, 'even': 2312, 'idea': 3329, 'delighted': 1722, 'ago': 155, 'write': 7653, 'character': 1055, 'yet': 7697, 'universe': 7193, 'feels': 2523, 'lively': 3991, 'began': 588, 'hoping': 3253, 'true': 7058, 'characters': 1057, 'overwhelmed': 4761, 'stressed': 6512, 'pressured': 5171, 'inside': 3490, 'magical': 4086, 'happens': 3069, 'take': 6714, 'shoes': 6029, 'go': 2900, 'walk': 7399, 'park': 4821, 'excited': 2351, 'fearful': 2499, 'shaken': 5977, 'weird': 7485, 'yuuki': 7718, 'talks': 6729, 'girls': 2865, 'speech': 6336, 'successful': 6578, 'uplifting': 7242, 'gives': 2870, 'props': 5256, 'graduating': 2941, 'class': 1148, 'id': 3328, 'gotten': 2926, 'friend': 2741, 'deeply': 1688, 'whatever': 7499, 'done': 1974, 'extremely': 2421, 'good': 2916, 'extent': 2415, 'favours': 2495, 'keep': 3735, 'wondering': 7604, 'hitting': 3204, 'walls': 7405, 'grief': 2977, 'loss': 4041, 'fun': 2772, 'enjoying': 2232, 'wonderful': 7602, 'friends': 2743, 'pre': 5137, 'summer': 6607, 'experiences': 2390, 'finally': 2570, 'judged': 3698, 'ridiculed': 5683, 'intelligent': 3525, 'say': 5819, 'start': 6423, 'intimidated': 3559, 'code': 1211, 'vast': 7295, 'everything': 2325, 'hes': 3176, 'casual': 989, 'entire': 2254, 'future': 2785, 'bothered': 774, 'physical': 4952, 'mental': 4225, 'clock': 1184, 'october': 4638, 'posted': 5097, 'super': 6619, 'mom': 4332, 'managed': 4112, 'children': 1101, 'fiance': 2545, 'day': 1642, 'working': 7619, 'amused': 234, 'tired': 6922, 'distressed': 1941, 'mellow': 4214, 'partly': 4833, 'annie': 265, 'churn': 1130, 'kinds': 3763, 'esp': 2288, 'outfit': 4731, 'heels': 3151, 'gorgeous': 2922, 'absurdity': 23, 'strongly': 6528, 'helping': 3162, 'jealous': 3652, 'chance': 1043, 'meet': 4207, 'everyday': 2322, 'liked': 3952, 'scared': 5828, 'jumping': 3707, 'seat': 5881, 'grabbing': 2934, 'arm': 348, 'preferably': 5151, 'male': 4103, 'companion': 1275, 'birthday': 669, 'nostalgic': 4577, 'lost': 4042, 'lbs': 3864, 'january': 3643, 'year': 7686, 'wicked': 7539, 'part': 4826, 'keen': 3733, 'try': 7071, 'clothing': 1192, 'deserve': 1772, 'prayer': 5134, 'considering': 1367, 'act': 69, 'anyway': 299, 'ill': 3350, 'thirty': 6869, 'next': 4531, 'positive': 5088, 'life': 3936, 'choices': 1114, 'making': 4102, 'putting': 5324, 'drove': 2045, 'dannika': 1626, 'school': 5848, 'greeted': 2972, 'turned': 7090, 'corner': 1442, 'totally': 6968, 'trainable': 6999, 'free': 2728, 'chewing': 1093, 'habits': 3027, 'kids': 3753, 'around': 354, 'training': 7000, 'process': 5212, 'confess': 1338, 'losing': 4040, 'dating': 1635, 'important': 3383, 'growing': 2996, 'divine': 1948, 'cared': 965, 'sincere': 6099, 'pretend': 5175, 'comfortable': 1248, 'barely': 535, 'seem': 5896, 'live': 3987, 'middle': 4258, 'coming': 1253, 'terms': 6811, 'likelihood': 3953, 'single': 6105, 'rest': 5643, 'content': 1393, 'thing': 6863, 'two': 7106, 'beginnings': 592, 'cold': 1220, 'figured': 2559, 'heinously': 3156, 'hot': 3269, 'bath': 550, 'tortured': 6963, 'allowed': 195, 'enjoy': 2230, 'food': 2664, 'wake': 7393, 'every': 2320, 'blessed': 701, 'unable': 7126, 'believe': 608, 'lucky': 4065, 'able': 14, 'call': 921, 'amazing': 213, 'family': 2464, 'better': 643, 'never': 4520, 'guessing': 3006, 'decision': 1674, 'remodeled': 5582, 'gratitude': 2960, 'amenities': 220, 'drunk': 2052, 'fab': 2427, 'waxing': 7451, 'moon': 4352, 'quite': 5355, 'different': 1839, 'hidden': 3184, 'sun': 6611, 'terrified': 6816, 'spend': 6340, 'obsessing': 4625, 'decisions': 1675, 'feminism': 2532, 'saving': 5817, 'power': 5111, 'rock': 5712, 'music': 4429, 'bauer': 558, 'proclaims': 5216, 'end': 2208, 'article': 365, 'skeptical': 6130, 'unconvinced': 7141, 'visited': 7362, 'daycare': 1643, 'options': 4703, 'taken': 6716, 'acceptable': 33, 'gym': 3025, 'times': 6913, 'last': 3833, 'spring': 6386, 'used': 7261, 'neurotic': 4518, 'noleans': 4556, 'probably': 5208, 'lacks': 3804, 'diy': 1952, 'art': 364, 'stuff': 6546, 'sorta': 6300, 'wihtout': 7547, 'img': 3364, 'src': 6398, 'http': 3280, 'collected': 1224, 'precious': 5138, 'items': 3620, 'tribute': 7037, 'earth': 2090, 'generosity': 2834, 'spiteful': 6357, 'actually': 85, 'visit': 7361, 'watch': 7440, 'rally': 5386, 'finland': 2584, 'insulted': 3517, 'sit': 6117, 'rammstein': 5388, 'special': 6329, 'lol': 4013, 'amvassago': 235, 'stop': 6484, 'laughing': 3844, 'ever': 2319, 'read': 5425, 'see': 5893, 'beefy': 585, 'amkris': 226, 'toshibalol': 6964, 'amits': 225, 'epic': 2271, 'beef': 584, 'cake': 917, 'nooo': 4566, 'spent': 6342, 'vacation': 7280, 'heartbroken': 3132, 'hug': 3284, 'drink': 2033, 'beer': 586, 'together': 6936, 'comes': 1246, 'center': 1020, 'timid': 6915, 'speak': 6325, 'except': 2345, 'underground': 7143, 'murmurs': 4424, 'repentant': 5595, 'past': 4850, 'opposition': 4697, 'civil': 1141, 'rights': 5688, 'emotionally': 2181, 'distraught': 1939, 'concentrate': 1316, 'dangerous': 1623, 'apply': 325, 'strategy': 6503, 'match': 4163, 'vulnerable': 7385, 'sharing': 5989, 'hit': 3203, 'publish': 5288, 'button': 903, 'upset': 7248, 'situation': 6124, 'girl': 2863, 'hoped': 3246, 'uncertain': 7133, 'hate': 3097, 'looking': 4030, 'existing': 2376, 'symbol': 6688, 'hurt': 3309, 'somebody': 6268, 'pretended': 5176, 'lied': 3934, 'treassured': 7022, 'abit': 13, 'rebellious': 5453, 'continue': 1401, 'project': 5237, 'returned': 5660, 'home': 3224, 'invigorated': 3578, 'wanting': 7415, 'smug': 6201, 'continuing': 1404, 'resolution': 5625, 'use': 7260, 'huge': 3285, 'paper': 4805, 'stack': 6403, 'cut': 1594, 'heres': 3171, 'latest': 3838, 'offering': 4649, 'using': 7267, 'graphic': 2953, 'curtain': 1588, 'papers': 4806, 'intermittent': 3545, 'lacklustre': 3803, 'pen': 4887, 'thoughts': 6874, 'shes': 6006, 'nice': 4534, 'material': 4165, 'started': 6424, 'doubtful': 1994, 'sat': 5807, 'disappointed': 1878, 'wax': 7449, 'draw': 2017, 'unibrow': 7181, 'maybe': 4173, 'rid': 5679, 'spare': 6319, 'hairs': 3037, 'creeping': 1529, 'toward': 6979, 'eyelid': 2425, 'brave': 802, 'admit': 108, 'scoffing': 5853, 'superior': 6621, 'christians': 1123, 'saying': 5820, 'agree': 157, 'rude': 5740, 'writing': 7657, 'brokeup': 839, 'finding': 2576, 'person': 4923, 'kinda': 3760, 'disgusted': 1903, 'thankful': 6833, 'seems': 5899, 'wrap': 7647, 'week': 7473, 'job': 3669, 'lives': 3992, 'supermarkets': 6624, 'banks': 526, 'dentists': 1745, 'etc': 2296, 'paranoid': 4812, 'others': 4723, 'defriended': 1710, 'ted': 6770, 'inspired': 3502, 'greater': 2966, 'found': 2707, 'simplicity': 6093, 'work': 7615, 'balance': 508, 'ken': 3739, 'angry': 254, 'innocent': 3479, 'roller': 5717, 'coaster': 1208, 'craziness': 1511, 'throne': 6884, 'lady': 3808, 'means': 4187, 'killing': 3756, 'absolutely': 20, 'assured': 416, 'informing': 3461, 'hands': 3057, 'set': 5960, 'ne': 4482, 'travel': 7017, 'men': 4223, 'expect': 2381, 'superficial': 6620, 'easy': 2100, 'weakness': 7457, 'song': 6282, 'joke': 3675, 'hear': 3126, 'strange': 6497, 'friendly': 2742, 'sort': 6299, 'intellectual': 3523, 'target': 6735, 'annoying': 271, 'buy': 905, 'synthetic': 6697, 'pearls': 4881, 'elegant': 2150, 'jewelry': 3664, 'trinkets': 7047, 'market': 4136, 'position': 5085, 'traders': 6990, 'side': 6069, 'put': 5321, 'forward': 2704, 'social': 6241, 'diktats': 1848, 'authority': 455, 'hiding': 3186, 'blurting': 731, 'tones': 6948, 'distracted': 1936, 'remind': 5577, 'energetic': 2218, 'rested': 5646, 'lil': 3957, 'uptight': 7253, 'sucky': 6585, 'reason': 5445, 'shape': 5983, 'became': 576, 'increasingly': 3429, 'frustrated': 2757, 'daily': 1609, 'accumulation': 54, 'body': 739, 'fat': 2483, 'elusive': 2160, 'tips': 6919, 'given': 2868, 'especially': 2289, 'parents': 4818, 'young': 7708, 'loved': 4053, 'jobs': 3670, 'truly': 7061, 'co': 1205, 'workers': 7618, 'weeks': 7477, 'genuinely': 2842, 'connect': 1353, 'instead': 3508, 'withdrawing': 7589, 'band': 517, 'violently': 7350, 'lyrics': 4077, 'musically': 4431, 'made': 4083, 'difference': 1837, 'finger': 2579, 'ring': 5692, 'softer': 6252, 'wont': 7607, 'support': 6627, 'financially': 2573, 'cringe': 1537, 'chained': 1031, 'desk': 1783, 'performing': 4908, 'wrote': 7663, 'creativity': 1520, 'matters': 4170, 'begun': 594, 'irrationally': 3594, 'strong': 6526, 'bright': 825, 'milestones': 4271, 'early': 2085, 'gut': 3020, 'woman': 7598, 'god': 2903, 'sheri': 6004, 'shares': 5987, 'letters': 3918, 'king': 3764, 'marketer': 4137, 'investigate': 3574, 'makes': 4100, 'consumers': 1383, 'either': 2143, 'sociable': 6240, 'bitter': 680, 'supposed': 6633, 'providing': 5275, 'privileged': 5204, 'space': 6314, 'realizing': 5442, 'talked': 6727, 'signing': 6082, 'contract': 1407, 'opening': 4683, 'passages': 4839, 'may': 4172, 'strike': 6516, 'reader': 5426, 'singular': 6107, 'far': 2474, 'fetched': 2540, 'circumstances': 1137, 'impossible': 3386, 'glad': 2873, 'sing': 6101, 'anymore': 295, 'control': 1413, 'ok': 4661, 'grumpy': 3000, 'fabulous': 2430, 'birding': 667, 'weekend': 7474, 'neglected': 4498, 'undeservedly': 7153, 'harmed': 3084, 'whole': 7527, 'harvest': 3091, 'attempting': 430, 'style': 6556, 'hair': 3036, 'completely': 1298, 'ruined': 5745, 'minute': 4289, 'walking': 7401, 'outside': 4739, 'damp': 1617, 'air': 169, 'envious': 2266, 'writers': 7655, 'responsible': 5642, 'picking': 4960, 'occasion': 4630, 'reminds': 5580, 'threaten': 6876, 'break': 805, 'pattern': 4866, 'conducting': 1336, 'hadnt': 3031, 'appeared': 321, 'nowhere': 4595, 'noticed': 4586, 'none': 4562, 'happened': 3066, 'gather': 2810, 'blocks': 712, 'tuck': 7079, 'belly': 615, 'red': 5479, 'hen': 3167, 'coo': 1424, 'cuddle': 1567, 'soft': 6250, 'baby': 485, 'doll': 1967, 'look': 4027, 'interest': 3539, 'babies': 484, 'firstborn': 2591, 'ten': 6796, 'shut': 6061, 'jump': 3705, 'cross': 1544, 'beam': 563, 'metres': 4251, 'stab': 6401, 'loneliness': 4019, 'perfect': 4902, 'area': 343, 'motherhood': 4371, 'phone': 4947, 'fri': 2737, 'shannon': 5982, 'telling': 6782, 'cried': 1532, 'secure': 5891, 'swing': 6680, 'incredibly': 3431, 'graceful': 2936, 'sexy': 5971, 'pose': 5083, 'impatient': 3374, 'final': 2568, 'post': 5096, 'four': 2712, 'tangible': 6731, 'results': 5650, 'exciting': 2354, 'philips': 4944, 'reaura': 5451, 'firming': 2589, 'smoothing': 6198, 'definitely': 1705, 'posting': 5098, 'problem': 5210, 'cry': 1561, 'eat': 2101, 'black': 683, 'rice': 5677, 'books': 759, 'sell': 5914, 'impressionable': 3392, 'emotional': 2180, 'ask': 386, 'checking': 1078, 'hemorrhoids': 3166, 'wide': 7540, 'open': 4681, 'design': 1774, 'therefore': 6850, 'vindictive': 7342, 'bitch': 672, 'landed': 3820, 'dubai': 2053, 'teenager': 6774, 'third': 6868, 'wave': 7447, 'cafe': 911, 'run': 5748, 'mill': 4274, 'restaurant': 5644, 'personality': 4926, 'members': 4220, 'hateful': 3099, 'language': 3822, 'remotely': 5583, 'related': 5533, 'homosexuality': 3232, 'pleased': 5027, 'pills': 4979, 'yoga': 7703, 'homework': 3231, 'shy': 6063, 'afraid': 141, 'view': 7332, 'worldly': 7626, 'big': 653, 'ready': 5431, 'tomorrow': 6944, 'rich': 5678, 'yup': 7717, 'waiting': 7390, 'bearable': 565, 'wimpy': 7557, 'complaining': 1292, 'taking': 6720, 'credits': 1526, 'semester': 5917, 'regularly': 5521, 'sucks': 6584, 'passed': 4840, 'brother': 842, 'grandparents': 2951, 'month': 4346, 'cool': 1429, 'store': 6488, 'indecisive': 3433, 'highschool': 3192, 'adventurous': 124, 'ordered': 4706, 'seafood': 5875, 'paella': 4779, 'lemonade': 3897, 'arrived': 360, 'kicked': 3749, 'glass': 2881, 'sangria': 5797, 'wronged': 7660, 'death': 1658, 'completed': 1297, 'card': 962, 'guess': 3004, 'input': 3480, 'tonight': 6951, 'knitting': 3780, 'since': 6098, 'stitching': 6476, 'thats': 6840, 'half': 3040, 'shopping': 6034, 'today': 6931, 'worrying': 7632, 'details': 1807, 'goes': 2907, 'fairy': 2450, 'lights': 3948, 'delivered': 1725, 'wait': 7388, 'tree': 7028, 'games': 2798, 'activities': 78, 'lock': 4003, 'lifeline': 3937, 'loop': 4032, 'cleat': 1165, 'piling': 4977, 'gas': 2807, 'spark': 6320, 'plug': 5033, 'covering': 1482, 'hole': 3214, 'duct': 2056, 'tape': 6734, 'sets': 5962, 'wedding': 7470, 'rings': 5694, 'recently': 5459, 'personal': 4925, 'jewellery': 3663, 'buys': 907, 'cos': 1451, 'isnt': 3607, 'answering': 281, 'valuable': 7288, 'fragile': 2714, 'pain': 4786, 'tears': 6764, 'randomly': 5392, 'cd': 1013, 'listened': 3979, 'show': 6053, 'wanna': 7412, 'costly': 1453, 'futile': 2783, 'whats': 7500, 'harms': 3088, 'till': 6909, 'carefree': 967, 'justly': 3719, 'hand': 3047, 'sits': 6121, 'close': 1185, 'told': 6938, 'yeah': 7685, 'bully': 869, 'powerful': 5112, 'physically': 4953, 'thrill': 6880, 'whenever': 7504, 'guys': 3024, 'couple': 1471, 'productive': 5222, 'suspicious': 6661, 'mornings': 4363, 'snooze': 6224, 'creative': 1518, 'inhibited': 3466, 'satisfied': 5809, 'full': 2767, 'longer': 4023, 'snacking': 6202, 'later': 3837, 'parent': 4816, 'talk': 6725, 'teacher': 6757, 'child': 1097, 'immediately': 3367, 'guilt': 3010, 'selfish': 5913, 'practical': 5118, 'appears': 322, 'outgoing': 4733, 'ease': 2093, 'needed': 4491, 'chest': 1092, 'win': 7558, 'war': 7417, 'predatory': 5144, 'deform': 1708, 'created': 1515, 'paint': 4790, 'owl': 4766, 'intention': 3529, 'simple': 6092, 'templates': 6788, 'owls': 4767, 'easily': 2098, 'blank': 693, 'canvas': 948, 'wonder': 7600, 'sadness': 5773, 'holiday': 3216, 'holly': 3221, 'jolly': 3678, 'knowingly': 3785, 'wound': 7643, 'seek': 5895, 'nap': 4459, 'fix': 2600, 'wish': 7582, 'gervase': 2847, 'piped': 4986, 'mad': 4082, 'ball': 511, 'sunshine': 6617, 'although': 209, 'dorky': 1987, 'unfit': 7171, 'rotund': 5730, 'sloth': 6170, 'buffed': 862, 'fierce': 2552, 'bloke': 719, 'aware': 471, 'terrible': 6813, 'happen': 3065, 'soon': 6289, 'everythings': 2326, 'resolved': 5627, 'psychically': 5282, 'galvanised': 2795, 'prepared': 5157, 'wrestle': 7650, 'ground': 2990, 'yeast': 7690, 'infection': 3451, 'vagina': 7281, 'due': 2057, 'diet': 1836, 'eating': 2106, 'lots': 4044, 'sugary': 6596, 'foods': 2666, 'junior': 3710, 'doctors': 1959, 'bunking': 878, 'stopped': 6485, 'fine': 2578, 'insane': 3482, 'liking': 3956, 'wasnt': 7436, 'housewife': 3276, 'explain': 2395, 'eaten': 2102, 'restaurants': 5645, 'cheaper': 1073, 'delicious': 1720, 'eateries': 2104, 'lacking': 3802, 'spice': 6344, 'flavor': 2613, 'places': 4997, 'currently': 1585, 'crap': 1503, 'face': 2431, 'lest': 3911, 'ringing': 5693, 'sick': 6066, 'holidays': 3217, 'compere': 1286, 'party': 4837, 'efforts': 2132, 'rolling': 5718, 'thwarted': 6895, 'immobile': 3371, 'failure': 2446, 'fucked': 2760, 'medically': 4199, 'artistic': 372, 'mood': 4349, 'manitz': 4122, 'circle': 1133, 'dot': 1990, 'bigger': 654, 'accent': 30, 'spanish': 6318, 'pissed': 4989, 'sure': 6636, 'might': 4262, 'explains': 2397, 'kitchen': 3769, 'corners': 1443, 'irresistable': 3597, 'bed': 581, 'virtual': 7354, 'silence': 6084, 'constant': 1373, 'noise': 4554, 'chatter': 1070, 'prayed': 5133, 'sitting': 6123, 'dallas': 1611, 'watching': 7443, 'story': 6493, 'unfold': 7173, 'york': 7704, 'helpless': 3163, 'let': 3913, 'obstacle': 4627, 'kept': 3740, 'leaden': 3866, 'block': 709, 'placed': 4996, 'clear': 1162, 'path': 4855, 'anothers': 277, 'arms': 352, 'temporarily': 6791, 'ashamed': 381, 'guilty': 3011, 'assaulted': 395, 'fact': 2435, 'forget': 2683, 'learnt': 3879, 'mailman': 4089, 'handing': 3052, 'enraged': 2240, 'snowglobe': 6228, 'flying': 2648, 'apologise': 311, 'advance': 119, 'angered': 251, 'following': 2661, 'came': 931, 'discovered': 1892, 'sister': 6115, 'borrowed': 770, 'car': 957, 'accident': 39, 'front': 2752, 'bumper': 874, 'destroyed': 1800, 'aint': 168, 'fuckin': 2761, 'often': 4656, 'throw': 6887, 'refusing': 5507, 'hurtful': 3310, 'sniping': 6217, 'concerned': 1321, 'circumstance': 1136, 'fabrics': 2429, 'sooooooooooo': 6293, 'moment': 4333, 'dwelling': 2076, 'current': 1584, 'state': 6434, 'place': 4995, 'presents': 5166, 'workload': 7621, 'avoiding': 466, 'limited': 3962, 'arrangment': 358, 'contributed': 1411, 'success': 6577, 'ignore': 3345, 'contributions': 1412, 'treadmill': 7021, 'running': 5751, 'lose': 4039, 'ability': 12, 'segregate': 5903, 'actions': 73, 'father': 2486, 'husband': 3313, 'hero': 3172, 'uncomfortable': 7138, 'syndrome': 6696, 'begin': 590, 'internally': 3546, 'nauseous': 4478, 'experienced': 2389, 'shortness': 6041, 'breath': 811, 'portrayal': 5080, 'jesus': 3661, 'gratuitously': 2961, 'grappled': 2955, 'relatives': 5542, 'usually': 7270, 'communicate': 1268, 'ignoring': 3347, 'burlesque': 886, 'updates': 7239, 'photos': 4950, 'links': 3970, 'public': 5287, 'forum': 2702, 'indeed': 3434, 'difficult': 1841, 'struggles': 6534, 'unmentioned': 7203, 'narrative': 4462, 'unity': 7191, 'experience': 2388, 'including': 3418, 'highlights': 3190, 'challenges': 1039, 'tv': 7094, 'everyones': 2324, 'cup': 1575, 'tea': 6755, 'includes': 3417, 'scroll': 5871, 'totality': 6967, 'gifts': 2857, 'competing': 1288, 'somehow': 6269, 'polishes': 5054, 'jacked': 3629, 'instantly': 3507, 'glamorous': 2874, 'pulling': 5295, 'handbag': 3048, 'sachaying': 5765, 'irritable': 3599, 'def': 1689, 'cure': 1579, 'courthouses': 1478, 'designed': 1775, 'intimidate': 3558, 'ended': 2211, 'cheerfully': 1085, 'chatting': 1071, 'judge': 3697, 'chambers': 1041, 'drained': 2013, 'hungry': 3306, 'role': 5714, 'fan': 2466, 'game': 2796, 'egan': 2134, 'tells': 6783, 'kurt': 3794, 'familiar': 2462, 'faces': 2433, 'church': 1127, 'wanted': 7414, 'stay': 6442, 'clingy': 1178, 'meeting': 4208, 'wig': 7545, 'however': 3277, 'account': 50, 'models': 4324, 'beautiful': 573, 'private': 5203, 'personally': 4928, 'millennia': 4275, 'brainstorming': 797, 'particular': 4831, 'three': 6878, 'vices': 7322, 'desire': 1780, 'reigns': 5523, 'difficulty': 1842, 'waves': 7448, 'orgasmic': 4716, 'stupor': 6554, 'envelops': 2265, 'videotape': 7330, 'shake': 5976, 'beneath': 627, 'jacket': 3630, 'vibe': 7318, 'doesnt': 1963, 'mesh': 4238, 'clothes': 1191, 'wear': 7460, 'looked': 4028, 'awful': 475, 'dark': 1628, 'eye': 2423, 'brows': 847, 'cute': 1595, 'stubborn': 6536, 'ones': 4673, 'someones': 6271, 'unjust': 7195, 'angst': 255, 'yelping': 7694, 'passion': 4845, 'initial': 3469, 'connection': 1355, 'emo': 2177, 'said': 5780, 'uh': 7119, 'pull': 5293, 'scream': 5863, 'lie': 3932, 'stranger': 6499, 'approach': 333, 'called': 922, 'worried': 7629, 'hopefully': 3248, 'scales': 5825, 'nicer': 4536, 'number': 4601, 'wherein': 7506, 'practically': 5119, 'option': 4702, 'drama': 2014, 'girlfriend': 2864, 'apt': 340, 'late': 3835, 'fashioned': 2478, 'graphics': 2954, 'illustrations': 3354, 'painting': 4791, 'consider': 1363, 'real': 5433, 'profession': 5225, 'teaching': 6760, 'poetry': 5042, 'troubled': 7057, 'poor': 5066, 'moaning': 4320, 'bag': 502, 'bathroom': 552, 'cluttered': 1203, 'terrorised': 6820, 'modes': 4326, 'camp': 934, 'site': 6118, 'realised': 5435, 'gift': 2856, 'accommodation': 41, 'services': 5956, 'anxieties': 289, 'count': 1465, 'slightly': 6161, 'optimistic': 4701, 'rely': 5564, 'instincts': 3512, 'intellect': 3522, 'doubt': 1993, 'intuition': 3566, 'compete': 1287, 'justify': 3716, 'clearly': 1164, 'fashion': 2477, 'boundaries': 785, 'conversation': 1419, 'confidence': 1340, 'strength': 6508, 'lay': 3857, 'level': 3921, 'unrest': 7213, 'fill': 2563, 'scabi': 5822, 'verona': 7312, 'hope': 3245, 'inspiration': 3500, 'motivation': 4378, 'fasts': 2482, 'burner': 889, 'focus': 2650, 'raising': 5385, 'abandoned': 4, 'reality': 5438, 'age': 147, 'libertine': 3928, 'breeze': 817, 'peter': 4936, 'recent': 5458, 'decidedly': 1672, 'egalitarian': 2133, 'feminist': 2533, 'christian': 1121, 'blogs': 718, 'jonalyn': 3679, 'finchers': 2574, 'href': 3278, 'soulation': 6303, 'brain': 796, 'refuse': 5504, 'loud': 4047, 'alone': 200, 'rate': 5410, 'publisher': 5290, 'snobbish': 6221, 'jeanette': 3654, 'winterson': 7574, 'essentially': 2293, 'scope': 5855, 'explore': 2402, 'serious': 5948, 'healthcare': 3123, 'plan': 5000, 'tramples': 7002, 'beliefs': 607, 'soul': 6302, 'calling': 924, 'beloved': 621, 'refrigerator': 5502, 'cleaned': 1158, 'particularly': 4832, 'group': 2993, 'sign': 6078, 'courage': 1473, 'round': 5732, 'arent': 346, 'fleshed': 2620, 'fluttering': 2646, 'zumba': 7734, 'hour': 3271, 'possible': 5094, 'decided': 1671, 'cajoled': 916, 'bullied': 868, 'evening': 2313, 'bashful': 543, 'milestone': 4270, 'race': 5364, 'novice': 4594, 'amp': 232, 'caring': 974, 'cornish': 1444, 'cornwall': 1445, 'memory': 4222, 'suffer': 6590, 'produce': 5218, 'worthwhile': 7638, 'share': 5985, 'grow': 2995, 'wings': 7567, 'fly': 2647, 'stupidly': 6553, 'talented': 6724, 'eagles': 2081, 'positions': 5087, 'dangerously': 1624, 'thin': 6862, 'criticism': 1540, 'lunch': 4070, 'stinks': 6471, 'comments': 1258, 'embarrassed': 2168, 'depressed': 1757, 'letting': 3919, 'easier': 2096, 'default': 1690, 'annoyed': 270, 'treated': 7024, 'lathi': 3839, 'charged': 1059, 'grounds': 2992, 'knight': 3777, 'shining': 6015, 'denim': 1738, 'wouldnt': 7641, 'amount': 230, 'horses': 3262, 'whose': 7537, 'jaws': 3648, 'jammed': 3639, 'excessive': 2348, 'nosebands': 4576, 'along': 201, 'considerable': 1364, 'metal': 4245, 'mouths': 4392, 'safe': 5774, 'appreciated': 329, 'november': 4593, 'suppose': 6632, 'inevitable': 3448, 'ran': 5390, 'steam': 6448, 'hummpffff': 3299, 'flash': 2606, 'score': 5856, 'furious': 2780, 'advocates': 129, 'die': 1834, 'lobbying': 4000, 'supporting': 6629, 'politicians': 5059, 'sympathic': 6689, 'views': 7336, 'attention': 433, 'interests': 3542, 'focused': 2651, 'convinced': 1422, 'execution': 2359, 'themes': 6844, 'large': 3829, 'fathom': 2487, 'emotionless': 2182, 'pit': 4991, 'craving': 1507, 'queen': 5340, 'tasked': 6739, 'rule': 5746, 'nation': 4467, 'miscreants': 4295, 'exactly': 2335, 'triumphant': 7051, 'pride': 5188, 'stand': 6414, 'counter': 1467, 'achieving': 63, 'honor': 3238, 'female': 2531, 'redhead': 5482, 'boot': 761, 'rapture': 5405, 'bore': 765, 'restless': 5647, 'learned': 3876, 'mean': 4184, 'outing': 4734, 'catch': 994, 'demands': 1730, 'males': 4104, 'pushing': 5319, 'spinning': 6351, 'dance': 1619, 'beat': 569, 'drum': 2051, 'touch': 6971, 'pleasing': 5028, 'afterwards': 146, 'plain': 4999, 'tank': 6732, 'top': 6957, 'loose': 4033, 'bottoms': 779, 'zara': 7721, 'finished': 2582, 'blogging': 716, 'checked': 1077, 'dissatisfied': 1929, 'career': 966, 'goals': 2902, 'creatively': 1519, 'stimulating': 6468, 'fulfilling': 2766, 'confident': 1341, 'pursuing': 5315, 'education': 2122, 'trip': 7048, 'sweet': 6670, 'snuggles': 6230, 'idiot': 3336, 'bunch': 875, 'keys': 3743, 'nick': 4537, 'forgetting': 2684, 'snake': 6205, 'flower': 2641, 'grab': 2932, 'players': 5017, 'expectation': 2382, 'player': 5016, 'clicking': 1172, 'ugliness': 7117, 'society': 6244, 'enacting': 2200, 'succumb': 6579, 'docs': 1957, 'insults': 3519, 'arrogance': 362, 'favor': 2491, 'clarify': 1145, 'health': 3122, 'cherish': 1090, 'hold': 3211, 'shaun': 5995, 'dlpt': 1954, 'protected': 5261, 'small': 6179, 'season': 5879, 'words': 7613, 'remix': 5581, 'result': 5648, 'irreplaceable': 3596, 'settle': 5963, 'idrc': 3340, 'cover': 1480, 'cash': 985, 'protect': 5260, 'belongings': 620, 'shouldnt': 6048, 'laundering': 3847, 'childlike': 1100, 'playful': 5018, 'silly': 6087, 'honoured': 3240, 'luckily': 4064, 'cards': 963, 'classroom': 1153, 'joking': 3677, 'appreciate': 328, 'packing': 4778, 'move': 4393, 'posts': 5100, 'massively': 4159, 'downvoted': 2001, 'rugmi': 5744, 'images': 3358, 'warm': 7421, 'eyes': 2426, 'strengths': 6510, 'determined': 1811, 'motivated': 4376, 'workout': 7622, 'immensely': 3370, 'keeps': 3737, 'harder': 3079, 'hopeful': 3247, 'matty': 4171, 'giant': 2854, 'vigilant': 7337, 'sand': 5793, 'rush': 5755, 'whoosh': 7534, 'dipshit': 1860, 'frightened': 2747, 'document': 1960, 'rescue': 5613, 'son': 6281, 'vicious': 7323, 'eaters': 2105, 'moods': 4350, 'annual': 272, 'outbreak': 4726, 'ptpt': 5285, 'te': 6754, 'pouhere': 5107, 'tension': 6805, 'surely': 6637, 'drop': 2042, 'paratroopers': 4814, 'table': 6703, 'conduct': 1334, 'missions': 4305, 'hopped': 3254, 'tube': 7076, 'ride': 5680, 'london': 4017, 'accepted': 35, 'community': 1271, 'frickin': 2738, 'importantly': 3384, 'uploaded': 7244, 'link': 3969, 'previous': 5183, 'six': 6127, 'gracious': 2937, 'upload': 7243, 'pray': 5132, 'fears': 2501, 'discouraged': 1890, 'whiff': 7510, 'scent': 5838, 'palm': 4796, 'blowing': 724, 'ears': 2089, 'generous': 2835, 'reaches': 5419, 'survived': 6654, 'kid': 3751, 'trauma': 7015, 'event': 2315, 'respected': 5634, 'prestige': 5174, 'blah': 689, 'asserting': 397, 'range': 5394, 'giving': 2871, 'select': 5908, 'spray': 6382, 'exposed': 2406, 'variants': 7293, 'animosity': 261, 'reach': 5417, 'needing': 4492, 'slap': 6146, 'upside': 7251, 'provide': 5272, 'beluga': 622, 'whale': 7498, 'basically': 545, 'lenses': 3904, 'brown': 846, 'blue': 727, 'looks': 4031, 'damaging': 1615, 'effect': 2124, 'relationship': 5538, 'nothing': 4583, 'bad': 496, 'ways': 7453, 'ought': 4725, 'activism': 76, 'construes': 1381, 'potentially': 5104, 'stressful': 6513, 'update': 7238, 'squeeze': 6395, 'lethargic': 3914, 'nations': 4469, 'despite': 1792, 'land': 3819, 'faux': 2490, 'hawk': 3108, 'dykey': 2078, 'healthy': 3124, 'relationships': 5539, 'likely': 3954, 'energized': 2222, 'reflected': 5496, 'overall': 4745, 'appearance': 320, 'tackle': 6705, 'political': 5057, 'ideas': 3331, 'realize': 5440, 'thyroid': 6896, 'dramatic': 2015, 'whiny': 7515, 'yes': 7695, 'generic': 2833, 'bodyworks': 741, 'invest': 3572, 'collection': 1225, 'paris': 4820, 'predictable': 5146, 'scents': 5840, 'moanday': 4319, 'blues': 728, 'surrounded': 6649, 'untouched': 7225, 'plight': 5030, 'affected': 133, 'unfortunately': 7174, 'damage': 1613, 'educating': 2121, 'families': 2463, 'educationg': 2123, 'mamas': 4106, 'papas': 4804, 'key': 3741, 'crappy': 1504, 'dealing': 1654, 'moxie': 4400, 'cath': 999, 'script': 5870, 'www': 7668, 'brazil': 803, 'bus': 895, 'steep': 6449, 'mountain': 4385, 'hills': 3197, 'storm': 6491, 'fall': 2455, 'niggling': 4541, 'complacent': 1290, 'abilities': 11, 'upon': 7245, 'betrayed': 641, 'shockingly': 6026, 'situations': 6125, 'overtly': 4758, 'pretends': 5178, 'happening': 3067, 'decide': 1670, 'guy': 3023, 'rupees': 5754, 'escorting': 2286, 'relative': 5540, 'bike': 657, 'entirely': 2256, 'perhaps': 4911, 'instinctively': 3511, 'passer': 4842, 'stopping': 6486, 'beauty': 575, 'angels': 249, 'quit': 5354, 'based': 541, 'needs': 4494, 'wants': 7416, 'scars': 5831, 'injury': 3473, 'cutting': 1598, 'teenagers': 6775, 'conceal': 1314, 'venerable': 7305, 'advantage': 121, 'anger': 250, 'gone': 2913, 'counsellor': 1464, 'peace': 4878, 'bye': 909, 'overwhelming': 4762, 'displacement': 1919, 'facebook': 2432, 'whipped': 7517, 'station': 6438, 'fled': 2617, 'underbelly': 7142, 'grand': 2944, 'central': 1021, 'desperate': 1787, 'subway': 6574, 'map': 4128, 'frazzle': 2723, 'meltdown': 4216, 'yelling': 7693, 'answer': 279, 'lagging': 3810, 'repeated': 5593, 'explanations': 2399, 'pleas': 5024, 'regarding': 5512, 'antsy': 288, 'regards': 5514, 'nellie': 4504, 'rang': 5393, 'leslie': 3906, 'pumped': 5299, 'displayed': 1921, 'yearning': 7687, 'semblance': 5916, 'normality': 4570, 'dancing': 1621, 'arabs': 341, 'fully': 2770, 'armed': 349, 'soldier': 6254, 'tugging': 7083, 'relieved': 5555, 'musical': 4430, 'taste': 6741, 'wanders': 7410, 'techno': 6769, 'slander': 6145, 'christ': 1120, 'corey': 1441, 'whispered': 7521, 'youve': 7715, 'evenings': 2314, 'projects': 5240, 'burnt': 890, 'exercise': 2362, 'meantime': 4189, 'hgtv': 3182, 'accomplish': 43, 'glowing': 2895, 'busy': 898, 'pumpkin': 5301, 'latte': 3840, 'coffee': 1213, 'combination': 1239, 'lavender': 3850, 'orange': 4704, 'substitute': 6570, 'fragrance': 2715, 'oil': 4658, 'essential': 2292, 'oils': 4660, 'expectations': 2383, 'met': 4243, 'amazingness': 215, 'bloggers': 715, 'perfectly': 4903, 'organized': 4714, 'homes': 3227, 'entertained': 2248, 'planting': 5009, 'puzzling': 5328, 'administrator': 103, 'singled': 6106, 'praise': 5125, 'students': 6540, 'ssr': 6399, 'demotivated': 1736, 'picture': 4965, 'curriculum': 1586, 'studying': 6545, 'example': 2340, 'english': 2229, 'encourage': 2205, 'positively': 5089, 'intentional': 3530, 'smart': 6180, 'sense': 5926, 'humor': 3300, 'chasing': 1068, 'monster': 4345, 'add': 89, 'sewing': 5967, 'schedule': 5843, 'weather': 7463, 'improving': 3401, 'heartless': 3136, 'hurts': 3312, 'immune': 3372, 'system': 6698, 'leave': 3882, 'naight': 4449, 'ending': 2212, 'derfwadmanor': 1763, 'tend': 6797, 'deny': 1746, 'press': 5168, 'shines': 6014, 'sounds': 6307, 'aircleaner': 170, 'cat': 991, 'connected': 1354, 'michael': 4255, 'thanks': 6837, 'competition': 1289, 'hours': 3273, 'bump': 873, 'questions': 5347, 'mixture': 4317, 'professor': 5227, 'generated': 2828, 'usmleasy': 7268, 'study': 6544, 'latter': 3841, 'saint': 5781, 'apologizes': 313, 'touched': 6972, 'soccer': 6239, 'upper': 7246, 'honestly': 3234, 'behavior': 598, 'mother': 4370, 'raphael': 5401, 'grasping': 2957, 'usual': 7269, 'eloquence': 2156, 'slip': 6163, 'fingers': 2580, 'marvel': 4150, 'humble': 3294, 'afrade': 140, 'eggs': 2136, 'benedict': 628, 'christine': 1124, 'awhile': 477, 'terrific': 6815, 'scribble': 5869, 'notebook': 4580, 'hum': 3289, 'warmth': 7426, 'legs': 3895, 'shift': 6009, 'fell': 2526, 'asleep': 390, 'useless': 7263, 'anxiety': 290, 'extrememly': 2422, 'sore': 6296, 'viewed': 7333, 'bottom': 778, 'deciding': 1673, 'ice': 3326, 'cream': 1513, 'sandwich': 5795, 'picnic': 4963, 'james': 3638, 'repeat': 5592, 'classes': 1149, 'concept': 1318, 'lit': 3983, 'tiny': 6917, 'redundant': 5485, 'credential': 1524, 'artists': 374, 'display': 1920, 'energetically': 2219, 'sensations': 5925, 'opportunities': 4692, 'connections': 1356, 'wished': 7583, 'months': 4348, 'seen': 5900, 'minds': 4281, 'comprehend': 1309, 'hearts': 3137, 'puzzle': 5325, 'section': 5889, 'par': 4807, 'faculties': 2440, 'crosswords': 1548, 'push': 5317, 'temper': 6785, 'shout': 6050, 'nay': 4480, 'winter': 7572, 'germs': 2846, 'conditioned': 1330, 'crazy': 1512, 'becoming': 579, 'sane': 5796, 'stupid': 6551, 'steal': 6447, 'joshua': 3682, 'customer': 1592, 'necessarily': 4485, 'slow': 6172, 'pace': 4769, 'browse': 848, 'booth': 762, 'dart': 1631, 'shops': 6035, 'main': 4092, 'street': 6506, 'sweat': 6667, 'express': 2409, 'appreciative': 331, 'heavy': 3146, 'gave': 2816, 'grasp': 2956, 'fire': 2586, 'contented': 1394, 'fulfilled': 2765, 'unfair': 7165, 'reaction': 5422, 'spoke': 6369, 'reported': 5602, 'dissassociated': 1928, 'counted': 1466, 'letter': 3917, 'status': 6441, 'quo': 5360, 'stated': 6435, 'suddenly': 6587, 'disappear': 1876, 'stomach': 6480, 'ibleeditout': 3324, 'kodi': 3789, 'brat': 801, 'kill': 3754, 'kiss': 3766, 'thinking': 6866, 'commodore': 1265, 'venue': 7309, 'wimp': 7556, 'load': 3996, 'gettin': 2851, 'foot': 2668, 'presence': 5159, 'praying': 5136, 'wisdom': 7579, 'patience': 4859, 'drive': 2036, 'thief': 6859, 'stolen': 6479, 'exposures': 2408, 'crudely': 1552, 'stuck': 6538, 'camera': 932, 'ancients': 242, 'warms': 7425, 'muscles': 4426, 'laugh': 3842, 'midst': 4261, 'quirky': 5353, 'inter': 3535, 'generational': 2830, 'regular': 5520, 'accomplished': 44, 'feat': 2502, 'lonely': 4020, 'clueless': 1198, 'homesick': 3229, 'andover': 244, 'elevated': 2153, 'lexicon': 3923, 'enter': 2245, 'mention': 4228, 'differences': 1838, 'fear': 2497, 'someway': 6278, 'wearing': 7462, 'mask': 4155, 'caused': 1003, 'divert': 1947, 'constructive': 1379, 'envisioned': 2269, 'intended': 3527, 'vision': 7360, 'weatherman': 7464, 'forecast': 2676, 'venture': 7308, 'rain': 5380, 'worn': 7628, 'concealer': 1315, 'pale': 4794, 'research': 5614, 'renovations': 5587, 'resulted': 5649, 'tackling': 6706, 'mammoth': 4109, 'task': 6738, 'works': 7624, 'numerous': 4603, 'stories': 6490, 'accumulated': 53, 'outcome': 4728, 'explored': 2403, 'styles': 6557, 'remained': 5567, 'treading': 7020, 'territory': 6818, 'straight': 6494, 'standing': 6416, 'powers': 5115, 'achievements': 62, 'vaguely': 7282, 'cycling': 1603, 'invade': 3568, 'upcoming': 7237, 'events': 2316, 'drowning': 2047, 'order': 4705, 'ahead': 163, 'town': 6981, 'goodbye': 2917, 'fam': 2461, 'theyre': 6856, 'crying': 1563, 'hey': 3181, 'country': 1470, 'hill': 3196, 'sudden': 6586, 'hide': 3185, 'closet': 1188, 'ache': 57, 'unnoticeable': 7207, 'burrowed': 891, 'multitasking': 4418, 'ragged': 5375, 'reached': 5418, 'destination': 1795, 'blow': 723, 'candle': 939, 'ridiculously': 5685, 'insensitive': 3488, 'partner': 4834, 'dead': 1650, 'chicken': 1095, 'grieving': 2980, 'temples': 6790, 'faithful': 2452, 'lazy': 3863, 'forego': 2679, 'futon': 2784, 'couch': 1455, 'exceptionally': 2347, 'monday': 4340, 'timetable': 6914, 'punch': 5302, 'animal': 258, 'prowl': 5279, 'jungle': 3709, 'onto': 4677, 'deserted': 1771, 'island': 3605, 'forefront': 2678, 'favourite': 2494, 'font': 2663, 'aspects': 392, 'attitude': 437, 'improved': 3398, 'impression': 3391, 'statement': 6436, 'series': 5945, 'challenge': 1037, 'finishing': 2583, 'total': 6966, 'answered': 280, 'trusting': 7065, 'defended': 1694, 'sanctity': 5792, 'span': 6317, 'webkit': 7467, 'size': 6129, 'adjust': 99, 'auto': 457, 'stroke': 6523, 'width': 7541, 'px': 5329, 'color': 1230, 'white': 7523, 'inline': 3476, 'planning': 5005, 'hunger': 3305, 'ferocious': 2535, 'tiger': 6904, 'fishing': 2593, 'fish': 2592, 'falling': 2457, 'pieces': 4970, 'stood': 6483, 'bandaid': 518, 'dialed': 1826, 'catching': 995, 'goings': 2909, 'ons': 4675, 'coronation': 1446, 'calgary': 919, 'added': 90, 'relaxation': 5544, 'pb': 4874, 'safety': 5776, 'saddened': 5770, 'decade': 1664, 'predicted': 5148, 'angle': 253, 'lets': 3915, 'gallows': 2794, 'wins': 7570, 'clean': 1157, 'tight': 6905, 'dropping': 2043, 'mosquito': 4367, 'squeal': 6394, 'ear': 2082, 'twitchy': 7104, 'depending': 1752, 'flawless': 2615, 'xd': 7672, 'worry': 7631, 'junk': 3711, 'video': 7328, 'sucker': 6582, 'endless': 2213, 'battle': 556, 'apparent': 316, 'evil': 2330, 'discernment': 1881, 'becuz': 580, 'cuz': 1599, 'oh': 4657, 'badman': 499, 'ah': 160, 'argument': 347, 'rough': 5731, 'solutions': 6263, 'interrupts': 3552, 'quiet': 5350, 'wakes': 7394, 'xox': 7677, 'itll': 3623, 'offer': 4648, 'possibilities': 5092, 'test': 6822, 'moral': 4355, 'ethical': 2300, 'inner': 3478, 'conflict': 1343, 'duty': 2073, 'play': 5014, 'sex': 5968, 'teeter': 6778, 'totering': 6969, 'birthmoms': 670, 'roommate': 5724, 'boasting': 733, 'wrapped': 7648, 'breathing': 814, 'helps': 3164, 'texture': 6828, 'mystery': 4439, 'budget': 861, 'spreadsheet': 6385, 'someplace': 6272, 'security': 5892, 'sensing': 5930, 'feet': 2525, 'wobbly': 7594, 'unhappy': 7178, 'willing': 7552, 'celebrate': 1014, 'joys': 3692, 'relate': 5532, 'smiling': 6190, 'spa': 6313, 'treatment': 7025, 'turning': 7091, 'teeth': 6779, 'forever': 2682, 'unlucky': 7202, 'genetics': 2836, 'worst': 7635, 'orthodontist': 4720, 'pediatric': 4884, 'dentist': 1744, 'recall': 5455, 'leaves': 3883, 'grey': 2975, 'sky': 6142, 'cautious': 1007, 'excuses': 2356, 'boy': 790, 'staff': 6405, 'rooster': 5726, 'underwhelmed': 7152, 'rainbows': 5382, 'bursting': 893, 'veins': 7304, 'kick': 3748, 'stops': 6487, 'stem': 6451, 'mainstream': 4094, 'communities': 1270, 'belongingness': 619, 'combine': 1240, 'flat': 2608, 'tire': 6921, 'headless': 3116, 'bird': 666, 'ya': 7679, 'allah': 190, 'puff': 5292, 'business': 896, 'delayed': 1715, 'master': 4160, 'occurring': 4634, 'service': 5955, 'enormous': 2237, 'pink': 4983, 'flamingo': 2605, 'lovely': 4054, 'wintry': 7575, 'scene': 5835, 'dog': 1964, 'uncontrollably': 7140, 'lack': 3801, 'energy': 2223, 'independence': 3435, 'operation': 4688, 'badly': 498, 'unprotected': 7210, 'net': 4514, 'loquacious': 4035, 'hunters': 3307, 'cow': 1485, 'dung': 2069, 'marry': 4143, 'grievance': 2978, 'wiped': 7577, 'mentally': 4227, 'knowing': 3784, 'spiritually': 6354, 'reasons': 5447, 'taunted': 6749, 'frailty': 2717, 'exterior': 2416, 'existance': 2373, 'lies': 3935, 'masculinity': 4154, 'washington': 7435, 'foodie': 2665, 'secret': 5886, 'portray': 5079, 'intermarrying': 3543, 'humans': 3293, 'harmful': 3085, 'hurting': 3311, 'taught': 6748, 'wrongly': 7661, 'undo': 7154, 'childhood': 1098, 'bigotry': 656, 'binds': 662, 'logistics': 4012, 'non': 4560, 'blink': 706, 'threw': 6879, 'simply': 6094, 'type': 7109, 'blocking': 711, 'traffic': 6992, 'teddy': 6771, 'affecting': 134, 'accounted': 51, 'leaders': 3868, 'inviting': 3582, 'involving': 3585, 'ministries': 4287, 'participate': 4830, 'apart': 303, 'disdain': 1900, 'acted': 70, 'mysterious': 4438, 'sea': 5874, 'intimately': 3557, 'shared': 5986, 'buoyed': 881, 'surrender': 6647, 'transcendent': 7006, 'surge': 6640, 'wherever': 7507, 'normal': 4569, 'learning': 3877, 'performance': 4905, 'flounders': 2638, 'step': 6453, 'alway': 211, 'faster': 2480, 'elusively': 2161, 'married': 4142, 'coupled': 1472, 'pressures': 5172, 'senior': 5922, 'pastor': 4852, 'glaring': 2880, 'inexperience': 3450, 'unintentionally': 7187, 'conflicted': 1344, 'paparazzi': 4803, 'zq': 7733, 'jcho': 3650, 'cpine': 1489, 'westerner': 7493, 'flattered': 2611, 'advice': 126, 'embedding': 2169, 'case': 984, 'deke': 1713, 'needle': 4493, 'reilly': 5524, 'reporting': 5603, 'dear': 1657, 'energies': 2220, 'wondered': 7601, 'somethings': 6275, 'soda': 6246, 'turbulently': 7087, 'flew': 2621, 'container': 1390, 'exchanging': 2350, 'freedom': 2729, 'nvm': 4613, 'deliberations': 1718, 'smell': 6183, 'pleasant': 5025, 'bf': 646, 'speaks': 6328, 'friendship': 2744, 'higher': 3188, 'cause': 1002, 'sour': 6309, 'ti': 6897, 'possibly': 5095, 'odd': 4639, 'jades': 3634, 'prone': 5249, 'generally': 2827, 'spencers': 6339, 'beholder': 602, 'compliment': 1304, 'sipping': 6113, 'coke': 1218, 'swimming': 6678, 'lessons': 3910, 'aggravated': 151, 'mousekins': 4390, 'listeners': 3980, 'crossed': 1545, 'sessions': 5959, 'theres': 6852, 'distortion': 1935, 'songs': 6283, 'force': 2672, 'unusual': 7227, 'album': 181, 'nov': 4590, 'highly': 3191, 'critical': 1539, 'dennis': 1741, 'covingtons': 1484, 'merit': 4236, 'discussion': 1898, 'noted': 4581, 'closing': 1189, 'chapters': 1054, 'opportunity': 4693, 'embrace': 2171, 'knowledge': 3786, 'daydreamed': 1644, 'obligated': 4619, 'sensitive': 5931, 'understanding': 7147, 'history': 3202, 'lends': 3899, 'explanation': 2398, 'projected': 5238, 'degree': 1711, 'questioning': 5346, 'bald': 510, 'kassim': 3725, 'selamat': 5906, 'swallows': 6664, 'amazingly': 214, 'chill': 1103, 'brought': 845, 'ativan': 421, 'caffeine': 912, 'decaf': 1665, 'policemen': 5052, 'search': 5876, 'vent': 7306, 'ugly': 7118, 'nasty': 4465, 'adult': 117, 'indonesia': 3442, 'worth': 7636, 'proved': 5270, 'wasted': 7437, 'effort': 2130, 'pointless': 5045, 'uneffected': 7161, 'vegetarian': 7302, 'vegan': 7301, 'meat': 4192, 'eater': 2103, 'toxins': 6982, 'mac': 4078, 'lipsticks': 3975, 'names': 4458, 'shade': 5973, 'elf': 2154, 'regain': 5508, 'member': 4219, 'sketch': 6131, 'thinks': 6867, 'legend': 3893, 'hilarious': 3195, 'badass': 497, 'dork': 1985, 'charitable': 1060, 'donations': 1973, 'uk': 7120, 'sodding': 6248, 'dinner': 1858, 'nuclear': 4598, 'plant': 5007, 'canteen': 947, 'stoned': 6482, 'endorphin': 2214, 'leg': 3890, 'seizing': 5905, 'hell': 3158, 'favorite': 2493, 'colors': 1233, 'tables': 6704, 'otherwise': 4724, 'tournament': 6978, 'decks': 1677, 'steps': 6456, 'zendikar': 7725, 'rotates': 5729, 'considers': 1368, 'weapons': 7459, 'protests': 5266, 'riots': 5695, 'police': 5051, 'reactions': 5423, 'governments': 2928, 'responses': 5639, 'laws': 3854, 'limit': 3960, 'opinions': 4691, 'validity': 7287, 'lords': 4038, 'timing': 6916, 'practice': 5120, 'parody': 4825, 'hardly': 3080, 'quaking': 5332, 'boat': 734, 'shore': 6036, 'impending': 3375, 'responsibilities': 5640, 'ensue': 2242, 'repressed': 5605, 'instigated': 3509, 'shall': 5979, 'valued': 7290, 'gods': 2906, 'flustered': 2644, 'form': 2689, 'prom': 5242, 'invitation': 3579, 'couldve': 1460, 'entirety': 2257, 'consumption': 1386, 'effects': 2128, 'happenings': 3068, 'serenity': 5944, 'subtle': 6571, 'discontent': 1889, 'dunno': 2071, 'winston': 7571, 'churchill': 1128, 'quote': 5361, 'possessions': 5091, 'comment': 1257, 'relish': 5559, 'squelching': 6396, 'mud': 4412, 'toes': 6934, 'contents': 1396, 'hobby': 3208, 'imagine': 3360, 'cynicism': 1604, 'involved': 3583, 'damaged': 1614, 'clubbed': 1196, 'dose': 1989, 'repercussions': 5596, 'horribly': 3259, 'remarkable': 5569, 'th': 6829, 'graders': 2939, 'preparations': 5155, 'figure': 2558, 'balanced': 509, 'adaption': 88, 'intentionally': 3532, 'admitting': 112, 'glancing': 2878, 'gripped': 2984, 'neck': 4488, 'hertha': 3174, 'across': 68, 'doctor': 1958, 'haul': 3104, 'lava': 3849, 'planet': 5002, 'export': 2405, 'port': 5075, 'fairly': 2449, 'passionate': 4846, 'settled': 5964, 'craft': 1493, 'stretch': 6514, 'pass': 4838, 'abruptly': 17, 'reminded': 5578, 'la': 3796, 'punched': 5303, 'sunday': 6613, 'sighed': 6076, 'brunch': 851, 'trumpeter': 7062, 'waldo': 7397, 'carter': 981, 'startled': 6427, 'flinched': 2627, 'hmmm': 3205, 'shoot': 6030, 'short': 6037, 'daylight': 1646, 'provides': 5274, 'brief': 823, 'invested': 3573, 'hacking': 3029, 'coughing': 1457, 'spluttering': 6364, 'discussions': 1899, 'georgia': 2844, 'serif': 5946, 'height': 3154, 'signifies': 6081, 'causing': 1005, 'undue': 7157, 'stress': 6511, 'fed': 2506, 'slept': 6154, 'external': 2417, 'note': 4579, 'mass': 4156, 'talent': 6723, 'etsy': 2302, 'died': 1835, 'known': 3787, 'played': 5015, 'fps': 2713, 'switch': 6683, 'ate': 417, 'describe': 1766, 'dominican': 1971, 'republic': 5607, 'film': 2567, 'stayed': 6443, 'vienna': 7331, 'pcm': 4875, 'follow': 2658, 'appointment': 327, 'jeremy': 3658, 'vinegary': 7345, 'calli': 923, 'darling': 1630, 'laziness': 3862, 'derp': 1764, 'lrt': 4062, 'train': 6998, 'packed': 4776, 'rode': 5713, 'neglecting': 4499, 'dull': 2061, 'detail': 1804, 'feedback': 2514, 'please': 5026, 'obviously': 4629, 'capacity': 951, 'compassion': 1283, 'bite': 676, 'metaphorically': 4248, 'speaking': 6327, 'glasses': 2882, 'frames': 2719, 'audiences': 446, 'bullying': 870, 'defensive': 1697, 'defending': 1695, 'city': 1140, 'parallel': 4809, 'empty': 2197, 'oooh': 4679, 'youd': 7706, 'conveniently': 1417, 'uninformed': 7185, 'specifics': 6333, 'apartment': 304, 'living': 3993, 'hearing': 3128, 'sink': 6108, 'claustrophobic': 1154, 'crunched': 1555, 'unconscious': 7139, 'racism': 5369, 'overt': 4757, 'choice': 1113, 'breaking': 807, 'daughter': 1636, 'unless': 7199, 'prompted': 5247, 'katniss': 3730, 'tense': 6804, 'adjustment': 100, 'slowly': 6174, 'frozen': 2754, 'road': 5705, 'supposedly': 6634, 'msg': 4406, 'independent': 3436, 'destinys': 1799, 'outdoors': 4729, 'several': 5966, 'layers': 3859, 'contacting': 1388, 'ass': 393, 'active': 74, 'weight': 7481, 'stellar': 6450, 'possibility': 5093, 'failed': 2444, 'convince': 1421, 'soulmate': 6304, 'chemistry': 1088, 'unlike': 7200, 'hopelessly': 3250, 'tough': 6974, 'mudder': 4413, 'biggest': 655, 'rip': 5696, 'symptoms': 6695, 'nausea': 4476, 'cough': 1456, 'tiredness': 6923, 'tenure': 6807, 'protects': 5265, 'teachers': 6758, 'healing': 3121, 'wounding': 7645, 'underway': 7151, 'isolation': 3609, 'absorbed': 21, 'quest': 5343, 'revelation': 5666, 'leading': 3869, 'answers': 282, 'cave': 1010, 'lined': 3966, 'ancient': 241, 'filled': 2564, 'tomes': 6942, 'chair': 1032, 'strewn': 6515, 'centre': 1022, 'ipad': 3587, 'price': 5186, 'biannual': 648, 'mammogram': 4108, 'unusually': 7228, 'lines': 3967, 'sound': 6306, 'deliberate': 1717, 'caught': 1001, 'forgot': 2687, 'core': 1440, 'brilliant': 827, 'comic': 1252, 'actor': 80, 'hearted': 3134, 'tactics': 6707, 'discussed': 1896, 'previously': 5184, 'bathrooms': 553, 'automatically': 459, 'fantastic': 2473, 'trope': 7054, 'horror': 3260, 'fiction': 2547, 'fascinated': 2475, 'sending': 5920, 'whoever': 7526, 'oregon': 4710, 'entrusted': 2260, 'soooo': 6292, 'image': 3357, 'popped': 5069, 'knot': 3782, 'shoelace': 6027, 'hoards': 3206, 'nobody': 4550, 'signed': 6079, 'petition': 4937, 'served': 5953, 'easiest': 2097, 'nine': 4548, 'parts': 4836, 'thousand': 6875, 'wishes': 7584, 'blur': 730, 'pertaining': 4932, 'dinn': 1857, 'traitor': 7001, 'among': 227, 'covers': 1483, 'snotface': 6225, 'choose': 1115, 'feauture': 2504, 'lips': 3974, 'tone': 6946, 'feautures': 2505, 'selena': 5911, 'soo': 6288, 'colour': 1234, 'amongst': 228, 'culture': 1571, 'acting': 71, 'asking': 388, 'diary': 1829, 'youre': 7711, 'adding': 92, 'problems': 5211, 'mostly': 4369, 'thanksgiving': 6838, 'celebration': 1016, 'softball': 6251, 'idling': 3338, 'thighs': 6861, 'noticing': 4587, 'intentionality': 3531, 'eternal': 2297, 'socialize': 6242, 'eight': 2141, 'missed': 4303, 'calls': 926, 'texts': 6827, 'host': 3265, 'regained': 5509, 'expected': 2384, 'singapore': 6102, 'tests': 6824, 'recite': 5465, 'mantra': 4124, 'shiftless': 6011, 'progress': 5234, 'led': 3886, 'pursue': 5314, 'applying': 326, 'company': 1276, 'photography': 4949, 'moody': 4351, 'thatrupert': 6839, 'meant': 4188, 'polite': 5055, 'overcoming': 4747, 'author': 453, 'poem': 5039, 'bitches': 673, 'coz': 1487, 'ungrateful': 7177, 'inconsiderate': 3421, 'somethign': 6273, 'footing': 2670, 'boots': 763, 'curse': 1587, 'prospect': 5257, 'suitcase': 6601, 'dvds': 2075, 'watched': 7441, 'thugs': 6892, 'aged': 148, 'devote': 1820, 'religious': 5558, 'violence': 7348, 'loathing': 3999, 'sinking': 6109, 'unwarranted': 7230, 'unnecessary': 7206, 'depression': 1758, 'supremely': 6635, 'blogger': 714, 'livejournals': 3990, 'feature': 2503, 'enabling': 2199, 'journal': 3684, 'moments': 4335, 'moving': 4399, 'trailer': 6996, 'delve': 1728, 'evaluate': 2308, 'unworthy': 7234, 'fans': 2471, 'scattered': 5833, 'happier': 3070, 'impolite': 3381, 'katanya': 3727, 'charge': 1058, 'thereby': 6849, 'nurturing': 4610, 'loving': 4057, 'turn': 7089, 'hop': 3244, 'trusty': 7067, 'jealousy': 3653, 'offensive': 4647, 'fighting': 2556, 'terribly': 6814, 'birth': 668, 'constitution': 1376, 'extra': 2418, 'constitutional': 1377, 'bureaucracies': 884, 'dumpee': 2065, 'slighted': 6159, 'rejection': 5529, 'replacement': 5598, 'tranquil': 7004, 'archeological': 342, 'nesty': 4513, 'teeny': 6777, 'weeny': 7478, 'illustrating': 3353, 'disappoint': 1877, 'cluster': 1200, 'expert': 2394, 'worked': 7616, 'fuck': 2759, 'memories': 4221, 'en': 2198, 'route': 5735, 'lettuce': 3920, 'pesky': 4933, 'bunnies': 879, 'raiding': 5377, 'garden': 2805, 'pg': 4942, 'sickened': 6067, 'lances': 3818, 'toby': 6930, 'tunji': 7085, 'relax': 5543, 'skips': 6140, 'pacing': 4772, 'information': 3459, 'present': 5160, 'maintain': 4095, 'lick': 3931, 'lollypop': 4016, 'tbh': 6752, 'profile': 5229, 'similarities': 6090, 'chase': 1066, 'uniform': 7182, 'glove': 2894, 'persistent': 4921, 'nonsense': 4564, 'rarely': 5407, 'advertising': 125, 'splendid': 6360, 'sniffles': 6215, 'itchy': 3617, 'throat': 6883, 'awake': 468, 'easter': 2099, 'loads': 3997, 'downers': 1998, 'mess': 4239, 'handle': 3053, 'bruce': 850, 'yiling': 7698, 'considerate': 1365, 'influence': 3454, 'alive': 189, 'bought': 780, 'bursts': 894, 'hesitations': 3179, 'engaged': 2225, 'rhythmic': 5676, 'hops': 3255, 'citizen': 1138, 'india': 3437, 'honest': 3233, 'performances': 4906, 'recognised': 5468, 'romcoms': 5722, 'spoiled': 6366, 'intrusion': 3564, 'media': 4195, 'campaign': 935, 'egypt': 2137, 'attack': 426, 'track': 6985, 'criticizing': 1541, 'praising': 5127, 'wee': 7472, 'backward': 495, 'rat': 5409, 'serve': 5952, 'consuming': 1385, 'ecstatic': 2114, 'painless': 4788, 'grocery': 2985, 'expense': 2386, 'ibs': 3325, 'bowel': 787, 'suffered': 6591, 'established': 2294, 'comp': 1273, 'session': 5958, 'resolve': 5626, 'conflicts': 1345, 'unprepared': 7208, 'surgery': 6643, 'simultaneously': 6096, 'inferior': 3452, 'writer': 7654, 'resist': 5623, 'shifts': 6012, 'compensate': 1285, 'dam': 1612, 'lake': 3814, 'aubrey': 443, 'baptism': 528, 'baptized': 529, 'alarmed': 176, 'urge': 7254, 'respect': 5633, 'indicated': 3438, 'david': 1639, 'wholly': 7530, 'cancel': 937, 'hyundai': 3322, 'tucson': 7080, 'seven': 5965, 'soothe': 6294, 'clairee': 1144, 'lifetime': 3940, 'fandom': 2468, 'build': 864, 'donning': 1975, 'vip': 7351, 'sticker': 6461, 'apologize': 312, 'flagellating': 2601, 'albino': 180, 'priest': 5189, 'demons': 1732, 'insanely': 3483, 'vanquished': 7291, 'england': 2228, 'failures': 2447, 'saw': 5818, 'spot': 6377, 'tour': 6975, 'wrapping': 7649, 'vocab': 7373, 'received': 5456, 'compliments': 1306, 'stuffs': 6548, 'glimpse': 2885, 'vibrant': 7319, 'gain': 2789, 'contemplating': 1392, 'pathetic': 4856, 'fucking': 2762, 'mails': 4091, 'andintrupte': 243, 'trad': 6989, 'trash': 7014, 'slave': 6150, 'bagan': 503, 'shiver': 6022, 'expecting': 2385, 'sold': 6253, 'ages': 150, 'staggering': 6409, 'upstairs': 7252, 'twisted': 7100, 'allocated': 193, 'pennies': 4890, 'lurking': 4075, 'bank': 523, 'smile': 6187, 'contact': 1387, 'rustle': 5762, 'kissing': 3767, 'brings': 830, 'tether': 6825, 'emoticons': 2178, 'awkward': 478, 'opposed': 4694, 'solidarity': 6260, 'americans': 223, 'blood': 720, 'iraq': 3589, 'prisoners': 5200, 'stripping': 6521, 'bill': 658, 'youll': 7707, 'md': 4180, 'teen': 6772, 'guidance': 3008, 'lounge': 4051, 'pool': 5064, 'depends': 1753, 'anne': 264, 'coulter': 1461, 'ed': 2115, 'schultz': 5849, 'viewers': 7334, 'certainly': 1026, 'outrage': 4736, 'substance': 6569, 'collective': 1227, 'tirades': 6920, 'chinks': 1107, 'armor': 351, 'dismiss': 1911, 'computer': 1313, 'empowering': 2193, 'concidence': 1324, 'limits': 3963, 'science': 5850, 'stronger': 6527, 'weaker': 7455, 'relaxing': 5546, 'afterward': 145, 'angel': 248, 'burmeister': 887, 'fake': 2454, 'college': 1228, 'productivity': 5223, 'gear': 2818, 'chalk': 1035, 'army': 353, 'pigeons': 4973, 'uninhabited': 7186, 'doubts': 1996, 'clenches': 1167, 'races': 5365, 'screwed': 5868, 'plenty': 5029, 'bride': 821, 'hubby': 3282, 'reeeeeeeeally': 5486, 'capable': 949, 'general': 2826, 'traveling': 7018, 'military': 4272, 'foreboding': 2675, 'fought': 2705, 'hopelessness': 3251, 'seemingly': 5898, 'financial': 2572, 'bunnysuit': 880, 'tenge': 6802, 'anywhere': 301, 'controlling': 1415, 'message': 4240, 'wary': 7432, 'readings': 5429, 'meaning': 4185, 'poles': 5050, 'pairs': 4793, 'stats': 6440, 'review': 5669, 'conducted': 1335, 'survey': 6652, 'onel': 4672, 'creators': 1522, 'covered': 1481, 'eminent': 2175, 'figures': 2560, 'patriotic': 4863, 'heroes': 3173, 'deeds': 1682, 'alot': 202, 'torture': 6962, 'relentlessly': 5551, 'theyve': 6857, 'luke': 4067, 'bang': 520, 'wall': 7402, 'grumble': 2999, 'scratch': 5861, 'butt': 900, 'extreme': 2420, 'embarassing': 2166, 'dreaded': 2022, 'dreading': 2024, 'stairs': 6411, 'comparatively': 1277, 'suitably': 6600, 'panel': 4798, 'recipe': 5462, 'deemed': 1684, 'treats': 7026, 'proof': 5251, 'confessed': 1339, 'rejected': 5528, 'dream': 2025, 'infuriated': 3462, 'adequately': 97, 'supported': 6628, 'drawn': 2019, 'grayish': 2963, 'thick': 6858, 'clouds': 1193, 'stormed': 6492, 'instant': 3506, 'boost': 760, 'refocus': 5498, 'behave': 596, 'culturally': 1570, 'encounter': 2203, 'drives': 2039, 'lowest': 4060, 'manage': 4111, 'hotshot': 3270, 'boys': 793, 'period': 4913, 'sooner': 6290, 'greg': 2973, 'mild': 4266, 'credit': 1525, 'official': 4653, 'contest': 1397, 'pin': 4980, 'pointing': 5044, 'faults': 2489, 'purpose': 5312, 'peoples': 4895, 'welcoming': 7488, 'savage': 5814, 'blown': 725, 'tak': 6713, 'bare': 534, 'fast': 2479, 'conscience': 1357, 'medicine': 4201, 'sinus': 6111, 'plodded': 5031, 'virtuous': 7355, 'risk': 5702, 'staring': 6421, 'examining': 2339, 'dimple': 1852, 'thigh': 6860, 'sag': 5777, 'mirror': 4292, 'exhausted': 2367, 'painful': 4787, 'warmed': 7422, 'owe': 4764, 'sexual': 5969, 'sequel': 5942, 'overrated': 4752, 'deem': 1683, 'enjoyed': 2231, 'suspense': 6658, 'confusion': 1350, 'throughout': 6886, 'comparing': 1280, 'sneha': 6213, 'murakami': 4422, 'captures': 956, 'potential': 5103, 'slacking': 6143, 'toilet': 6937, 'constipated': 1375, 'backpacking': 493, 'raised': 5384, 'remarks': 5570, 'gotta': 2925, 'da': 1605, 'bul': 867, 'taewuhbeoryeo': 6709, 'burn': 888, 'niga': 4539, 'ulbujitneun': 7121, 'nal': 4454, 'neoneun': 4507, 'wiheomhae': 7546, 'gal': 2792, 'ttaekkaji': 7074, 'gatsseo': 2814, 'woooo': 7610, 'crowd': 1549, 'addition': 93, 'hihi': 3193, 'skills': 6134, 'yall': 7680, 'stepped': 6454, 'candyland': 941, 'haggard': 3033, 'radiant': 5370, 'products': 5224, 'shire': 6017, 'reunited': 5662, 'fields': 2551, 'missing': 4304, 'sodden': 6247, 'shattered': 5994, 'sardonic': 5805, 'squat': 6392, 'sorts': 6301, 'struggle': 6532, 'succeed': 6575, 'areas': 344, 'destruction': 1802, 'village': 7340, 'alert': 183, 'manila': 4117, 'common': 1266, 'stays': 6445, 'guard': 3003, 'dorks': 1986, 'censorship': 1019, 'cubicle': 1566, 'doom': 1980, 'nuance': 4597, 'presentation': 5161, 'trigger': 7041, 'psychotic': 5284, 'episodes': 2274, 'idiocy': 3335, 'bored': 766, 'fastforwarding': 2481, 'scenes': 5837, 'persecuted': 4920, 'aspect': 391, 'rel': 5531, 'bookmark': 758, 'babychaser': 486, 'denying': 1747, 'leather': 3881, 'sandals': 5794, 'underrated': 7145, 'records': 5475, 'record': 5473, 'nonetheless': 4563, 'exercising': 2364, 'condition': 1329, 'manner': 4123, 'pulse': 5296, 'moved': 4394, 'lesson': 3909, 'shower': 6055, 'bsc': 854, 'allies': 192, 'club': 1195, 'helped': 3161, 'marvellous': 4152, 'prank': 5130, 'issue': 3613, 'american': 222, 'idol': 3339, 'smoothly': 6199, 'twenty': 7096, 'interested': 3540, 'xs': 7678, 'bitten': 679, 'impacting': 3373, 'smells': 6185, 'wisely': 7581, 'lifes': 3938, 'whir': 7518, 'motor': 4380, 'stir': 6473, 'irate': 3590, 'customers': 1593, 'waking': 7395, 'bible': 650, 'desires': 1781, 'crush': 1557, 'mate': 4164, 'despise': 1790, 'cookie': 1426, 'voice': 7375, 'surprisingly': 6646, 'sob': 6234, 'imagined': 3361, 'zombies': 7730, 'callous': 925, 'cheap': 1072, 'unfaithful': 7167, 'horrible': 3258, 'dreams': 2027, 'conspiracy': 1372, 'theories': 6846, 'unsolved': 7219, 'crimes': 1534, 'online': 4674, 'hugely': 3286, 'emails': 2164, 'scott': 5858, 'dale': 1610, 'frusterated': 2756, 'freak': 2724, 'base': 540, 'wander': 7408, 'afield': 139, 'salons': 5787, 'overly': 4751, 'tabby': 6702, 'paths': 4858, 'routes': 5736, 'woods': 7609, 'creek': 1527, 'former': 2693, 'meadow': 4181, 'pounding': 5108, 'lightening': 3945, 'umbrella': 7124, 'waters': 7445, 'check': 1076, 'seeped': 5901, 'tragic': 6994, 'huhuhu': 3288, 'battling': 557, 'reared': 5444, 'evangelical': 2310, 'dress': 2028, 'vomity': 7380, 'shocked': 6025, 'terrifying': 6817, 'dad': 1606, 'pick': 4958, 'five': 2599, 'narrated': 4461, 'erik': 2279, 'princes': 5194, 'autobiography': 458, 'civilian': 1142, 'warriors': 7431, 'blackwater': 686, 'unsung': 7222, 'terror': 6819, 'released': 5548, 'meds': 4205, 'correctly': 1449, 'idk': 3337, 'teams': 6762, 'drafting': 2006, 'spots': 6379, 'filling': 2565, 'cam': 929, 'newton': 4529, 'plus': 5036, 'panthers': 4801, 'prime': 5192, 'mediation': 4197, 'value': 7289, 'freely': 2730, 'inevitably': 3449, 'delay': 1714, 'building': 865, 'dizzy': 1953, 'exercised': 2363, 'kiat': 3747, 'obsessive': 4626, 'anal': 237, 'weve': 7496, 'digging': 1844, 'intimate': 3556, 'bodily': 737, 'avoid': 464, 'mix': 4314, 'remembering': 5574, 'considered': 1366, 'obedience': 4615, 'wife': 7543, 'ubuntu': 7115, 'user': 7264, 'linux': 3972, 'platform': 5013, 'marks': 4139, 'misery': 4297, 'machine': 4080, 'printer': 5196, 'insecurities': 3486, 'thankfully': 6834, 'hat': 3096, 'possess': 5090, 'snooty': 6223, 'gauche': 2815, 'guessed': 3005, 'riva': 5703, 'harvey': 3092, 'weinstein': 7484, 'oscars': 4722, 'comfort': 1247, 'zone': 7731, 'mcdonalds': 4177, 'vault': 7297, 'movement': 4395, 'effortlessly': 2131, 'prizecompetition': 5206, 'informed': 3460, 'aside': 385, 'twitches': 7103, 'according': 49, 'accepting': 36, 'imperfect': 3376, 'complain': 1291, 'offline': 4654, 'rightly': 5687, 'grandmother': 2949, 'aunt': 449, 'flee': 2618, 'baltic': 514, 'cans': 944, 'indigo': 3440, 'pot': 5101, 'drafted': 2005, 'makeup': 4101, 'climbed': 1176, 'cherry': 1091, 'caterpillar': 997, 'beside': 636, 'caterpillars': 998, 'snakes': 6206, 'crawling': 1510, 'climb': 1175, 'anansi': 239, 'pressure': 5170, 'bar': 530, 'asshole': 401, 'broke': 837, 'necklace': 4489, 'afternoon': 144, 'combing': 1241, 'structure': 6530, 'function': 2773, 'incredible': 3430, 'stored': 6489, 'convoluted': 1423, 'genre': 2838, 'novel': 4591, 'literary': 3985, 'legitimate': 3894, 'analyze': 238, 'doubting': 1995, 'km': 3774, 'stropped': 6529, 'reproductive': 5606, 'videos': 7329, 'imposed': 3385, 'scratchy': 5862, 'marge': 4130, 'simpson': 6095, 'whisper': 7520, 'guns': 3018, 'solution': 6262, 'fundamentally': 2775, 'selection': 5909, 'democratic': 1731, 'primaries': 5190, 'paige': 4785, 'charmed': 1064, 'laughed': 3843, 'bitterly': 681, 'naega': 4446, 'deo': 1748, 'apaya': 308, 'hae': 3032, 'dasi': 1632, 'neol': 4505, 'chajeul': 1033, 'su': 6559, 'itge': 3622, 'sigani': 6074, 'heureulsurok': 3180, 'gaseumi': 2808, 'apawa': 307, 'dan': 1618, 'hanbeon': 3046, 'manirado': 4121, 'forgive': 2685, 'sins': 6110, 'wo': 7593, 'doedollil': 1962, 'suman': 6605, 'itdamyeon': 3618, 'gotong': 2924, 'ttawin': 7075, 'naegen': 4447, 'sting': 6469, 'practicies': 5122, 'cult': 1569, 'falun': 2460, 'gong': 2914, 'sceptical': 5841, 'tad': 6708, 'bemused': 623, 'adress': 116, 'attempt': 429, 'dogs': 1965, 'remaining': 5568, 'shows': 6058, 'july': 3704, 'notions': 4588, 'ensuring': 2244, 'alba': 178, 'fitting': 2598, 'immense': 3369, 'sympathy': 6693, 'proto': 5267, 'agent': 149, 'publishing': 5291, 'patronize': 4865, 'vile': 7339, 'natives': 4470, 'cope': 1434, 'pictured': 4966, 'twin': 7098, 'copper': 1437, 'pipes': 4987, 'somewhere': 6280, 'contemplated': 1391, 'flowed': 2640, 'outward': 4741, 'chat': 1069, 'flirty': 2631, 'coloured': 1235, 'bold': 744, 'amos': 229, 'retrofitting': 5657, 'cohens': 1216, 'basic': 544, 'arrangement': 357, 'piano': 4955, 'merely': 4233, 'paying': 4873, 'homage': 3223, 'indulgent': 3446, 'broken': 838, 'handrail': 3056, 'basement': 542, 'entirelly': 2255, 'unsettled': 7216, 'disconnected': 1887, 'registration': 5517, 'uneventful': 7163, 'fearless': 2500, 'discovery': 1894, 'insincere': 3494, 'nosy': 4578, 'hint': 3198, 'victim': 7324, 'learing': 3874, 'depths': 1759, 'tsa': 7073, 'pulled': 5294, 'croissants': 1542, 'intend': 3526, 'develop': 1816, 'albeit': 179, 'riku': 5690, 'plot': 5032, 'ish': 3603, 'pitied': 4992, 'sleepy': 6153, 'fight': 2555, 'andy': 247, 'messed': 4241, 'chemicals': 1087, 'struggled': 6533, 'module': 4328, 'fellow': 2527, 'interacted': 3536, 'definite': 1704, 'development': 1818, 'giddy': 2855, 'fortune': 2701, 'cozy': 1488, 'debates': 1661, 'weekends': 7475, 'artist': 371, 'finish': 2581, 'cheers': 1086, 'fresh': 2734, 'sight': 6077, 'perceives': 4899, 'rewrite': 5673, 'fma': 2649, 'op': 4680, 'date': 1633, 'assuage': 411, 'deodorant': 1749, 'snob': 6220, 'desperately': 1788, 'washing': 7434, 'dishes': 1906, 'incapable': 3406, 'labour': 3800, 'janine': 3641, 'forgotten': 2688, 'whos': 7536, 'ignorance': 3343, 'happiness': 3072, 'spreading': 6384, 'lighten': 3944, 'implementing': 3378, 'alternative': 208, 'ller': 3995, 'expensive': 2387, 'stands': 6417, 'sales': 5785, 'assistants': 407, 'dontknow': 1977, 'linus': 3971, 'photo': 4948, 'anti': 285, 'flow': 2639, 'mat': 4162, 'anyhow': 294, 'circuits': 1135, 'spine': 6350, 'praises': 5126, 'increase': 3426, 'chances': 1044, 'vigorous': 7338, 'activity': 79, 'misspelt': 4306, 'cumming': 1574, 'recless': 5467, 'mamma': 4107, 'headlock': 3117, 'whooooos': 7533, 'crack': 1492, 'whooooooooos': 7532, 'whooooo': 7531, 'craaaaaaack': 1490, 'injustice': 3474, 'rises': 5700, 'benefited': 631, 'futures': 2786, 'inspiring': 3504, 'december': 1667, 'locking': 4006, 'isolated': 3608, 'nonchalant': 4561, 'easi': 2095, 'beginning': 591, 'nevertheless': 4521, 'swept': 6675, 'superstition': 6625, 'pay': 4872, 'caution': 1006, 'lived': 3989, 'stubbornly': 6537, 'refuses': 5506, 'september': 5941, 'planned': 5004, 'feed': 2513, 'younger': 7709, 'teens': 6776, 'darkness': 1629, 'everywhere': 2328, 'benzema': 634, 'mould': 4383, 'proper': 5252, 'green': 2971, 'boyfriend': 791, 'split': 6362, 'visiting': 7363, 'confrontation': 1347, 'aroused': 355, 'worthless': 7637, 'ebay': 2107, 'dejected': 1712, 'join': 3673, 'creating': 1516, 'autumn': 460, 'andthenwear': 246, 'perils': 4912, 'law': 3851, 'library': 3930, 'deranged': 1760, 'villian': 7341, 'giver': 2869, 'taker': 6718, 'fair': 2448, 'xia': 7674, 'fault': 2488, 'blackburn': 684, 'team': 6761, 'blackpool': 685, 'holloway': 3220, 'organised': 4712, 'etape': 2295, 'prep': 5154, 'rides': 5682, 'caledonia': 918, 'affair': 131, 'avoided': 465, 'mg': 4254, 'seroquel': 5951, 'encountered': 2204, 'superman': 6622, 'demotivate': 1735, 'enthusiasm': 2251, 'diwali': 1951, 'academic': 28, 'ie': 3342, 'closure': 1190, 'spock': 6365, 'reciprocate': 5464, 'refused': 5505, 'execute': 2357, 'trick': 7038, 'dishwasher': 1908, 'magic': 4085, 'journey': 3688, 'transportation': 7013, 'subtly': 6572, 'plans': 5006, 'angsty': 256, 'warning': 7428, 'radical': 5372, 'backed': 488, 'buying': 906, 'hehe': 3153, 'medication': 4200, 'baffled': 500, 'unsafe': 7214, 'grace': 2935, 'truthful': 7069, 'object': 4617, 'goal': 2901, 'tune': 7084, 'pia': 4954, 'headaches': 3112, 'aggressive': 153, 'tax': 6750, 'returns': 5661, 'mail': 4088, 'jasons': 3646, 'employer': 2189, 'sacrificed': 5767, 'esily': 2287, 'airritated': 172, 'permanently': 4917, 'false': 2459, 'president': 5167, 'solid': 6259, 'bags': 505, 'patent': 4854, 'metallic': 4246, 'clutch': 1201, 'accessories': 38, 'shoeless': 6028, 'slowing': 6173, 'cox': 1486, 'friday': 2739, 'invaded': 3569, 'recurring': 5478, 'exiting': 2380, 'freakishly': 2727, 'award': 469, 'winners': 7569, 'sheltered': 6002, 'acquainted': 66, 'ensure': 2243, 'favorable': 2492, 'starters': 6425, 'sam': 5788, 'guarantee': 3002, 'paragraph': 4808, 'grievances': 2979, 'tranny': 7003, 'title': 6926, 'blake': 690, 'context': 1398, 'bother': 773, 'inform': 3458, 'instructables': 3513, 'adherence': 98, 'appear': 319, 'accomplishment': 46, 'august': 448, 'olympic': 4668, 'medal': 4194, 'giggle': 2859, 'nervously': 4510, 'alternate': 207, 'version': 7313, 'charming': 1065, 'creepy': 1530, 'macabre': 4079, 'drinks': 2035, 'fountain': 2711, 'belittle': 612, 'jack': 3628, 'caged': 915, 'ad': 86, 'lungs': 4071, 'unwell': 7232, 'flattened': 2610, 'cancer': 938, 'relegated': 5549, 'oncologist': 4669, 'markets': 4138, 'vj': 7371, 'ranks': 5395, 'frugal': 2755, 'antics': 287, 'improv': 3396, 'entry': 2261, 'reputation': 5608, 'student': 6539, 'population': 5072, 'northwestern': 4574, 'melee': 4213, 'dps': 2003, 'rant': 5396, 'raids': 5378, 'terry': 6821, 'yippee': 7699, 'foreign': 2680, 'pictures': 4967, 'commonplace': 1267, 'mistake': 4308, 'truths': 7070, 'lord': 4036, 'portion': 5077, 'desiring': 1782, 'clue': 1197, 'dumps': 2067, 'melts': 4218, 'facing': 2434, 'ambition': 217, 'compelled': 1284, 'meek': 4206, 'asian': 383, 'waning': 7411, 'portrayals': 5081, 'chose': 1118, 'laetshi': 3809, 'subjects': 6565, 'interesting': 3541, 'relating': 5535, 'imaginary': 3359, 'identity': 3334, 'lawn': 3852, 'buffy': 863, 'multiple': 4417, 'flight': 2625, 'pan': 4797, 'joseph': 3681, 'walt': 7407, 'finances': 2571, 'defend': 1693, 'understands': 7148, 'hopeless': 3249, 'comeback': 1244, 'fangirls': 2470, 'forums': 2703, 'thus': 6894, 'wise': 7580, 'imagining': 3362, 'audience': 445, 'spirit': 6352, 'triggering': 7043, 'barrier': 538, 'vomiting': 7379, 'whip': 7516, 'crunchy': 1556, 'treat': 7023, 'spiritual': 6353, 'exert': 2365, 'symptom': 6694, 'organisation': 4711, 'intentions': 3533, 'disagree': 1874, 'heartedly': 3135, 'demostrators': 1734, 'aid': 164, 'quitter': 5356, 'educate': 2120, 'boob': 753, 'talkative': 6726, 'intense': 3528, 'pram': 5128, 'relief': 5553, 'linger': 3968, 'intuitive': 3567, 'judges': 3699, 'driven': 2037, 'teach': 6756, 'leader': 3867, 'acknowledge': 65, 'definition': 1706, 'individuals': 3441, 'attitudes': 438, 'email': 2163, 'authors': 456, 'interviews': 3555, 'reveal': 5664, 'awesome': 474, 'endeavoring': 2209, 'honesty': 3235, 'authenticity': 452, 'lush': 4076, 'belonged': 617, 'laptop': 3828, 'searching': 5878, 'recipes': 5463, 'programming': 5233, 'judging': 3700, 'earthquake': 2092, 'foundations': 2709, 'significant': 6080, 'provocation': 5277, 'splurge': 6363, 'spur': 6389, 'jaded': 3633, 'typing': 7113, 'nose': 4575, 'suspicions': 6660, 'islam': 3604, 'stadium': 6404, 'federer': 2508, 'opinionated': 4690, 'politics': 5060, 'akward': 173, 'surged': 6641, 'temptations': 6793, 'saturday': 5810, 'brighter': 826, 'wallowing': 7404, 'pity': 4993, 'monthe': 4347, 'internet': 3547, 'vista': 7366, 'virus': 7356, 'pro': 5207, 'perfumes': 4910, 'seasons': 5880, 'lectures': 3885, 'cheer': 1082, 'lame': 3817, 'tease': 6765, 'dorama': 1984, 'clarity': 1146, 'takes': 6719, 'carried': 978, 'audre': 447, 'lorde': 4037, 'refer': 5487, 'dare': 1627, 'goddamn': 2904, 'exhaling': 2366, 'vapor': 7292, 'yell': 7691, 'warmly': 7424, 'hugging': 3287, 'instinct': 3510, 'wrongs': 7662, 'fail': 2443, 'consistently': 1370, 'disengaged': 1901, 'disinterested': 1909, 'zest': 7727, 'release': 5547, 'notice': 4585, 'misplaced': 4300, 'unique': 7189, 'ahaha': 161, 'retarded': 5654, 'swear': 6666, 'defenses': 1696, 'rise': 5698, 'usa': 7259, 'shoplifting': 6033, 'package': 4774, 'gummy': 3016, 'bears': 567, 'tat': 6746, 'errrr': 2281, 'dun': 2068, 'realise': 5434, 'noe': 4553, 'scandalized': 5827, 'nfl': 4532, 'swim': 6677, 'earlier': 2083, 'sticking': 6462, 'benches': 626, 'favs': 2496, 'nipping': 4549, 'sober': 6237, 'fellowship': 2528, 'supports': 6631, 'employers': 2190, 'increases': 3427, 'congratulations': 1352, 'exam': 2336, 'brotherhood': 843, 'struggling': 6535, 'faith': 2451, 'haha': 3034, 'hardships': 3082, 'rounded': 5733, 'sum': 6604, 'guitars': 3013, 'conscious': 1358, 'shorts': 6042, 'wishing': 7586, 'reactive': 5424, 'scale': 5824, 'digesting': 1843, 'unnaturally': 7205, 'belong': 616, 'liveagainsttheflow': 3988, 'deserves': 1773, 'mindful': 4280, 'experiment': 2392, 'wod': 7595, 'involves': 3584, 'anniversary': 266, 'survivor': 6655, 'abstract': 22, 'forms': 2694, 'rape': 5398, 'hackles': 3030, 'anatomy': 240, 'cautiously': 1008, 'direction': 1865, 'anime': 260, 'heading': 3114, 'report': 5601, 'smack': 6178, 'olivia': 4666, 'bet': 640, 'bloging': 717, 'excellent': 2344, 'tail': 6711, 'ruach': 5739, 'hakodesh': 3039, 'holy': 3222, 'unease': 7158, 'exact': 2334, 'opposite': 4695, 'manager': 4113, 'immature': 3365, 'cheat': 1074, 'maniacal': 4115, 'rants': 5397, 'prevent': 5181, 'formal': 2690, 'evaluation': 2309, 'relates': 5534, 'workplace': 7623, 'lower': 4059, 'response': 5638, 'momentarily': 4334, 'weekly': 7476, 'deadline': 1651, 'repay': 5591, 'goodness': 2919, 'diverse': 1945, 'tags': 6710, 'funds': 2776, 'lighted': 3943, 'relatively': 5541, 'economically': 2111, 'crave': 1506, 'quarrel': 5336, 'toast': 6929, 'stylesheet': 6558, 'css': 1564, 'jdelivery': 3651, 'straits': 6496, 'seriously': 5949, 'beijing': 603, 'prepare': 5156, 'checklists': 1080, 'traction': 6987, 'denise': 1739, 'shouldve': 6049, 'hormone': 3257, 'metabolism': 4244, 'drug': 2049, 'hyperthyroidism': 3319, 'knows': 3788, 'nudists': 4599, 'suit': 6599, 'convention': 1418, 'resources': 5632, 'risen': 5699, 'desolate': 1784, 'soundscapes': 6308, 'utterly': 7277, 'headlamp': 3115, 'tent': 6806, 'liberated': 3927, 'recognize': 5470, 'blissfully': 707, 'unaware': 7131, 'catapulted': 993, 'popeye': 5068, 'cartoons': 982, 'sauna': 5813, 'goldilocks': 2911, 'supportive': 6630, 'senator': 5918, 'leers': 3888, 'genentech': 2825, 'takeover': 6717, 'global': 2890, 'bangs': 521, 'hike': 3194, 'jubilant': 3695, 'ra': 5362, 'immedietly': 3368, 'wal': 7396, 'mart': 4146, 'box': 788, 'description': 1770, 'dylan': 2079, 'cavalier': 1009, 'trimmed': 7045, 'spoils': 6368, 'breed': 816, 'coat': 1209, 'beating': 571, 'harmfully': 3086, 'cheered': 1083, 'dependent': 1751, 'js': 3693, 'integrity': 3521, 'jilted': 3667, 'vows': 7383, 'passport': 4849, 'spacy': 6316, 'effective': 2126, 'animals': 259, 'crabs': 1491, 'log': 4008, 'overworked': 4763, 'fumes': 2771, 'harm': 3083, 'ton': 6945, 'explorer': 2404, 'enuff': 2262, 'bedrooms': 583, 'baffroom': 501, 'countless': 1468, 'impoverished': 3388, 'suffering': 6592, 'hundred': 3303, 'folds': 2655, 'tempted': 6794, 'postponing': 5099, 'labor': 3799, 'century': 1023, 'insist': 3495, 'primary': 5191, 'bothers': 775, 'ultimately': 7122, 'ordinary': 4709, 'cousin': 1479, 'west': 7492, 'meath': 4193, 'pinging': 4982, 'jokes': 3676, 'naughty': 4475, 'rudolph': 5742, 'valentino': 7285, 'unspeakable': 7220, 'acts': 83, 'forth': 2698, 'tasting': 6744, 'powerless': 5113, 'mothers': 4373, 'drag': 2008, 'court': 1476, 'indication': 3439, 'childs': 1102, 'causes': 1004, 'shirts': 6019, 'regrets': 5519, 'draws': 2020, 'near': 4483, 'exchange': 2349, 'nominated': 4557, 'liebster': 3933, 'devotee': 1821, 'deen': 1685, 'bandhu': 519, 'fallen': 2456, 'uplifter': 7241, 'devotees': 1822, 'benefit': 630, 'initially': 3470, 'julian': 3703, 'lab': 3797, 'reassures': 5449, 'flung': 2642, 'crossing': 1547, 'explode': 2400, 'pressurized': 5173, 'cabin': 910, 'jail': 3635, 'inhuman': 3467, 'netherlands': 4515, 'permeates': 4918, 'poisoned': 5047, 'willy': 7554, 'nilly': 4547, 'questioned': 5345, 'sometime': 6276, 'exboyfriend': 2342, 'twelve': 7095, 'midnight': 4260, 'seconds': 5885, 'admin': 101, 'dough': 1997, 'abnormally': 15, 'staked': 6412, 'feeder': 2515, 'entertainers': 2249, 'williams': 7551, 'atm': 422, 'nutrition': 4611, 'bothersome': 776, 'tear': 6763, 'shed': 5997, 'roll': 5716, 'quarters': 5338, 'bodega': 735, 'laundry': 3848, 'oddly': 4640, 'devoid': 1819, 'coin': 1217, 'changer': 1047, 'machines': 4081, 'acceptance': 34, 'unza': 7235, 'courses': 1475, 'extraordinarily': 2419, 'psyched': 5281, 'extension': 2414, 'qualified': 5333, 'observations': 4623, 'sympathies': 6690, 'wonders': 7605, 'million': 4276, 'equals': 2277, 'debt': 1662, 'likewise': 3955, 'attracted': 439, 'levels': 3922, 'associated': 409, 'nationality': 4468, 'specific': 6331, 'chiefs': 1096, 'ccw': 1012, 'yanked': 7681, 'trees': 7029, 'norah': 4567, 'jones': 3680, 'impractical': 3389, 'disco': 1885, 'ji': 3665, 'kin': 3758, 'spores': 6374, 'mailorder': 4090, 'kome': 3790, 'empowerment': 2194, 'parenting': 4817, 'socially': 6243, 'ladies': 3807, 'shell': 5999, 'shirt': 6018, 'nickey': 4538, 'queezy': 5342, 'adapted': 87, 'standards': 6415, 'strangers': 6500, 'poo': 5063, 'brand': 798, 'contribute': 1410, 'investing': 3576, 'investment': 3577, 'category': 996, 'bombing': 746, 'coca': 1210, 'cola': 1219, 'china': 1104, 'undoubtedly': 7156, 'banking': 525, 'incident': 3412, 'handed': 3049, 'pundits': 5306, 'leadingstrings': 3870, 'phrase': 4951, 'mildly': 4267, 'upsetting': 7250, 'emotion': 2179, 'blessings': 702, 'duckie': 2055, 'commies': 1260, 'feds': 2510, 'canon': 943, 'iii': 3349, 'irritation': 3601, 'equivalent': 2278, 'cushions': 1590, 'baking': 507, 'lap': 3824, 'holding': 3212, 'tender': 6800, 'statistics': 6439, 'mormons': 4361, 'depressants': 1756, 'startling': 6428, 'tightly': 6907, 'paced': 4770, 'builds': 866, 'unreliable': 7212, 'clinique': 1180, 'indulge': 3444, 'jubilations': 3696, 'claim': 1143, 'chocolate': 1111, 'bias': 649, 'themed': 6843, 'anthology': 284, 'intelligence': 3524, 'exhibit': 2369, 'showing': 6056, 'referred': 5492, 'awkwardness': 480, 'attributes': 442, 'overshadowed': 4756, 'subconsciously': 6561, 'wired': 7578, 'differently': 1840, 'definitive': 1707, 'teasing': 6766, 'scrutiny': 5873, 'reviews': 5670, 'uses': 7265, 'blaming': 692, 'slut': 6177, 'shaming': 5981, 'protective': 5263, 'boring': 767, 'genius': 2837, 'energised': 2221, 'cleaning': 1160, 'meanness': 4186, 'frame': 2718, 'grin': 2982, 'loves': 4056, 'evaporate': 2311, 'cyberspace': 1601, 'poems': 5040, 'activist': 77, 'government': 2927, 'pack': 4773, 'mates': 4168, 'bonded': 748, 'touchy': 6973, 'feely': 2524, 'tangent': 6730, 'suspect': 6656, 'freaking': 2726, 'scary': 5832, 'smarter': 6181, 'available': 461, 'churchoffuck': 1129, 'careful': 968, 'confrontational': 1348, 'thrive': 6882, 'executive': 2360, 'corporate': 1447, 'urgent': 7256, 'files': 2562, 'lead': 3865, 'sixty': 6128, 'shown': 6057, 'apparently': 317, 'handsome': 3058, 'sonia': 6285, 'yixuan': 7700, 'atiqah': 420, 'movies': 4398, 'streets': 6507, 'formulate': 2696, 'completeness': 1299, 'sobered': 6238, 'humbled': 3295, 'serendipity': 5943, 'collide': 1229, 'pages': 4782, 'migraine': 4264, 'attacks': 428, 'lessen': 3908, 'discussing': 1897, 'gulped': 3015, 'trembly': 7030, 'stupidity': 6552, 'wills': 7553, 'shifting': 6010, 'circles': 1134, 'consumes': 1384, 'massive': 4158, 'amounts': 231, 'processing': 5213, 'associate': 408, 'achievement': 61, 'scraped': 5860, 'nook': 4565, 'cranny': 1502, 'shells': 6000, 'juicy': 3702, 'morsels': 4366, 'rhetoric': 5675, 'folk': 2656, 'cook': 1425, 'hookah': 3243, 'waits': 7392, 'neglect': 4497, 'windy': 7563, 'thoroughly': 6871, 'vowed': 7382, 'scafell': 5823, 'kit': 3768, 'dezinesamaze': 1824, 'condemning': 1327, 'consequences': 1361, 'strangely': 6498, 'opposites': 4696, 'warming': 7423, 'practiced': 5121, 'echo': 2108, 'chamber': 1040, 'correctness': 1450, 'measuring': 4191, 'drinking': 2034, 'water': 7444, 'tracking': 6986, 'fitness': 2596, 'unfocused': 7172, 'foundation': 2708, 'steady': 6446, 'hyperemesis': 3318, 'internship': 3549, 'regret': 5518, 'johann': 3672, 'accompany': 42, 'khartoum': 3745, 'descara': 1765, 'pop': 5067, 'nicely': 4535, 'sums': 6609, 'pursuits': 5316, 'obligation': 4620, 'guide': 3009, 'actual': 84, 'prints': 5197, 'spazzing': 6324, 'dates': 1634, 'direct': 1862, 'dm': 1955, 'twitter': 7105, 'jeff': 3655, 'pronounced': 5250, 'accordance': 48, 'faithfulness': 2453, 'ffs': 2544, 'tale': 6722, 'kites': 3770, 'shelter': 6001, 'deffinately': 1699, 'command': 1255, 'destroying': 1801, 'bleh': 699, 'digress': 1847, 'inventory': 3571, 'sauces': 5811, 'spices': 6345, 'perishables': 4914, 'specifically': 6332, 'item': 3619, 'spite': 6356, 'complainy': 1295, 'browsers': 849, 'purchase': 5310, 'rudely': 5741, 'sliding': 6157, 'door': 1981, 'atmosphere': 423, 'beirut': 606, 'nagging': 4448, 'resource': 5631, 'courtesy': 1477, 'journalism': 3685, 'sibling': 6065, 'bro': 835, 'attending': 432, 'typically': 7112, 'respond': 5636, 'jens': 3657, 'retirement': 5655, 'shortly': 6040, 'picked': 4959, 'clench': 1166, 'gigantic': 2858, 'spider': 6346, 'muay': 4408, 'thai': 6830, 'literally': 3984, 'glare': 2879, 'directed': 1863, 'harrass': 3089, 'oppressed': 4698, 'secretary': 5887, 'eh': 2138, 'powerlessness': 5114, 'sends': 5921, 'tizzy': 6927, 'haagen': 3026, 'dazs': 1648, 'carby': 961, 'low': 4058, 'glycemic': 2898, 'meal': 4182, 'breakfast': 806, 'dessert': 1794, 'comfy': 1251, 'smoking': 6194, 'gaining': 2791, 'awfully': 476, 'sensational': 5924, 'heat': 3138, 'ash': 380, 'stench': 6452, 'greasy': 2964, 'mode': 4322, 'plants': 5010, 'gloss': 2893, 'heavenly': 3142, 'bodypump': 740, 'dvd': 2074, 'coaching': 1207, 'compulsory': 1312, 'cues': 1568, 'unafraid': 7127, 'cruising': 1553, 'mistakes': 4309, 'cheated': 1075, 'spurned': 6390, 'vine': 7343, 'tended': 6798, 'nursed': 4605, 'transformed': 7008, 'yelled': 7692, 'nightmares': 4545, 'overreacted': 4753, 'blossoming': 722, 'delicate': 1719, 'hasnt': 3094, 'leopard': 3905, 'convenience': 1416, 'rapport': 5403, 'laps': 3826, 'abide': 10, 'dignified': 1845, 'stance': 6413, 'artistry': 373, 'innanimate': 3477, 'objects': 4618, 'model': 4323, 'carpet': 977, 'require': 5610, 'officer': 4652, 'skill': 6132, 'page': 4781, 'wasting': 7438, 'hu': 3281, 'jia': 3666, 'practise': 5123, 'nursery': 4606, 'slopes': 6168, 'profoundly': 5231, 'interrupt': 3550, 'marathon': 4129, 'fuel': 2763, 'separate': 5937, 'encoding': 2202, 'utf': 7273, 'locale': 4002, 'isprivate': 3610, 'ismobile': 3606, 'mobileclass': 4321, 'isprivateblog': 3611, 'languagedirection': 3823, 'ltr': 4063, 'feedlinks': 2517, 'application': 324, 'atom': 424, 'xml': 7676, 'ovation': 4743, 'khatsii': 3746, 'disagreement': 1875, 'screaming': 5865, 'rustie': 5761, 'dean': 1656, 'hometown': 3230, 'moose': 4353, 'jaw': 3647, 'cultures': 1572, 'religions': 5557, 'mythologies': 4443, 'hallucinations': 3043, 'vibrations': 7321, 'kindly': 3761, 'sweetness': 6672, 'recess': 5461, 'mince': 4278, 'pies': 4971, 'british': 833, 'xmas': 7675, 'goodie': 2918, 'rounds': 5734, 'floors': 2634, 'pounds': 5109, 'qualify': 5334, 'offence': 4642, 'delhi': 1716, 'punjabi': 5308, 'factory': 2438, 'butchery': 899, 'jot': 3683, 'hussein': 3315, 'jumped': 3706, 'thug': 6891, 'administration': 102, 'drawing': 2018, 'attacked': 427, 'glamour': 2875, 'glamourous': 2876, 'eternity': 2299, 'sons': 6286, 'pets': 4940, 'unexpected': 7164, 'sincerity': 6100, 'rebuilding': 5454, 'deck': 1676, 'soak': 6231, 'rejoice': 5530, 'devastated': 1814, 'curb': 1578, 'resentment': 5618, 'windows': 7562, 'resonates': 5628, 'uncaring': 7132, 'exists': 2377, 'unwanted': 7229, 'paid': 4784, 'harrassment': 3090, 'worker': 7617, 'implications': 3379, 'driving': 2040, 'motorway': 4382, 'telephone': 6780, 'whirlwind': 7519, 'stinky': 6472, 'anticipation': 286, 'personalized': 4927, 'jim': 3668, 'relived': 5560, 'truely': 7059, 'prayers': 5135, 'welcome': 7486, 'mommyhood': 4337, 'inability': 3403, 'breastfeed': 810, 'outright': 4738, 'formed': 2692, 'smoker': 6193, 'cigarettes': 1132, 'gamer': 2797, 'millions': 4277, 'monroe': 4344, 'launch': 3846, 'incorporated': 3425, 'bounces': 782, 'references': 5491, 'earliest': 2084, 'dawn': 1641, 'recognition': 5469, 'admired': 106, 'sucked': 6581, 'followed': 2659, 'grown': 2997, 'woop': 7611, 'describing': 1769, 'mastered': 4161, 'chaperone': 1052, 'determine': 1810, 'experiencing': 2391, 'feverish': 2541, 'metropolitan': 4252, 'pavilion': 4871, 'definately': 1701, 'oilers': 4659, 'funny': 2779, 'yarns': 7683, 'businesses': 897, 'allows': 197, 'quality': 5335, 'shop': 6032, 'chakotay': 1034, 'reassured': 5448, 'silently': 6086, 'approached': 334, 'enveloped': 2264, 'engineering': 2227, 'sides': 6070, 'oceans': 4637, 'surround': 6648, 'basis': 546, 'suspected': 6657, 'cyber': 1600, 'joyous': 3691, 'marriage': 4140, 'noticable': 4584, 'fertility': 2536, 'pregnancy': 5152, 'quixote': 5359, 'blinding': 704, 'rushing': 5757, 'windmill': 7560, 'eventual': 2317, 'ppl': 5117, 'lip': 3973, 'curl': 1582, 'grandchildren': 2945, 'husbands': 3314, 'mum': 4420, 'bastard': 548, 'revolve': 5671, 'optimism': 4699, 'youth': 7712, 'refusal': 5503, 'fate': 2485, 'forced': 2673, 'traumatic': 7016, 'surfacing': 6639, 'nauseas': 4477, 'gently': 2841, 'walia': 7398, 'tarun': 6737, 'bani': 522, 'gt': 3001, 'continued': 1402, 'hastings': 3095, 'cops': 1438, 'disorder': 1914, 'insisted': 3496, 'globe': 2891, 'allow': 194, 'adventure': 122, 'homelands': 3225, 'slate': 6149, 'unilaterally': 7183, 'forgiving': 2686, 'carelessness': 970, 'perceived': 4898, 'abuses': 24, 'benevolent': 632, 'goliath': 2912, 'undone': 7155, 'humblest': 3296, 'davids': 1640, 'hurry': 3308, 'illness': 3351, 'complicated': 1303, 'bills': 659, 'unsettling': 7217, 'irrational': 3593, 'withdrawal': 7588, 'topic': 6958, 'natasha': 4466, 'gan': 2799, 'suede': 6589, 'ocean': 4636, 'chadstone': 1029, 'tonite': 6953, 'presented': 5164, 'prize': 5205, 'italy': 3616, 'yknow': 7701, 'attend': 431, 'conducive': 1333, 'philosophy': 4945, 'generations': 2831, 'aggression': 152, 'tools': 6956, 'squirts': 6397, 'frantically': 2722, 'assumption': 414, 'follows': 2662, 'mothering': 4372, 'politician': 5058, 'foundry': 2710, 'shield': 6007, 'bay': 559, 'lending': 3898, 'wherewithal': 7508, 'feared': 2498, 'incorporate': 3424, 'recovery': 5477, 'tool': 6955, 'allowing': 196, 'patient': 4860, 'assumptions': 415, 'criminal': 1535, 'justice': 3713, 'st': 6400, 'named': 4457, 'abusive': 25, 'sustainability': 6662, 'seized': 5904, 'largely': 3830, 'brendon': 818, 'temple': 6789, 'promises': 5246, 'designers': 1777, 'appreciation': 330, 'utter': 7275, 'gratefulness': 2959, 'downright': 1999, 'souls': 6305, 'sarcoidosis': 5803, 'aa': 0, 'insight': 3493, 'hollow': 3219, 'smiths': 6191, 'homeless': 3226, 'youthful': 7713, 'employment': 2191, 'professional': 5226, 'accustomed': 56, 'guitar': 3012, 'pianos': 4956, 'newer': 4524, 'larger': 3831, 'outfits': 4732, 'plea': 5022, 'sent': 5932, 'shiny': 6016, 'realising': 5436, 'harden': 3078, 'wimbledon': 7555, 'euan': 2303, 'behaving': 597, 'unkind': 7196, 'product': 5220, 'contradictory': 1409, 'unattainable': 7129, 'prolonged': 5241, 'sams': 5791, 'pent': 4893, 'ewan': 2332, 'awoken': 481, 'dilute': 1849, 'givings': 2872, 'serina': 5947, 'cleaner': 1159, 'ridiculous': 5684, 'asians': 384, 'reduce': 5484, 'solemn': 6256, 'render': 5585, 'closer': 1187, 'thearchitecturality': 6841, 'utopian': 7274, 'garage': 2803, 'strive': 6522, 'loner': 4021, 'sunny': 6616, 'carrying': 979, 'protection': 5262, 'batting': 555, 'approaching': 336, 'protectiveness': 5264, 'slight': 6158, 'exit': 2378, 'idreamculture': 3341, 'distinct': 1933, 'turnout': 7092, 'mrs': 4404, 'guts': 3021, 'unspoilt': 7221, 'ladder': 3806, 'drs': 2048, 'heck': 3147, 'tubes': 7077, 'tied': 6902, 'occupy': 4633, 'slide': 6156, 'exhilirated': 2372, 'victims': 7325, 'bedroom': 582, 'heathen': 3140, 'enjoys': 2234, 'arousing': 356, 'delight': 1721, 'longing': 4025, 'weariness': 7461, 'slipped': 6164, 'shoulders': 6046, 'unwelcome': 7231, 'cassandra': 987, 'attics': 435, 'barns': 536, 'journals': 3687, 'ginger': 2862, 'huckleberry': 3283, 'abelard': 9, 'regarded': 5511, 'highest': 3189, 'urgency': 7255, 'smiled': 6188, 'cantankerous': 946, 'alcohol': 182, 'marijuana': 4134, 'separation': 5940, 'divorce': 1950, 'sanity': 5798, 'maternal': 4167, 'ahahahaha': 162, 'morbidly': 4358, 'misunderstood': 4313, 'gap': 2802, 'pinpoint': 4984, 'assess': 399, 'passing': 4844, 'seldom': 5907, 'hardcore': 3076, 'sxe': 6687, 'chocolating': 1112, 'horse': 3261, 'budding': 860, 'request': 5609, 'jerome': 3659, 'diminish': 1850, 'ocd': 4635, 'worse': 7634, 'burden': 882, 'starve': 6430, 'benign': 633, 'suggestions': 6598, 'football': 2669, 'woken': 7597, 'customary': 1591, 'siesta': 6073, 'hats': 3102, 'emily': 2174, 'implement': 3377, 'changes': 1048, 'wading': 7386, 'dialog': 1827, 'kg': 3744, 'approx': 337, 'sentinel': 5936, 'hanford': 3059, 'councilman': 1462, 'chins': 1108, 'proposed': 5255, 'policy': 5053, 'committee': 1264, 'meetings': 4209, 'summed': 6606, 'despair': 1786, 'compared': 1279, 'brazilian': 804, 'boss': 771, 'staffs': 6406, 'slobby': 6167, 'tongue': 6949, 'habitual': 3028, 'wh': 7497, 'initiation': 3471, 'hed': 3148, 'sarah': 5801, 'defination': 1702, 'romance': 5720, 'revalidation': 5663, 'portfolio': 5076, 'likeaudrey': 3951, 'hepburn': 3169, 'tiffanys': 6903, 'hopes': 3252, 'stick': 6460, 'speaker': 6326, 'sweden': 6669, 'relying': 5565, 'behaviors': 599, 'starts': 6429, 'mushy': 4428, 'feverishly': 2542, 'experimented': 2393, 'mentions': 4230, 'sadly': 5772, 'partners': 4835, 'ther': 6847, 'slapped': 6147, 'copy': 1439, 'rising': 5701, 'temperatures': 6786, 'heartburn': 3133, 'grabbed': 2933, 'collar': 1222, 'tonguey': 6950, 'cheeks': 1081, 'pulsed': 5297, 'bud': 859, 'clit': 1183, 'refered': 5488, 'outta': 4740, 'despised': 1791, 'crumbling': 1554, 'tasteful': 6742, 'hating': 3101, 'sooo': 6291, 'affects': 136, 'flaws': 2616, 'ampatuan': 233, 'joining': 3674, 'forces': 2674, 'spread': 6383, 'odor': 4641, 'seemed': 5897, 'delusion': 1726, 'distance': 1932, 'readers': 5427, 'election': 2148, 'surprised': 6645, 'environmental': 2268, 'logging': 4009, 'authorities': 454, 'resort': 5629, 'precipice': 5139, 'sensation': 5923, 'optimist': 4700, 'routine': 5737, 'local': 4001, 'clay': 1156, 'articulate': 367, 'prius': 5201, 'al': 174, 'gore': 2921, 'patagonia': 4853, 'alaska': 177, 'insidious': 3492, 'stunned': 6550, 'division': 1949, 'everybody': 2321, 'clumsy': 1199, 'lean': 3871, 'bench': 625, 'cigarette': 1131, 'georges': 2843, 'asks': 389, 'panicky': 4800, 'fuss': 2782, 'martin': 4148, 'journalist': 3686, 'dedicated': 1681, 'eurovision': 2307, 'russell': 5759, 'crowe': 1550, 'robin': 5711, 'hood': 3242, 'merida': 4235, 'spitball': 6355, 'dying': 2077, 'pillow': 4978, 'tickles': 6900, 'luring': 4073, 'lair': 3812, 'eighteen': 2142, 'ups': 7247, 'downs': 2000, 'edgy': 2117, 'alright': 205, 'tragedy': 6993, 'trusted': 7064, 'resupplied': 5651, 'vitamins': 7369, 'desirable': 1779, 'echoes': 2109, 'north': 4573, 'glanced': 2877, 'strolling': 6525, 'sidewalks': 6072, 'fitted': 2597, 'pencil': 4888, 'skirt': 6141, 'impressive': 3394, 'directing': 1864, 'distractions': 1938, 'feelingless': 2521, 'clique': 1182, 'twice': 7097, 'chooses': 1116, 'triple': 7049, 'disrespect': 1925, 'pompous': 5061, 'notoriety': 4589, 'speedy': 6338, 'sugar': 6594, 'normally': 4571, 'interrupted': 3551, 'benadryl': 624, 'column': 1237, 'coloring': 1232, 'nights': 4546, 'designing': 1778, 'whitleys': 7524, 'funky': 2778, 'lump': 4069, 'tab': 6701, 'sources': 6310, 'apathy': 306, 'proclaim': 5215, 'wednesday': 7471, 'plantar': 5008, 'fascitis': 2476, 'assessment': 400, 'sustained': 6663, 'accurate': 55, 'mun': 4421, 'un': 7125, 'pretending': 5177, 'finds': 2577, 'gained': 2790, 'wieght': 7542, 'leisurely': 3896, 'vote': 7381, 'strawberry': 6504, 'slightest': 6160, 'mis': 4294, 'stepping': 6455, 'dishonoring': 1907, 'participants': 4829, 'uber': 7114, 'rabbit': 5363, 'chaotic': 1051, 'destructive': 1803, 'nails': 4450, 'awareness': 472, 'readjust': 5430, 'tasty': 6745, 'abound': 16, 'santa': 5800, 'cruz': 1560, 'unseen': 7215, 'ambient': 216, 'smoke': 6192, 'laid': 3811, 'california': 920, 'renowned': 5588, 'torn': 6960, 'booked': 756, 'sundays': 6614, 'scheduler': 5845, 'okay': 4662, 'repairman': 5590, 'occasionally': 4631, 'reset': 5620, 'mount': 4384, 'precisely': 5141, 'biceps': 651, 'shaping': 5984, 'assaults': 396, 'rapes': 5400, 'worries': 7630, 'cesspool': 1027, 'stiller': 6465, 'vaughn': 7296, 'haters': 3100, 'enjoyment': 2233, 'garbage': 2804, 'identify': 3332, 'priority': 5199, 'counselling': 1463, 'arena': 345, 'insult': 3516, 'melt': 4215, 'mishaps': 4299, 'toddler': 6933, 'disabled': 1872, 'dignity': 1846, 'shunned': 6059, 'familys': 2465, 'inquire': 3481, 'incheswhyinches': 3411, 'relocating': 5561, 'droves': 2046, 'flaunt': 2612, 'accomplishments': 47, 'tighter': 6906, 'intercourse': 3538, 'daddy': 1607, 'uncles': 7136, 'pickles': 4961, 'fridge': 2740, 'crol': 1543, 'tl': 6928, 'per': 4896, 'doc': 1956, 'penny': 4891, 'lifting': 3941, 'stiff': 6463, 'acctually': 52, 'wonderfull': 7603, 'israel': 3612, 'renewed': 5586, 'endurance': 2216, 'hyenas': 3316, 'pic': 4957, 'skincare': 6136, 'sectret': 5890, 'snail': 6204, 'egf': 2135, 'repairing': 5589, 'gel': 2822, 'switched': 6684, 'jar': 3645, 'sparkleapple': 6322, 'tempura': 6795, 'sundaes': 6612, 'gold': 2910, 'minimal': 4284, 'selling': 5915, 'revenue': 5667, 'layer': 3858, 'moss': 4368, 'encased': 2201, 'muffling': 4414, 'sharper': 5993, 'mourn': 4388, 'ripe': 5697, 'included': 3416, 'committed': 1263, 'similarly': 6091, 'uw': 7279, 'worlds': 7627, 'alphabet': 203, 'rose': 5728, 'jsk': 3694, 'length': 3901, 'lengths': 3902, 'lolita': 4014, 'dresses': 2030, 'knee': 3775, 'jane': 3640, 'austen': 450, 'replica': 5599, 'distrustful': 1942, 'elliptical': 2155, 'spin': 6348, 'chapter': 1053, 'lambrusco': 3816, 'wines': 7565, 'bubbly': 855, 'flames': 2604, 'singed': 6103, 'frail': 2716, 'foul': 2706, 'smelling': 6184, 'concoction': 1326, 'wood': 7608, 'flesh': 2619, 'butterflies': 902, 'shadow': 5974, 'cooped': 1430, 'mediate': 4196, 'ex': 2333, 'controlled': 1414, 'manipulated': 4119, 'lily': 3958, 'rolls': 5719, 'dinks': 1856, 'double': 1991, 'income': 3419, 'prettymuch': 5180, 'acronym': 67, 'cop': 1433, 'sobbed': 6235, 'andreas': 245, 'movements': 4396, 'sentences': 5934, 'thrown': 6889, 'strapping': 6501, 'sturdy': 6555, 'achieve': 59, 'engage': 2224, 'debate': 1660, 'broaden': 836, 'patriotism': 4864, 'sensibly': 5929, 'dried': 2032, 'bladders': 687, 'nowwwwww': 4596, 'endeavors': 2210, 'noises': 4555, 'shadows': 5975, 'nutritional': 4612, 'methods': 4250, 'solve': 6264, 'pleading': 5023, 'nursing': 4608, 'uncoiling': 7137, 'beg': 587, 'assignments': 404, 'redeem': 5481, 'ignored': 3346, 'importance': 3382, 'stare': 6419, 'stars': 6422, 'togehter': 6935, 'admittedly': 111, 'hausa': 3106, 'motorcyclist': 4381, 'resemblance': 5615, 'todays': 6932, 'pole': 5049, 'medical': 4198, 'assistant': 406, 'apples': 323, 'folks': 2657, 'understood': 7149, 'beacuse': 561, 'dirty': 1870, 'wheeeeee': 7502, 'wally': 7406, 'lamb': 3815, 'chick': 1094, 'blunt': 729, 'relation': 5536, 'arriving': 361, 'shoulder': 6045, 'colleagues': 1223, 'dirt': 1869, 'excelent': 2343, 'reserved': 5619, 'rainbow': 5381, 'tissue': 6924, 'balls': 512, 'overdo': 4749, 'oblige': 4621, 'explaining': 2396, 'bottling': 777, 'dumping': 2066, 'occassionally': 4632, 'earrings': 2088, 'plugs': 5034, 'twists': 7101, 'episode': 2273, 'hints': 3199, 'moffat': 4329, 'foreshadowing': 2681, 'logic': 4010, 'feeding': 2516, 'inspect': 3498, 'samples': 5790, 'wheat': 7501, 'resurrect': 5652, 'lengthy': 3903, 'celebrity': 1017, 'crushes': 1558, 'wine': 7564, 'tossing': 6965, 'ol': 4663, 'cube': 1565, 'swirl': 6682, 'sniff': 6214, 'recommend': 5471, 'saved': 5816, 'expressed': 2410, 'dismissing': 1913, 'disconnects': 1888, 'trials': 7036, 'equal': 2275, 'revered': 5668, 'pioneers': 4985, 'curls': 1583, 'transition': 7009, 'natural': 4471, 'lowlights': 4061, 'tubs': 7078, 'reaching': 5420, 'addressing': 95, 'flutter': 2645, 'wouldve': 7642, 'turkey': 7088, 'cottage': 1454, 'rustling': 5763, 'resorted': 5630, 'peak': 4880, 'housebound': 3275, 'peckish': 4882, 'brew': 819, 'pics': 4964, 'shine': 6013, 'dues': 2058, 'stagnate': 6410, 'offender': 4645, 'mensa': 4224, 'monitoring': 4343, 'lestat': 3912, 'lenghth': 3900, 'measures': 4190, 'pp': 5116, 'essay': 2290, 'mu': 4407, 'tou': 6970, 'tolerate': 6939, 'massage': 4157, 'cramp': 1496, 'prescribed': 5158, 'technique': 6768, 'proven': 5271, 'mircowaved': 4291, 'stole': 6478, 'rmb': 5704, 'grandfather': 2947, 'snowy': 6229, 'pine': 4981, 'mountains': 4386, 'destined': 1796, 'southern': 6312, 'actively': 75, 'borne': 769, 'glued': 2896, 'sheriff': 6005, 'warner': 7427, 'brothers': 844, 'edit': 2118, 'director': 1868, 'format': 2691, 'blu': 726, 'ray': 5414, 'ordering': 4707, 'pizza': 4994, 'burst': 892, 'devastating': 1815, 'gown': 2930, 'plastic': 5011, 'slippers': 6165, 'dopey': 1983, 'pains': 4789, 'points': 5046, 'wondrous': 7606, 'creator': 1521, 'neighbour': 4502, 'muze': 4436, 'mujhe': 4416, 'kay': 3731, 'zay': 7722, 'reasonably': 5446, 'genealogical': 2824, 'strains': 6495, 'average': 462, 'fullest': 2768, 'enlist': 2235, 'dukes': 2060, 'watcher': 7442, 'slough': 6171, 'carapace': 959, 'crud': 1551, 'disorganised': 1915, 'logical': 4011, 'uuuugh': 7278, 'granted': 2952, 'beats': 572, 'continually': 1400, 'triggered': 7042, 'admire': 105, 'nic': 4533, 'passionately': 4847, 'knitter': 3779, 'wat': 7439, 'sharia': 5988, 'stream': 6505, 'european': 2306, 'union': 7188, 'thesis': 6853, 'trillion': 7044, 'dollars': 1968, 'companies': 1274, 'glc': 2883, 'ganging': 2801, 'compromised': 1311, 'unit': 7190, 'attractive': 440, 'unleashed': 7198, 'fromthe': 2751, 'virgin': 7352, 'agreed': 158, 'intolerably': 3560, 'polar': 5048, 'celebrated': 1015, 'buttons': 904, 'holes': 3215, 'suspicion': 6659, 'negativity': 4496, 'studs': 6543, 'attach': 425, 'decorative': 1680, 'stitch': 6475, 'visible': 7358, 'mystical': 4440, 'heap': 3125, 'hogging': 3210, 'denial': 1737, 'dom': 1969, 'tide': 6901, 'surrounding': 6650, 'inch': 3409, 'assumed': 413, 'wrist': 7652, 'turbillion': 7086, 'hong': 3237, 'kong': 3791, 'lightly': 3947, 'banana': 516, 'roast': 5708, 'elder': 2146, 'ditlevsen': 1943, 'remembered': 5573, 'articulating': 368, 'verbally': 7311, 'incidents': 3413, 'naturally': 4472, 'doubles': 1992, 'victory': 7327, 'struff': 6531, 'fedtastic': 2511, 'tennis': 6803, 'moms': 4338, 'politely': 5056, 'adventures': 123, 'inspirations': 3501, 'handmade': 3055, 'creations': 1517, 'ward': 7418, 'epileptic': 2272, 'stinking': 6470, 'traditional': 6991, 'offend': 4643, 'opens': 4686, 'relations': 5537, 'thereof': 6851, 'investigators': 3575, 'ponder': 5062, 'blocked': 710, 'major': 4096, 'instance': 3505, 'grandmothers': 2950, 'nigeria': 4540, 'assistance': 405, 'return': 5659, 'safely': 5775, 'barbie': 532, 'decorate': 1679, 'plane': 5001, 'gross': 2986, 'mucus': 4411, 'persom': 4922, 'wickdly': 7538, 'handled': 3054, 'frequently': 2733, 'mm': 4318, 'composition': 1307, 'steroids': 6458, 'directions': 1866, 'retrospect': 5658, 'decently': 1669, 'compartmentalised': 1282, 'religion': 5556, 'flicking': 2624, 'backing': 491, 'dials': 1828, 'reminder': 5579, 'sharpe': 5992, 'freaked': 2725, 'brach': 794, 'chipmunk': 1109, 'skinny': 6137, 'fiber': 2546, 'flip': 2629, 'flop': 2635, 'random': 5391, 'various': 7294, 'spontaneous': 6372, 'lists': 3982, 'urgh': 7257, 'luminaries': 4068, 'swinelord': 6679, 'deluxe': 1727, 'youngsters': 7710, 'dressed': 2029, 'fads': 2442, 'pedestrians': 4883, 'passengers': 4841, 'moping': 4354, 'file': 2561, 'fiddle': 2548, 'terminando': 6810, 'com': 1238, 'um': 7123, 'ano': 274, 'depois': 1755, 'closed': 1186, 'broom': 841, 'scrubbing': 5872, 'brush': 852, 'vinegar': 7344, 'newspapers': 4528, 'kindness': 3762, 'comforted': 1249, 'gun': 3017, 'bars': 539, 'disrespected': 1926, 'roommates': 5725, 'rachel': 5366, 'smooch': 6195, 'drugs': 2050, 'sage': 5778, 'sexually': 5970, 'psychologically': 5283, 'admitted': 110, 'defeat': 1691, 'impulsive': 3402, 'electrified': 2149, 'unimaginable': 7184, 'subject': 6563, 'foist': 2653, 'inconvenience': 3423, 'disjointed': 1910, 'debts': 1663, 'parcel': 4815, 'timer': 6912, 'bell': 613, 'reject': 5527, 'breast': 809, 'milk': 4273, 'formula': 2695, 'zen': 7724, 'approaches': 335, 'gluten': 2897, 'mediocre': 4202, 'dragon': 2011, 'suck': 6580, 'begging': 589, 'translate': 7010, 'sorrow': 6297, 'mercy': 4232, 'published': 5289, 'geared': 2819, 'altitudes': 210, 'suffocated': 6593, 'pauses': 4869, 'deceived': 1666, 'envelope': 2263, 'hundreds': 3304, 'eucharist': 2304, 'include': 3415, 'professors': 5228, 'bankers': 524, 'conservatives': 1362, 'liberals': 3926, 'gay': 2817, 'arrogant': 363, 'sake': 5783, 'shackles': 5972, 'norms': 4572, 'flatmate': 2609, 'spouting': 6381, 'russia': 5760, 'muck': 4410, 'citizens': 1139, 'hrs': 3279, 'abandon': 3, 'dave': 1638, 'atell': 418, 'nodded': 4551, 'procure': 5217, 'pump': 5298, 'sentence': 5933, 'derek': 1762, 'hang': 3060, 'swamp': 6665, 'unfeeling': 7169, 'apathetic': 305, 'humanbeings': 3291, 'heads': 3119, 'asses': 398, 'plagued': 4998, 'tickets': 6899, 'marten': 4147, 'soles': 6257, 'barbies': 533, 'mirrors': 4293, 'aout': 302, 'tries': 7040, 'agony': 156, 'alliance': 191, 'anyones': 297, 'exception': 2346, 'frequencies': 2731, 'coped': 1435, 'wrung': 7664, 'eyebrows': 2424, 'waxed': 7450, 'majorly': 4098, 'cast': 988, 'timeline': 6911, 'mentality': 4226, 'enmayi': 2236, 'dew': 1823, 'beyond': 645, 'south': 6311, 'advancement': 120, 'demonstrations': 1733, 'specimens': 6334, 'glistening': 2888, 'accentuating': 31, 'effecting': 2125, 'implies': 3380, 'orderly': 4708, 'procession': 5214, 'remove': 5584, 'morbid': 4357, 'pragmatic': 5124, 'sisters': 6116, 'elated': 2144, 'crawl': 1509, 'adopt': 113, 'labels': 3798, 'queer': 5341, 'unclear': 7135, 'joel': 3671, 'fanatics': 2467, 'neurosurgeons': 4517, 'permanent': 4916, 'refreshed': 5501, 'clawed': 1155, 'socket': 6245, 'maze': 4174, 'solo': 6261, 'wandering': 7409, 'disaster': 1880, 'australia': 451, 'exited': 2379, 'sneakily': 6212, 'mas': 4153, 'prance': 5129, 'eartha': 2091, 'kitt': 3772, 'blares': 695, 'ipod': 3588, 'accidentally': 40, 'impromptu': 3395, 'nomming': 4559, 'lawyer': 3855, 'popping': 5070, 'fist': 2594, 'transferred': 7007, 'operating': 4687, 'disappointment': 1879, 'fog': 2652, 'contentedly': 1395, 'gulam': 3014, 'ali': 184, 'classical': 1151, 'singers': 6104, 'destiny': 1798, 'afford': 138, 'primer': 5193, 'ingrain': 3464, 'limbo': 3959, 'adulthood': 118, 'snooped': 6222, 'quaker': 5331, 'announced': 267, 'excitedly': 2352, 'fortnight': 2699, 'legacy': 3891, 'danger': 1622, 'grounded': 2991, 'consciously': 1359, 'replace': 5597, 'reckless': 5466, 'scheduled': 5844, 'elses': 2159, 'challenged': 1038, 'mediterranean': 4203, 'bones': 751, 'surprise': 6644, 'hesitate': 3178, 'improvements': 3400, 'yard': 7682, 'waterside': 7446, 'gina': 2861, 'misgivings': 4298, 'si': 6064, 'bi': 647, 'organization': 4713, 'chosen': 1119, 'packaged': 4775, 'waitrose': 7391, 'parking': 4823, 'bits': 677, 'nerves': 4508, 'ing': 3463, 'dismisses': 1912, 'blindly': 705, 'clinic': 1179, 'ivory': 3625, 'furnitures': 2781, 'spacious': 6315, 'cheerful': 1084, 'consultants': 1382, 'awaiting': 467, 'reception': 5460, 'kinship': 3765, 'mounting': 4387, 'binding': 661, 'glint': 2887, 'madness': 4084, 'pathological': 4857, 'curiosity': 1580, 'snacks': 6203, 'medium': 4204, 'sensible': 5928, 'visual': 7367, 'arts': 375, 'field': 2550, 'xanax': 7669, 'mixing': 4316, 'trails': 6997, 'fells': 2529, 'billy': 660, 'blanks': 694, 'screen': 5866, 'fierceness': 2553, 'paste': 4851, 'stone': 6481, 'manuscript': 4126, 'anxiously': 292, 'bearing': 566, 'ww': 7667, 'wet': 7494, 'improvement': 3399, 'gabapentin': 2787, 'zonisamide': 7732, 'distinctly': 1934, 'multitude': 4419, 'impressions': 3393, 'sip': 6112, 'iced': 3327, 'capp': 952, 'vomit': 7377, 'gush': 3019, 'intact': 3520, 'naked': 4452, 'condescending': 1328, 'sunlight': 6615, 'growth': 2998, 'disadvantaged': 1873, 'entertainments': 2250, 'minimize': 4286, 'keenly': 3734, 'greatly': 2967, 'disrupt': 1927, 'witness': 7592, 'sadistic': 5771, 'miserable': 4296, 'motivate': 4375, 'staying': 6444, 'relentless': 5550, 'veer': 7299, 'disorientated': 1916, 'queasy': 5339, 'repeating': 5594, 'affirmation': 137, 'barbeque': 531, 'conference': 1337, 'suits': 6602, 'reved': 5665, 'virginia': 7353, 'florida': 2637, 'handful': 3050, 'states': 6437, 'barrage': 537, 'swelling': 6674, 'mug': 4415, 'regard': 5510, 'ged': 2820, 'ends': 2215, 'begins': 593, 'pester': 4934, 'zealand': 7723, 'overseas': 4755, 'exhilarating': 2371, 'scenery': 5836, 'resent': 5616, 'facts': 2439, 'fantabulous': 2472, 'acheivment': 58, 'ailments': 165, 'complex': 1302, 'chalking': 1036, 'academia': 27, 'gallery': 2793, 'whistles': 7522, 'grossly': 2987, 'campus': 936, 'adoption': 114, 'kai': 3721, 'harmony': 3087, 'reacting': 5421, 'rd': 5416, 'unfinished': 7170, 'tasks': 6740, 'articles': 366, 'freud': 2736, 'irma': 3591, 'injection': 3472, 'completion': 1301, 'subsequently': 6568, 'boobs': 754, 'hanging': 3061, 'dreaming': 2026, 'inspires': 3503, 'carbs': 960, 'strategies': 6502, 'pour': 5110, 'producer': 5219, 'onscreen': 4676, 'boxing': 789, 'charity': 1061, 'receiving': 5457, 'grade': 2938, 'directly': 1867, 'worthy': 7639, 'decent': 1668, 'efficient': 2129, 'unworthiness': 7233, 'comings': 1254, 'sin': 6097, 'giggly': 2860, 'upbeat': 7236, 'morose': 4364, 'sombre': 6267, 'plateau': 5012, 'wardrobe': 7419, 'manipulkated': 4120, 'lucy': 4066, 'charlie': 1062, 'torso': 6961, 'springer': 6387, 'dorm': 1988, 'inspected': 3499, 'weave': 7465, 'bloody': 721, 'incessant': 3408, 'bitching': 674, 'floating': 2632, 'sidewalk': 6071, 'pothole': 5105, 'hasan': 3093, 'retiring': 5656, 'modest': 4327, 'schadenfreude': 5842, 'theyd': 6854, 'navigating': 4479, 'punching': 5304, 'trail': 6995, 'sigh': 6075, 'detested': 1812, 'ashton': 382, 'isaac': 3602, 'werent': 7491, 'awards': 470, 'heartache': 3131, 'sue': 6588, 'bloater': 708, 'lisa': 3976, 'click': 1170, 'femme': 2534, 'fatale': 2484, 'britneys': 834, 'deliver': 1724, 'soley': 6258, 'anonymous': 275, 'carson': 980, 'potatoes': 5102, 'lashes': 3832, 'hellip': 3159, 'shooter': 6031, 'earn': 2086, 'rolex': 5715, 'collections': 1226, 'novels': 4592, 'drafts': 2007, 'organizing': 4715, 'cravings': 1508, 'coping': 1436, 'method': 4249, 'caption': 953, 'instruction': 3514, 'lee': 3887, 'casually': 990, 'leap': 3873, 'stash': 6432, 'fabric': 2428, 'exhilarated': 2370, 'versus': 7314, 'mistreated': 4310, 'dining': 1855, 'sickening': 6068, 'paused': 4868, 'kakashi': 3723, 'summery': 6608, 'elements': 2152, 'bummin': 872, 'tracy': 6988, 'ii': 3348, 'melancholy': 4211, 'wed': 7469, 'escaped': 2284, 'interminable': 3544, 'bouts': 786, 'bods': 738, 'dressing': 2031, 'gowns': 2931, 'lapels': 3825, 'spectacle': 6335, 'combo': 1242, 'intents': 3534, 'purposes': 5313, 'trustworthy': 7066, 'wink': 7568, 'indulgence': 3445, 'audacity': 444, 'stared': 6420, 'goddess': 2905, 'sympathize': 6691, 'theme': 6842, 'looses': 4034, 'dire': 1861, 'miles': 4269, 'anguish': 257, 'raped': 5399, 'systematically': 6699, 'assassinated': 394, 'intervention': 3553, 'behalf': 595, 'heed': 3150, 'overeating': 4750, 'fullness': 2769, 'hangover': 3062, 'reagan': 5432, 'airport': 171, 'relieve': 5554, 'caregiver': 969, 'lurker': 4074, 'save': 5815, 'chemo': 1089, 'radiation': 5371, 'initally': 3468, 'internist': 3548, 'nasal': 4464, 'sarcoma': 5804, 'everytime': 2327, 'dine': 1853, 'invited': 3581, 'alignment': 187, 'induced': 3443, 'nightlife': 4543, 'speed': 6337, 'invite': 3580, 'send': 5919, 'detailing': 1806, 'promise': 5244, 'unedited': 7160, 'succeeded': 6576, 'elation': 2145, 'dumb': 2063, 'sports': 6376, 'unhealthy': 7179, 'greys': 2976, 'ty': 7108, 'grandeur': 2946, 'motivating': 4377, 'theofilou': 6845, 'nods': 4552, 'kastrioti': 3726, 'lured': 4072, 'champagne': 1042, 'bestselling': 639, 'kathy': 3729, 'lette': 3916, 'empowered': 2192, 'pm': 5037, 'linda': 3964, 'li': 3924, 'border': 764, 'margin': 4131, 'biochem': 664, 'cookies': 1427, 'boyfriends': 792, 'sloppy': 6169, 'disservice': 1930, 'artifically': 369, 'zhu': 7728, 'snapbacks': 6209, 'lotus': 4045, 'wholesale': 7529, 'obey': 4616, 'snapback': 6208, 'buck': 856, 'soapbox': 6233, 'accepts': 37, 'ambulance': 218, 'diazepam': 1830, 'takeing': 6715, 'emptied': 2195, 'brig': 824, 'strengthening': 6509, 'christianity': 1122, 'hockey': 3209, 'pub': 5286, 'pig': 4972, 'duke': 2059, 'parmesan': 4824, 'truffle': 7060, 'prawn': 5131, 'lollipops': 4015, 'bondmusings': 750, 'toys': 6984, 'amish': 224, 'punctual': 5305, 'figt': 2557, 'sulk': 6603, 'commuters': 1272, 'african': 142, 'reliable': 5552, 'buzzy': 908, 'homeschooling': 3228, 'increasing': 3428, 'frustration': 2758, 'artificially': 370, 'dick': 1831, 'hobbs': 3207, 'rebecca': 5452, 'mcpherson': 4179, 'screw': 5867, 'stillness': 6466, 'crim': 1533, 'hefty': 3152, 'weighting': 7482, 'sweating': 6668, 'buckets': 857, 'razor': 5415, 'blades': 688, 'yay': 7684, 'hospital': 3264, 'candy': 940, 'sucking': 6583, 'eid': 2140, 'distracting': 1937, 'sofa': 6249, 'crake': 1495, 'region': 5516, 'visibly': 7359, 'outer': 4730, 'carniola': 976, 'evidence': 2329, 'suburban': 6573, 'spying': 6391, 'zipline': 7729, 'grove': 2994, 'putter': 5323, 'natures': 4474, 'shortlist': 6039, 'congratulate': 1351, 'nominees': 4558, 'tonights': 6952, 'scotland': 5857, 'div': 1944, 'intro': 3561, 'fff': 2543, 'trebuchet': 7027, 'ms': 4405, 'helvetica': 3165, 'bitstream': 678, 'vera': 7310, 'sans': 5799, 'precise': 5140, 'rob': 5710, 'nurture': 4609, 'heal': 3120, 'nakedness': 4453, 'maid': 4087, 'wipe': 7576, 'curtains': 1589, 'program': 5232, 'concepts': 1319, 'drags': 2012, 'presentations': 5163, 'derby': 1761, 'volume': 7376, 'cage': 914, 'testing': 6823, 'hypocrite': 3321, 'palin': 4795, 'pisses': 4990, 'deals': 1655, 'flushing': 2643, 'headache': 3111, 'overrrrrrrrrrrr': 4754, 'illogically': 3352, 'shushing': 6060, 'patrick': 4862, 'avery': 463, 'nightly': 4544, 'jerry': 3660, 'sloan': 6166, 'utah': 7271, 'jazz': 3649, 'existent': 2375, 'insert': 3489, 'whore': 7535, 'merge': 4234, 'porcupine': 5073, 'documented': 1961, 'forsaken': 2697, 'valid': 7286, 'complaint': 1293, 'subjective': 6564, 'throngs': 6885, 'fervor': 2537, 'wallet': 7403, 'encouraged': 2206, 'conclusion': 1325, 'musings': 4433, 'discomfort': 1886, 'bodies': 736, 'mixed': 4315, 'blender': 700, 'provided': 5273, 'butter': 901, 'dragging': 2010, 'schedules': 5846, 'described': 1767, 'eventually': 2318, 'migrate': 4265, 'blatant': 696, 'defiance': 1700, 'olivias': 4667, 'prominent': 5243, 'characteristic': 1056, 'empathy': 2185, 'conditions': 1331, 'eternally': 2298, 'paralysis': 4810, 'predictably': 5147, 'ima': 3356, 'cupcake': 1576, 'reluctance': 5562, 'federal': 2507, 'employ': 2187, 'sheer': 5998, 'numbers': 4602, 'pressing': 5169, 'enthusiasts': 2253, 'gathering': 2811, 'vented': 7307, 'plunging': 5035, 'materials': 4166, 'kits': 3771, 'beautifully': 574, 'curated': 1577, 'sir': 6114, 'mba': 4175, 'gate': 2809, 'proving': 5276, 'typical': 7111, 'juice': 3701, 'smoothie': 6197, 'raw': 5413, 'menu': 4231, 'lone': 4018, 'vomited': 7378, 'artwork': 376, 'concern': 1320, 'flexy': 2622, 'soaked': 6232, 'spoiler': 6367, 'cuts': 1597, 'jakun': 3636, 'locked': 4004, 'ivy': 3627, 'portland': 5078, 'lifestyle': 3939, 'bounce': 781, 'wore': 7614, 'satisfaction': 5808, 'dish': 1905, 'rare': 5406, 'provocative': 5278, 'attentions': 434, 'affections': 135, 'belle': 614, 'sebastian': 5882, 'bummed': 871, 'tempered': 6787, 'kicks': 3750, 'frankly': 2720, 'witches': 7587, 'yo': 7702, 'ushering': 7266, 'toll': 6941, 'capacities': 950, 'hostel': 3267, 'cooperative': 1431, 'slam': 6144, 'bosses': 772, 'harass': 3074, 'museum': 4427, 'visitors': 7365, 'cashier': 986, 'deaf': 1652, 'redden': 5480, 'manhood': 4114, 'hi': 3183, 'tech': 6767, 'splendor': 6361, 'sally': 5786, 'hansen': 3064, 'cha': 1028, 'ching': 1106, 'silver': 6088, 'glitter': 2889, 'fandoms': 2469, 'saints': 5782, 'sport': 6375, 'happily': 3071, 'mouse': 4389, 'perpetually': 4919, 'ambulatory': 219, 'uncertainty': 7134, 'preclude': 5143, 'serving': 5957, 'discovering': 1893, 'weightless': 7483, 'inanimate': 3405, 'property': 5254, 'unsuspecting': 7224, 'unknown': 7197, 'enemy': 2217, 'excitement': 2353, 'dread': 2021, 'brad': 795, 'constraints': 1378, 'packet': 4777, 'antagonism': 283, 'misunderstanding': 4312, 'wholeheartedly': 7528, 'armistice': 350, 'remembrances': 5576, 'siwons': 6126, 'factors': 2437, 'cooking': 1428, 'mystique': 4441, 'firey': 2588, 'gfathers': 2853, 'ute': 7272, 'prefer': 5150, 'manure': 4125, 'compost': 1308, 'colourful': 1236, 'turns': 7093, 'tip': 6918, 'heaving': 3145, 'flashing': 2607, 'admission': 107, 'puppies': 5309, 'ratty': 5412, 'dickensian': 1832, 'orphans': 4719, 'wash': 7433, 'persons': 4930, 'prior': 5198, 'coercive': 1212, 'pushy': 5320, 'invented': 3570, 'hail': 3035, 'ember': 2170, 'flake': 2603, 'whelming': 7503, 'rules': 5747, 'regimented': 5515, 'resident': 5622, 'gathers': 2812, 'declare': 1678, 'songy': 6284, 'runnin': 5750, 'bein': 604, 'confined': 1342, 'stic': 6459, 'stable': 6402, 'mythology': 4444, 'iolani': 3586, 'attribute': 441, 'romantic': 5721, 'annoy': 268, 'oscar': 4721, 'denounced': 1742, 'grotesque': 2988, 'unrealistic': 7211, 'economic': 2110, 'worrys': 7633, 'kairi': 3722, 'melting': 4217, 'taylor': 6751, 'swift': 6676, 'basks': 547, 'writes': 7656, 'overtones': 4759, 'ink': 3475, 'daydreaming': 1645, 'shove': 6052, 'panties': 4802, 'predict': 5145, 'solved': 6265, 'iterations': 3621, 'envous': 2270, 'emphasize': 2186, 'laiya': 3813, 'jennifer': 3656, 'scampering': 5826, 'cumberland': 1573, 'thru': 6890, 'scenario': 5834, 'pair': 4792, 'designer': 1776, 'trimmings': 7046, 'attire': 436, 'insomnia': 3497, 'creep': 1528, 'grew': 2974, 'hyperventilating': 3320, 'killed': 3755, 'mistresses': 4311, 'assume': 412, 'eschew': 2285, 'foraging': 2671, 'edition': 2119, 'disoriented': 1917, 'mid': 4257, 'insecurity': 3487, 'persona': 4924, 'whod': 7525, 'insecured': 3485, 'hamper': 3044, 'batch': 549, 'realization': 5439, 'besides': 637, 'cammie': 933, 'sobbing': 6236, 'swings': 6681, 'outburst': 4727, 'shielding': 6008, 'offspring': 4655, 'outweighs': 4742, 'aloft': 199, 'reflection': 5497, 'rainy': 5383, 'climate': 1174, 'paulie': 4867, 'greatness': 2968, 'sai': 5779, 'reflect': 5495, 'sparkle': 6321, 'grim': 2981, 'neighborhood': 4501, 'serves': 5954, 'humiliated': 3298, 'sor': 6295, 'complimented': 1305, 'plays': 5021, 'criminals': 1536, 'brassed': 800, 'musicians': 4432, 'floor': 2633, 'offers': 4650, 'phoenix': 4946, 'thanked': 6832, 'believed': 609, 'cramps': 1499, 'fooled': 2667, 'thanking': 6836, 'pile': 4974, 'neon': 4506, 'shizz': 6024, 'viewpoint': 7335, 'geez': 2821, 'cara': 958, 'beaten': 570, 'mord': 4359, 'sith': 6120, 'progressing': 5235, 'commercialism': 1259, 'slapping': 6148, 'boil': 742, 'shallow': 5980, 'atention': 419, 'misstreated': 4307, 'affeccion': 132, 'sharknado': 5990, 'irregardless': 3595, 'believes': 610, 'achieved': 60, 'caretakers': 972, 'hourglass': 3272, 'zack': 7719, 'marriages': 4141, 'deaths': 1659, 'seriousness': 5950, 'elderly': 2147, 'oven': 4744, 'follower': 2660, 'pagan': 4780, 'originated': 4718, 'modern': 4325, 'secondary': 5884, 'chased': 1067, 'clutched': 1202, 'overcome': 4746, 'beneficial': 629, 'janne': 3642, 'suominen': 6618, 'petronas': 4939, 'performed': 4907, 'profit': 5230, 'visable': 7357, 'spotlighted': 6378, 'unfashionable': 7168, 'hatter': 3103, 'alice': 185, 'mehow': 4210, 'april': 339, 'infield': 3453, 'insider': 3491, 'adds': 96, 'capture': 954, 'essence': 2291, 'consistent': 1369, 'chronically': 1126, 'lovers': 4055, 'upsets': 7249, 'passions': 4848, 'channel': 1050, 'treader': 7019, 'hardcover': 3077, 'visitor': 7364, 'colored': 1231, 'pencils': 4889, 'hosted': 3266, 'narrow': 4463, 'print': 5195, 'emptiness': 2196, 'baggage': 504, 'parked': 4822, 'pushed': 5318, 'terpene': 6812, 'flavour': 2614, 'porn': 5074, 'industry': 3447, 'bucks': 858, 'sacrifices': 5768, 'puzzles': 5327, 'teaches': 6759, 'instructions': 3515, 'tattoo': 6747, 'element': 2151, 'adorable': 115, 'garments': 2806, 'imdoing': 3363, 'vividly': 7370, 'unfairly': 7166, 'inches': 3410, 'separating': 5939, 'flighty': 2626, 'incomplete': 3420, 'longest': 4024, 'strikes': 6517, 'describes': 1768, 'unpressed': 7209, 'outlet': 4735, 'smiles': 6189, 'boisterous': 743, 'untrieds': 7226, 'generator': 2832, 'ta': 6700, 'jz': 3720, 'titanium': 6925, 'hedgehog': 3149, 'moisturiser': 4330, 'sample': 5789, 'lasting': 3834, 'gentle': 2839, 'cleansing': 1161, 'moisturising': 4331, 'factor': 2436, 'hampered': 3045, 'dent': 1743, 'horsey': 3263, 'catalyst': 992, 'abbigail': 6, 'apraxia': 338, 'florence': 2636, 'naman': 4455, 'na': 4445, 'dummies': 2064, 'pariah': 4819, 'warp': 7429, 'fold': 2654, 'impostor': 3387, 'trophy': 7055, 'pots': 5106, 'consists': 1371, 'poop': 5065, 'pea': 4877, 'cycle': 1602, 'binging': 663, 'intrusive': 3565, 'whereas': 7505, 'defeated': 1692, 'failing': 2445, 'overconfident': 4748, 'selective': 5910, 'privacys': 5202, 'motivations': 4379, 'sumthg': 6610, 'thk': 6870, 'wind': 7559, 'recommendation': 5472, 'web': 7466, 'searched': 5877, 'squeak': 6393, 'baachan': 483, 'trolley': 7053, 'minor': 4288, 'tantrum': 6733, 'slink': 6162, 'drank': 2016, 'targeted': 6736, 'spook': 6373, 'reiterate': 5526, 'despondent': 1793, 'mermaidhaire': 4237, 'countries': 1469, 'dreadful': 2023, 'railway': 5379, 'burger': 885, 'suggestion': 6597, 'shutting': 6062, 'embarrased': 2167, 'xango': 7670, 'anyways': 300, 'doha': 1966, 'production': 5221, 'annulment': 273, 'mouth': 4391, 'fulfill': 2764, 'economy': 2112, 'picks': 4962, 'stumped': 6549, 'specially': 6330, 'continental': 1399, 'purely': 5311, 'heaven': 3141, 'asbestos': 379, 'perceive': 4897, 'dint': 1859, 'drops': 2044, 'inconsistent': 3422, 'pumpin': 5300, 'tendency': 6799, 'narcissism': 4460, 'justifying': 3717, 'beast': 568, 'shot': 6043, 'screamed': 5864, 'gooooood': 2920, 'reassuring': 5450, 'temp': 6784, 'stripped': 6520, 'anybody': 293, 'vibration': 7320, 'sympathizing': 6692, 'aligncenter': 186, 'wp': 7646, 'mrdanbaird': 4402, 'gentleman': 2840, 'greed': 2969, 'recordings': 5474, 'whining': 7514, 'winterpaysforsummer': 7573, 'stage': 6407, 'entering': 2247, 'rage': 5374, 'crossfit': 1546, 'coach': 1206, 'plank': 5003, 'stills': 6467, 'aimlessly': 167, 'unloved': 7201, 'pileon': 4975, 'knock': 3781, 'backlogs': 492, 'cramping': 1498, 'abdomen': 8, 'pelvis': 4886, 'projector': 5239, 'displeasing': 1922, 'musty': 4435, 'weighing': 7480, 'influencing': 3456, 'flirt': 2630, 'em': 2162, 'identifying': 3333, 'striking': 6518, 'trouble': 7056, 'ros': 5727, 'anna': 263, 'wealth': 7458, 'accomplishing': 45, 'secrets': 5888, 'smothered': 6200, 'assholes': 402, 'berate': 635, 'nurse': 4604, 'commit': 1261, 'engagement': 2226, 'newbie': 4523, 'scares': 5829, 'calves': 928, 'surgeries': 6642, 'emergencies': 2173, 'bouncier': 783, 'halfway': 3041, 'bathing': 551, 'remembrance': 5575, 'justin': 3718, 'aryiku': 378, 'falls': 2458, 'sabotaging': 5764, 'uglier': 7116, 'deformed': 1709, 'breaks': 808, 'emanating': 2165, 'longingly': 4026, 'probing': 5209, 'hardness': 3081, 'mcas': 4176, 'idealized': 3330, 'dangers': 1625, 'banter': 527, 'seth': 5961, 'locks': 4007, 'recover': 5476, 'escape': 2283, 'inclined': 3414, 'kook': 3792, 'solves': 6266, 'skip': 6139, 'grinned': 2983, 'partially': 4828, 'tolerated': 6940, 'brooding': 840, 'gnawing': 2899, 'deeper': 1687, 'creature': 1523, 'monastery': 4339, 'stock': 6477, 'tomfoolery': 6943, 'shenanigans': 6003, 'action': 72, 'advocate': 128, 'wrinkle': 7651, 'prevention': 5182, 'bleu': 703, 'prey': 5185, 'finality': 2569, 'qaf': 5330, 'cryin': 1562, 'jacynthe': 3632, 'lookin': 4029, 'rupaul': 5753, 'skins': 6138, 'scissor': 5852, 'valentine': 7284, 'kayle': 3732, 'gerling': 2845, 'historian': 3201, 'unfulfilled': 7175, 'unavoidably': 7130, 'shortcomings': 6038, 'runner': 5749, 'feeble': 2512, 'examine': 2338, 'exempted': 2361, 'uplifted': 7240, 'martinez': 4149, 'association': 410, 'cats': 1000, 'abyss': 26, 'irresponcible': 3598, 'continues': 1403, 'supermarket': 6623, 'teenage': 6773, 'playoffs': 5020, 'wing': 7566, 'ruslan': 5758, 'fedotenko': 2509, 'notes': 4582, 'louder': 4048, 'crisp': 1538, 'krupke': 3793, 'crashing': 1505, 'aac': 1, 'aftermath': 143, 'norm': 4568, 'unmotivated': 7204, 'curiously': 1581, 'victorious': 7326, 'promised': 5245, 'vain': 7283, 'admiration': 104, 'amy': 236, 'network': 4516, 'revovles': 5672, 'ansi': 278, 'exhausting': 2368, 'knit': 3778, 'excruciating': 2355, 'bizarre': 682, 'eloquent': 2157, 'charm': 1063, 'array': 359, 'delights': 1723, 'legard': 3892, 'discover': 1891, 'keith': 3738, 'detoured': 1813, 'tourist': 6976, 'xela': 7673, 'herzog': 3175, 'wets': 7495, 'surface': 6638, 'strokes': 6524, 'thankfulness': 6835, 'gesture': 2848, 'disgruntled': 1902, 'row': 5738, 'headphones': 3118, 'reply': 5600, 'bleed': 697, 'holistic': 3218, 'enthusiastic': 2252, 'insulting': 3518, 'responding': 5637, 'riled': 5691, 'unsheathe': 7218, 'sword': 6685, 'newly': 4526, 'developed': 1817, 'solely': 6255, 'interactions': 3537, 'introduce': 3562, 'newest': 4525, 'sponsor': 6371, 'giveaways': 2867, 'depend': 1750, 'tch': 6753, 'prove': 5269, 'contracts': 1408, 'reinforcement': 5525, 'cognitive': 1214, 'reframing': 5499, 'diminishing': 1851, 'dissolving': 1931, 'deferring': 1698, 'belonging': 618, 'incase': 3407, 'runs': 5752, 'entries': 2259, 'humanly': 3292, 'seeps': 5902, 'tourists': 6977, 'appeal': 318, 'impressed': 3390, 'dunham': 2070, 'portrayed': 5082, 'hannahs': 3063, 'minimise': 4285, 'distress': 1940, 'marrying': 4144, 'scheme': 5847, 'beads': 562, 'vexed': 7316, 'types': 7110, 'twitch': 7102, 'swell': 6673, 'quiver': 5357, 'expression': 2411, 'gradually': 2940, 'pacified': 4771, 'coordinate': 1432, 'apology': 314, 'whined': 7512, 'subconscious': 6560, 'believing': 611, 'swung': 6686, 'emm': 2176, 'executed': 2358, 'topping': 6959, 'comparison': 1281, 'slice': 6155, 'spinach': 6349, 'feta': 2539, 'cranberry': 1500, 'salad': 5784, 'balsamic': 513, 'viniagrette': 7346, 'cognize': 1215, 'disregarding': 1924, 'cosmos': 1452, 'yearses': 7689, 'saudi': 5812, 'perfume': 4909, 'scented': 5839, 'terminal': 6809, 'dulles': 2062, 'rash': 5408, 'denmark': 1740, 'kj': 3773, 'permalink': 4915, 'middot': 4259, 'tremors': 7032, 'axel': 482, 'murt': 4425, 'panicked': 4799, 'guests': 3007, 'alise': 188, 'smooth': 6196, 'monetarily': 4341, 'gene': 2823, 'dominant': 1970, 'poet': 5041, 'spew': 6343, 'desperation': 1789, 'depleted': 1754, 'checklist': 1079, 'ivspirit': 3626, 'translatethis': 7011, 'marginalised': 4132, 'roads': 5706, 'define': 1703, 'layout': 3861, 'bicycle': 652, 'transport': 7012, 'confront': 1346, 'absolute': 19, 'openness': 4685, 'disciples': 1882, 'manifestations': 4116, 'ness': 4512, 'vegitarianism': 7303, 'snippy': 6219, 'disability': 1871, 'laying': 3860, 'jackson': 3631, 'cnn': 1204, 'quarter': 5337, 'snowboarding': 6227, 'fifteen': 2554, 'majority': 4097, 'manipulate': 4118, 'positioned': 5086, 'prupose': 5280, 'stirred': 6474, 'bond': 747, 'reference': 5490, 'ehh': 2139, 'sweeteners': 6671, 'refined': 5494, 'sugars': 6595, 'dazzling': 1649, 'cert': 1024, 'required': 5611, 'neighbor': 4500, 'raging': 5376, 'pms': 5038, 'erupt': 2282, 'term': 6808, 'spats': 6323, 'consequence': 1360, 'theyll': 6855, 'whingeing': 7513, 'completing': 1300, 'brandy': 799, 'taiwan': 6712, 'funk': 2777, 'humbug': 3297, 'annoyance': 269, 'ecstasy': 2113, 'triumph': 7050, 'determination': 1809, 'desp': 1785, 'gander': 2800, 'donut': 1978, 'jumps': 3708, 'regulated': 5522, 'rex': 5674, 'dingler': 1854, 'humping': 3301, 'hip': 3200, 'cambodia': 930, 'lax': 3856, 'vertigo': 7315, 'kim': 3757, 'diversity': 1946, 'trepidatious': 7035, 'comprehensive': 1310, 'exams': 2341, 'survive': 6653, 'chipping': 1110, 'website': 7468, 'frequented': 2732, 'oatmeal': 4614, 'bombed': 745, 'interview': 3554, 'tastic': 6743, 'shavings': 5996, 'precision': 5142, 'exposing': 2407, 'concerns': 1323, 'pensive': 4892, 'doodly': 1979, 'puzzled': 5326, 'trendy': 7034, 'ignorant': 3344, 'chore': 1117, 'exploration': 2401, 'liberty': 3929, 'assignment': 403, 'ingrained': 3465, 'constructively': 1380, 'studies': 6541, 'snappy': 6210, 'comforting': 1250, 'louche': 4046, 'sharp': 5991, 'uttering': 7276, 'wishful': 7585, 'responsibility': 5641, 'commitment': 1262, 'brewing': 820, 'wild': 7548, 'angie': 252, 'pirate': 4988, 'landlubber': 3821, 'discuss': 1895, 'gatorade': 2813, 'condone': 1332, 'glimpses': 2886, 'fling': 2628, 'unfurling': 7176, 'newtown': 4530, 'gleefully': 2884, 'roasting': 5709, 'marshmallows': 4145, 'fireplace': 2587, 'original': 4717, 'likeable': 3950, 'shoulding': 6047, 'brink': 831, 'splash': 6359, 'subcontinent': 6562, 'chai': 1030, 'encouragement': 2207, 'snow': 6226, 'dust': 2072, 'reread': 5612, 'clown': 1194, 'awkwardly': 479, 'melbourne': 4212, 'justanswer': 3712, 'xbla': 7671, 'sony': 6287, 'handheld': 3051, 'scarf': 5830, 'complaints': 1294, 'kidnapped': 3752, 'creme': 1531, 'supervising': 6626, 'contacts': 1389, 'workings': 7620, 'evolve': 2331, 'transcend': 7005, 'messy': 4242, 'starving': 6431, 'ethiopia': 2301, 'forefingers': 2677, 'thumbs': 6893, 'existed': 2374, 'peers': 4885, 'bridge': 822, 'continuity': 1405, 'sniiiiifff': 6216, 'honey': 3236, 'enriching': 2241, 'italian': 3615, 'wryly': 7665, 'banal': 515, 'comedy': 1245, 'errors': 2280, 'refers': 5493, 'ironically': 3592, 'loudons': 4050, 'kate': 3728, 'mcgarrigle': 4178, 'rufus': 5743, 'wainwright': 7387, 'remedy': 5571, 'fiddly': 2549, 'necessities': 4487, 'actresses': 82, 'bewildered': 644, 'commands': 1256, 'jew': 3662, 'prohibition': 5236, 'vbac': 7298, 'snatched': 6211, 'captured': 955, 'abandonment': 5, 'cliche': 1169, 'surroundings': 6651, 'myriad': 4437, 'tick': 6898, 'keyboard': 3742, 'spilled': 6347, 'snippet': 6218, 'kyuhyun': 3795, 'apgujeong': 310, 'hyunjin': 3323, 'breathed': 813, 'britain': 832, 'immediate': 3366, 'earning': 2087, 'stages': 6408, 'nervousness': 4511, 'behaviour': 600, 'apc': 309, 'silent': 6085, 'expressions': 2412, 'unappreciated': 7128, 'smash': 6182, 'shouted': 6051, 'haze': 3109, 'pavement': 4870, 'correction': 1448, 'hears': 3129, 'mile': 4268, 'lighter': 3946, 'warrick': 7430, 'naivety': 4451, 'spritz': 6388, 'toner': 6947, 'oomph': 4678, 'heated': 3139, 'spouse': 6380, 'concerning': 1322, 'disposable': 1923, 'mall': 4105, 'tremendously': 7031, 'actors': 81, 'skilled': 6133, 'presentational': 5162, 'backgrounds': 490, 'wilder': 7549, 'classmates': 1152, 'generation': 2829, 'learns': 3878, 'openly': 4684, 'advise': 127, 'dads': 1608, 'smelly': 6186, 'jalopy': 3637, 'displaced': 1918, 'signs': 6083, 'addictive': 91, 'glory': 2892, 'empathize': 2184, 'vocal': 7374, 'opinion': 4689, 'rediculous': 5483, 'justified': 3715, 'sentimental': 5935, 'destinies': 1797, 'yunhos': 7716, 'raps': 5404, 'wtf': 7666, 'blame': 691, 'snap': 6207, 'representing': 5604, 'universal': 7192, 'metaphor': 4247, 'scientist': 5851, 'observing': 4624, 'zero': 7726, 'gravity': 2962, 'showed': 6054, 'meals': 4183, 'biochemistry': 665, 'prospects': 5258, 'zambia': 7720, 'hun': 3302, 'hype': 3317, 'nurses': 4607, 'boo': 752, 'friggety': 2745, 'hoo': 3241, 'personnel': 4929, 'veering': 7300, 'stereotypes': 6457, 'bleeding': 698, 'dozens': 2002, 'preface': 5149, 'disclaimer': 1883, 'peta': 4935, 'introduction': 3563, 'continuous': 1406, 'wounded': 7644, 'burdened': 883, 'vey': 7317, 'oncology': 4670, 'dpt': 2004, 'paranoiud': 4813, 'aaron': 2, 'grandma': 2948, 'alarm': 175, 'overtook': 4760, 'sitter': 6122, 'grammar': 2943, 'disclosure': 1884, 'collaboration': 1221, 'unemotional': 7162, 'presenting': 5165, 'dragged': 2009, 'disgusting': 1904, 'piles': 4976, 'driver': 2038, 'slumber': 6175, 'mri': 4403, 'momma': 4336, 'willed': 7550, 'tx': 7107, 'sassiness': 5806, 'loathe': 3998, 'stuffed': 6547, 'owen': 4765, 'morgan': 4360, 'undertaking': 7150, 'rampant': 5389, 'stasia': 6433, 'mythical': 4442, 'separately': 5938, 'clicked': 1171, 'loudly': 4049, 'nd': 4481, 'vlog': 7372, 'heinous': 3155, 'lacy': 3805, 'string': 6519, 'underneath': 7144, 'refresh': 5500, 'mighty': 4263, 'roar': 5707, 'tuesday': 7081, 'caffeined': 913, 'moz': 4401, 'mindset': 4282, 'concentrating': 1317, 'scoop': 5854, 'bs': 853, 'gutted': 3022, 'halls': 3042, 'residence': 5621, 'uni': 7180, 'booking': 757, 'pe': 4876, 'karen': 3724, 'demanding': 1729, 'fronts': 2753, 'referee': 5489, 'partial': 4827, 'effectively': 2127, 'quivering': 5358, 'lapse': 3827, 'shivering': 6023, 'accelerated': 29, 'flickering': 2623, 'racing': 5368, 'heralding': 3170, 'sensibilities': 5927, 'locker': 4005, 'takings': 6721, 'donated': 1972, 'easel': 2094, 'info': 3457, 'offense': 4646, 'frightening': 2748, 'frightful': 2749, 'vulnerability': 7384, 'fills': 2566, 'aesthetics': 130, 'dancers': 1620, 'flailing': 2602, 'lawrencewashington': 3853, 'trivial': 7052, 'fade': 2441, 'hairstyle': 3038, 'droop': 2041, 'frizz': 2750, 'aching': 64, 'finn': 2585, 'censored': 1018, 'racial': 5367, 'slur': 6176, 'aimed': 166, 'battered': 554, 'posed': 5084, 'cutesy': 1596, 'vintage': 7347, 'temptation': 6792, 'riders': 5681, 'clients': 1173, 'doors': 1982, 'bundles': 877, 'sites': 6119, 'employees': 2188, 'rapidly': 5402, 'ramadan': 5387, 'freshman': 2735, 'clearer': 1163, 'marveling': 4151, 'enormously': 2238, 'twist': 7099, 'respectful': 5635, 'incrementally': 3432, 'throwing': 6888, 'rigid': 5689, 'paranoia': 4811, 'caveman': 1011, 'crafted': 1494, 'expressive': 2413, 'sacred': 5766, 'communion': 1269, 'sublime': 6566, 'spitting': 6358, 'arun': 377, 'climbing': 1177, 'horizontal': 3256, 'cramped': 1497, 'youtube': 7714, 'influences': 3455, 'trends': 7033, 'promptings': 5248, 'quicker': 5348, 'pie': 4968, 'crust': 1559, 'justification': 3714, 'weakest': 7456, 'graduation': 2942, 'tends': 6801, 'euphoria': 2305, 'bets': 642, 'liar': 3925, 'inaction': 3404, 'resisting': 5624, 'peregrinos': 4901, 'bonding': 749, 'wardrode': 7420}\n"
          ]
        }
      ]
    },
    {
      "cell_type": "code",
      "source": [
        "NB_model = MultinomialNB()\n",
        "\n",
        "# Model training\n",
        "NB_model.fit(X_train_cv, y_train)\n",
        "y_pred = NB_model.predict(X_test_cv)\n",
        "# Print accuracy score\n",
        "print(accuracy_score(y_test, y_pred))"
      ],
      "metadata": {
        "colab": {
          "base_uri": "https://localhost:8080/"
        },
        "id": "E8PD1a82uIq4",
        "outputId": "7590f65b-e3e3-460f-cc66-ff6b9281822d"
      },
      "execution_count": 29,
      "outputs": [
        {
          "output_type": "stream",
          "name": "stdout",
          "text": [
            "0.8897306397306397\n"
          ]
        }
      ]
    },
    {
      "cell_type": "code",
      "source": [
        "RFC_model = RandomForestClassifier()\n",
        "\n",
        "RFC_model.fit(X_train_cv, y_train)\n",
        "\n",
        "# Get the predictions for X_test and store it in y_pred\n",
        "y_pred = RFC_model.predict(X_test_cv)\n",
        "# Print Accuracy\n",
        "print(accuracy_score(y_test, y_pred))"
      ],
      "metadata": {
        "colab": {
          "base_uri": "https://localhost:8080/"
        },
        "id": "6v7Aby1luO-1",
        "outputId": "f45f40b0-fafb-4065-85db-7e91bc791fae"
      },
      "execution_count": 30,
      "outputs": [
        {
          "output_type": "stream",
          "name": "stdout",
          "text": [
            "0.9385521885521886\n"
          ]
        }
      ]
    },
    {
      "cell_type": "code",
      "source": [
        "print(classification_report(y_test, y_pred))"
      ],
      "metadata": {
        "colab": {
          "base_uri": "https://localhost:8080/"
        },
        "id": "PYa4ZXQ-uS1U",
        "outputId": "776c6105-c499-4aef-dea1-9e266abf79ad"
      },
      "execution_count": 31,
      "outputs": [
        {
          "output_type": "stream",
          "name": "stdout",
          "text": [
            "              precision    recall  f1-score   support\n",
            "\n",
            "           0       0.95      0.91      0.93       400\n",
            "           1       0.92      0.95      0.93       388\n",
            "           2       0.95      0.96      0.96       400\n",
            "\n",
            "    accuracy                           0.94      1188\n",
            "   macro avg       0.94      0.94      0.94      1188\n",
            "weighted avg       0.94      0.94      0.94      1188\n",
            "\n"
          ]
        }
      ]
    }
  ]
}